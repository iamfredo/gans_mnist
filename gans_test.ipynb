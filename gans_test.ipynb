{
 "cells": [
  {
   "cell_type": "code",
   "execution_count": 77,
   "metadata": {},
   "outputs": [],
   "source": [
    "import tensorflow as tf\n",
    "import glob\n",
    "import imageio\n",
    "import matplotlib.pyplot as plt\n",
    "import numpy as np\n",
    "import os\n",
    "import pandas as pd\n",
    "import PIL\n",
    "from tensorflow.keras import layers\n",
    "import time\n",
    "\n",
    "from IPython import display"
   ]
  },
  {
   "cell_type": "markdown",
   "metadata": {},
   "source": [
    "# Load & Normalize Data (-1 to 1)"
   ]
  },
  {
   "cell_type": "code",
   "execution_count": 78,
   "metadata": {},
   "outputs": [],
   "source": [
    "(X_train, y_train), (X_test, y_test) = tf.keras.datasets.mnist.load_data()\n",
    "\n",
    "X_train = X_train.reshape(X_train.shape[0], 28, 28, 1).astype('float32')\n",
    "X_test = X_test.reshape(X_test.shape[0], 28, 28, 1).astype('float32')\n",
    "\n",
    "X_train = (X_train - 127.5) / 127.5\n",
    "X_test = (X_test - 127.5) / 127.5\n",
    "\n",
    "BUFFER_SIZE = 60000\n",
    "BATCH_SIZE = 100\n",
    "\n",
    "train_dataset = tf.data.Dataset.from_tensor_slices(X_train[:60000]).shuffle(BUFFER_SIZE).batch(BATCH_SIZE)"
   ]
  },
  {
   "cell_type": "code",
   "execution_count": 79,
   "metadata": {},
   "outputs": [],
   "source": [
    "# FASHION MNIST\n",
    "\n",
    "(X_train_fash, y_train_fash), (X_test_fash, y_test_fash) = tf.keras.datasets.fashion_mnist.load_data()\n",
    "X_train_fash = X_train_fash.reshape(X_train_fash.shape[0], 28, 28, 1).astype('float32')\n",
    "X_test_fash = X_test_fash.reshape(X_test_fash.shape[0], 28, 28, 1).astype('float32')\n",
    "\n",
    "X_train_fash = (X_train_fash - 127.5) / 127.5\n",
    "X_test_fash = (X_test_fash - 127.5) / 127.5"
   ]
  },
  {
   "cell_type": "markdown",
   "metadata": {},
   "source": [
    "# Prepare Datasets"
   ]
  },
  {
   "cell_type": "code",
   "execution_count": 80,
   "metadata": {},
   "outputs": [
    {
     "data": {
      "text/plain": [
       "<matplotlib.image.AxesImage at 0x32297d610>"
      ]
     },
     "execution_count": 80,
     "metadata": {},
     "output_type": "execute_result"
    },
    {
     "data": {
      "image/png": "[encoded data removed]",
      "text/plain": [
       "<Figure size 432x288 with 1 Axes>"
      ]
     },
     "metadata": {
      "needs_background": "light"
     },
     "output_type": "display_data"
    }
   ],
   "source": [
    "plt.imshow(X_train[y_train == 3][999])"
   ]
  },
  {
   "cell_type": "code",
   "execution_count": 81,
   "metadata": {},
   "outputs": [],
   "source": [
    "classes = {}\n",
    "\n",
    "for i in range(10):\n",
    "    classes[f\"df_{i}\"] = X_train[:60000][y_train[:60000] == i]"
   ]
  },
  {
   "cell_type": "code",
   "execution_count": 82,
   "metadata": {},
   "outputs": [
    {
     "name": "stdout",
     "output_type": "stream",
     "text": [
      "0 6000\n",
      "1 6000\n",
      "2 6000\n",
      "3 6000\n",
      "4 6000\n",
      "5 6000\n",
      "6 6000\n",
      "7 6000\n",
      "8 6000\n",
      "9 6000\n"
     ]
    }
   ],
   "source": [
    "# FASHION MNIST\n",
    "fashion_classes = {}\n",
    "\n",
    "for i in range(10):\n",
    "    fashion_classes[f\"df_{i}\"] = X_train_fash[:60000][y_train_fash[:60000] == i]\n",
    "\n",
    "for i in range(10):\n",
    "    print(i, len(fashion_classes[f\"df_{i}\"]))"
   ]
  },
  {
   "cell_type": "code",
   "execution_count": 83,
   "metadata": {},
   "outputs": [
    {
     "name": "stdout",
     "output_type": "stream",
     "text": [
      "0 5923\n",
      "1 6742\n",
      "2 5958\n",
      "3 6131\n",
      "4 5842\n",
      "5 5421\n",
      "6 5918\n",
      "7 6265\n",
      "8 5851\n",
      "9 5949\n"
     ]
    }
   ],
   "source": [
    "for i in range(10):\n",
    "    print(i, len(classes[f\"df_{i}\"]))"
   ]
  },
  {
   "cell_type": "code",
   "execution_count": 84,
   "metadata": {},
   "outputs": [],
   "source": [
    "datasets_train = {}\n",
    "train_dataset_0 = tf.data.Dataset.from_tensor_slices(classes[\"df_0\"][:1000]).shuffle(len(classes[\"df_0\"][:1000])).batch(BATCH_SIZE)\n",
    "train_dataset_1 = tf.data.Dataset.from_tensor_slices(classes[\"df_1\"][:1000]).shuffle(len(classes[\"df_1\"][:1000])).batch(BATCH_SIZE)\n",
    "train_dataset_2 = tf.data.Dataset.from_tensor_slices(classes[\"df_2\"][:1000]).shuffle(len(classes[\"df_2\"][:1000])).batch(BATCH_SIZE)\n",
    "train_dataset_3 = tf.data.Dataset.from_tensor_slices(classes[\"df_3\"][:1000]).shuffle(len(classes[\"df_3\"][:1000])).batch(BATCH_SIZE)\n",
    "train_dataset_4 = tf.data.Dataset.from_tensor_slices(classes[\"df_4\"][:1000]).shuffle(len(classes[\"df_4\"][:1000])).batch(BATCH_SIZE)\n",
    "train_dataset_5 = tf.data.Dataset.from_tensor_slices(classes[\"df_5\"][:1000]).shuffle(len(classes[\"df_5\"][:1000])).batch(BATCH_SIZE)\n",
    "train_dataset_6 = tf.data.Dataset.from_tensor_slices(classes[\"df_6\"][:1000]).shuffle(len(classes[\"df_6\"][:1000])).batch(BATCH_SIZE)\n",
    "train_dataset_7 = tf.data.Dataset.from_tensor_slices(classes[\"df_7\"][:1000]).shuffle(len(classes[\"df_7\"][:1000])).batch(BATCH_SIZE)\n",
    "train_dataset_8 = tf.data.Dataset.from_tensor_slices(classes[\"df_8\"][:1000]).shuffle(len(classes[\"df_8\"][:1000])).batch(BATCH_SIZE)\n",
    "train_dataset_9 = tf.data.Dataset.from_tensor_slices(classes[\"df_9\"][:1000]).shuffle(len(classes[\"df_9\"][:1000])).batch(BATCH_SIZE)\n",
    "datasets_train[0] = train_dataset_0\n",
    "datasets_train[1] = train_dataset_1\n",
    "datasets_train[2] = train_dataset_2\n",
    "datasets_train[3] = train_dataset_3\n",
    "datasets_train[4] = train_dataset_4\n",
    "datasets_train[5] = train_dataset_5\n",
    "datasets_train[6] = train_dataset_6\n",
    "datasets_train[7] = train_dataset_7\n",
    "datasets_train[8] = train_dataset_8\n",
    "datasets_train[9] = train_dataset_9\n",
    "\n"
   ]
  },
  {
   "cell_type": "code",
   "execution_count": 85,
   "metadata": {},
   "outputs": [],
   "source": [
    "train_dataset_0_fash = tf.data.Dataset.from_tensor_slices(fashion_classes[\"df_0\"]).shuffle(len(fashion_classes[\"df_0\"])).batch(BATCH_SIZE)\n",
    "train_dataset_1_fash = tf.data.Dataset.from_tensor_slices(fashion_classes[\"df_1\"]).shuffle(len(fashion_classes[\"df_1\"])).batch(BATCH_SIZE)\n",
    "train_dataset_2_fash = tf.data.Dataset.from_tensor_slices(fashion_classes[\"df_2\"]).shuffle(len(fashion_classes[\"df_2\"])).batch(BATCH_SIZE)\n",
    "train_dataset_3_fash = tf.data.Dataset.from_tensor_slices(fashion_classes[\"df_3\"]).shuffle(len(fashion_classes[\"df_3\"])).batch(BATCH_SIZE)\n",
    "train_dataset_4_fash = tf.data.Dataset.from_tensor_slices(fashion_classes[\"df_4\"]).shuffle(len(fashion_classes[\"df_4\"])).batch(BATCH_SIZE)\n",
    "train_dataset_5_fash = tf.data.Dataset.from_tensor_slices(fashion_classes[\"df_5\"]).shuffle(len(fashion_classes[\"df_5\"])).batch(BATCH_SIZE)\n",
    "train_dataset_6_fash = tf.data.Dataset.from_tensor_slices(fashion_classes[\"df_6\"]).shuffle(len(fashion_classes[\"df_6\"])).batch(BATCH_SIZE)\n",
    "train_dataset_7_fash = tf.data.Dataset.from_tensor_slices(fashion_classes[\"df_7\"]).shuffle(len(fashion_classes[\"df_7\"])).batch(BATCH_SIZE)\n",
    "train_dataset_8_fash = tf.data.Dataset.from_tensor_slices(fashion_classes[\"df_8\"]).shuffle(len(fashion_classes[\"df_8\"])).batch(BATCH_SIZE)\n",
    "train_dataset_9_fash = tf.data.Dataset.from_tensor_slices(fashion_classes[\"df_9\"]).shuffle(len(fashion_classes[\"df_9\"])).batch(BATCH_SIZE)"
   ]
  },
  {
   "cell_type": "markdown",
   "metadata": {},
   "source": [
    "# Create GENERATOR"
   ]
  },
  {
   "cell_type": "code",
   "execution_count": 86,
   "metadata": {},
   "outputs": [],
   "source": [
    "from tensorflow.keras import layers\n",
    "\n",
    "\n",
    "def create_generator_model():\n",
    "    model = tf.keras.Sequential()\n",
    "    model.add(layers.Dense(7*7*256, use_bias=False, input_shape=(100,)))\n",
    "    model.add(layers.BatchNormalization())\n",
    "    model.add(layers.LeakyReLU())\n",
    "\n",
    "    model.add(layers.Reshape((7,7,256)))\n",
    "    assert model.output_shape == (None, 7, 7, 256)  # None is the batch size\n",
    "\n",
    "    model.add(layers.Conv2DTranspose(128, (5, 5), strides=(1, 1), padding='same', use_bias=False))\n",
    "    assert model.output_shape == (None, 7, 7, 128)\n",
    "    model.add(layers.BatchNormalization())\n",
    "    model.add(layers.LeakyReLU())\n",
    "\n",
    "    model.add(layers.Conv2DTranspose(64, (5, 5), strides=(2, 2), padding='same', use_bias=False))\n",
    "    assert model.output_shape == (None, 14, 14, 64)\n",
    "    model.add(layers.BatchNormalization())\n",
    "    model.add(layers.LeakyReLU())\n",
    "\n",
    "    model.add(layers.Conv2DTranspose(1, (5, 5), strides=(2, 2), padding='same', use_bias=False, activation='tanh'))\n",
    "    assert model.output_shape == (None, 28, 28, 1)\n",
    "\n",
    "    return model"
   ]
  },
  {
   "cell_type": "code",
   "execution_count": 87,
   "metadata": {},
   "outputs": [
    {
     "data": {
      "text/plain": [
       "<matplotlib.image.AxesImage at 0x322952970>"
      ]
     },
     "execution_count": 87,
     "metadata": {},
     "output_type": "execute_result"
    },
    {
     "data": {
      "image/png": "[encoded data removed]",
      "text/plain": [
       "<Figure size 432x288 with 1 Axes>"
      ]
     },
     "metadata": {
      "needs_background": "light"
     },
     "output_type": "display_data"
    }
   ],
   "source": [
    "generator = create_generator_model()\n",
    "\n",
    "\n",
    "noise = tf.random.normal([1,100])\n",
    "img1 = generator(noise, training=False)\n",
    "\n",
    "plt.imshow(img1[0, :, :, 0], cmap=\"gray\")"
   ]
  },
  {
   "cell_type": "markdown",
   "metadata": {},
   "source": [
    "# Create DISCRIMINATOR"
   ]
  },
  {
   "cell_type": "code",
   "execution_count": 88,
   "metadata": {},
   "outputs": [],
   "source": [
    "def make_discriminator_model():\n",
    "    model = tf.keras.Sequential()\n",
    "    model.add(layers.Conv2D(64, (5, 5), strides=(2, 2), padding='same',\n",
    "                                     input_shape=[28, 28, 1]))\n",
    "    model.add(layers.LeakyReLU())\n",
    "    model.add(layers.Dropout(0.3))\n",
    "\n",
    "    model.add(layers.Conv2D(128, (5, 5), strides=(2, 2), padding='same'))\n",
    "    model.add(layers.LeakyReLU())\n",
    "    model.add(layers.Dropout(0.3))\n",
    "\n",
    "    model.add(layers.Flatten())\n",
    "    model.add(layers.Dense(1))\n",
    "\n",
    "    return model"
   ]
  },
  {
   "cell_type": "code",
   "execution_count": 89,
   "metadata": {},
   "outputs": [],
   "source": [
    "discriminator = make_discriminator_model()"
   ]
  },
  {
   "cell_type": "markdown",
   "metadata": {},
   "source": [
    "# Loss Functions"
   ]
  },
  {
   "cell_type": "code",
   "execution_count": 90,
   "metadata": {},
   "outputs": [],
   "source": [
    "cross_entropy = tf.keras.losses.BinaryCrossentropy(from_logits=True)\n",
    "\n",
    "def discriminator_loss(real_output, fake_output):\n",
    "    real_loss = cross_entropy(tf.ones_like(real_output), real_output)\n",
    "    fake_loss = cross_entropy(tf.zeros_like(fake_output), fake_output)\n",
    "    total_loss = real_loss + fake_loss\n",
    "    return total_loss, real_loss, fake_loss\n",
    "\n",
    "def generator_loss(fake_output):\n",
    "    return cross_entropy(tf.ones_like(fake_output), fake_output)\n"
   ]
  },
  {
   "cell_type": "code",
   "execution_count": 91,
   "metadata": {},
   "outputs": [],
   "source": [
    "generator_optimizer = tf.keras.optimizers.Adam(learning_rate=0.0001)\n",
    "discriminator_optimizer = tf.keras.optimizers.Adam(learning_rate=0.0001)\n",
    "#0.0001"
   ]
  },
  {
   "cell_type": "markdown",
   "metadata": {},
   "source": [
    "# Checkpoints"
   ]
  },
  {
   "cell_type": "code",
   "execution_count": 92,
   "metadata": {},
   "outputs": [],
   "source": [
    "checkpoint_dir = './training_checkpoints'\n",
    "checkpoint_prefix = os.path.join(checkpoint_dir, \"ckpt\")\n",
    "checkpoint = tf.train.Checkpoint(generator_optimizer=generator_optimizer,\n",
    "                                 discriminator_optimizer=discriminator_optimizer,\n",
    "                                 generator=generator,\n",
    "                                 discriminator=discriminator)"
   ]
  },
  {
   "cell_type": "markdown",
   "metadata": {},
   "source": [
    "# Training"
   ]
  },
  {
   "cell_type": "code",
   "execution_count": 93,
   "metadata": {},
   "outputs": [],
   "source": [
    "noise_dim = 100\n",
    "\n",
    "\n",
    "# You will reuse this seed overtime (so it's easier)\n",
    "# to visualize progress in the animated GIF)\n",
    "seed = tf.random.normal([BATCH_SIZE, noise_dim])\n",
    "\n",
    "\n",
    "# Notice the use of `tf.function`\n",
    "# This annotation causes the function to be \"compiled\".\n",
    "#@tf.function\n",
    "def train_step(images, generator, discriminator, epoch):\n",
    "    noise = tf.random.normal([BATCH_SIZE, noise_dim])\n",
    "    \n",
    "    with tf.GradientTape() as gen_tape, tf.GradientTape() as disc_tape:\n",
    "      generated_images = generator(noise, training=True)\n",
    "\n",
    "      real_output = discriminator(images, training=True)\n",
    "      fake_output = discriminator(generated_images, training=True)\n",
    "\n",
    "      gen_loss = generator_loss(fake_output)\n",
    "      disc_loss, d_real_loss, d_fake_loss = discriminator_loss(real_output, fake_output)\n",
    "\n",
    "    gradients_of_generator = gen_tape.gradient(gen_loss, generator.trainable_variables)\n",
    "    gradients_of_discriminator = disc_tape.gradient(disc_loss, discriminator.trainable_variables)\n",
    "\n",
    "    generator_optimizer.apply_gradients(zip(gradients_of_generator, generator.trainable_variables))\n",
    "    discriminator_optimizer.apply_gradients(zip(gradients_of_discriminator, discriminator.trainable_variables))\n",
    "    return disc_loss, d_real_loss, d_fake_loss, gen_loss, generated_images\n"
   ]
  },
  {
   "cell_type": "code",
   "execution_count": 94,
   "metadata": {},
   "outputs": [],
   "source": [
    "def train(dataset, dataclass, epochs, generator, discriminator, save_images_dict):\n",
    "\n",
    "  for epoch in range(epochs):\n",
    "    start = time.time()\n",
    "\n",
    "    # acc = 0\n",
    "    for image_batch in dataset:\n",
    "      disc_loss, d_real_loss, d_fake_loss, gen_loss, gen_images = train_step(image_batch, generator, discriminator, epoch)\n",
    "      save_images_dict[epoch] = gen_images\n",
    "\n",
    "    # Produce images for the GIF as you go\n",
    "    display.clear_output(wait=True)\n",
    "    generate_and_save_images(generator,\n",
    "                             epoch + 1,\n",
    "                             seed,\n",
    "                             dataclass)\n",
    "\n",
    "    # Save the model every 15 epochs\n",
    "    # if (epoch + 1) % 15 == 0:\n",
    "    #  checkpoint.save(file_prefix = checkpoint_prefix)\n",
    "\n",
    "    print ('Time for epoch {} is {} sec'.format(epoch + 1, time.time()-start))\n",
    "    # print(\"Acc D:   \", acc/(len(dataset)))\n",
    "    d_loss_plot.append(disc_loss/2)\n",
    "    d_real_loss_plot.append(d_real_loss)\n",
    "    d_fake_loss_plot.append(d_fake_loss)\n",
    "    g_loss_plot.append(gen_loss)\n",
    "    # acc_plot.append(disc_loss*0.5)\n",
    "\n",
    "  # Generate after the final epoch\n",
    "  display.clear_output(wait=True)\n",
    "  generate_and_save_images(generator,\n",
    "                           epochs,\n",
    "                           seed,\n",
    "                           dataclass)\n",
    "  # return gen_loss_dict, dis_loss_dict"
   ]
  },
  {
   "cell_type": "markdown",
   "metadata": {},
   "source": [
    "# Create Images and save them"
   ]
  },
  {
   "cell_type": "code",
   "execution_count": 95,
   "metadata": {},
   "outputs": [],
   "source": [
    "import os\n",
    "\n",
    "def generate_and_save_images(model, epoch, test_input, dataclass):\n",
    "  # Notice `training` is set to False.\n",
    "  # This is so all layers run in inference mode (batchnorm).\n",
    "  predictions = model(test_input, training=False)\n",
    "  \n",
    "\n",
    "  fig = plt.figure(figsize=(4, 4))\n",
    "  for i in range(16):\n",
    "    # pred = np.asarray(predictions[i, :, :, 0] * 127.5 + 127.5)\n",
    "    #curr_IS = calculate_inception_score(pred)\n",
    "    # gen.append(pred)\n",
    "    \n",
    "    plt.subplot(4, 4, i+1)\n",
    "    plt.imshow(predictions[i, :, :, 0] * 127.5 + 127.5, cmap='gray')\n",
    "    plt.axis('off')\n",
    "  # Create directory to save generated images if not existent\n",
    "  p = path+'{}'.format(dataclass)\n",
    "  if not os.path.exists(p):\n",
    "    os.makedirs(p)\n",
    "  plt.savefig(p + '/image_epoch_{:04d}.png'.format(epoch))\n",
    "  plt.show()\n"
   ]
  },
  {
   "cell_type": "code",
   "execution_count": null,
   "metadata": {},
   "outputs": [],
   "source": []
  },
  {
   "cell_type": "markdown",
   "metadata": {},
   "source": [
    "# Explore MNIST Classes"
   ]
  },
  {
   "cell_type": "code",
   "execution_count": 20,
   "metadata": {},
   "outputs": [],
   "source": [
    "(X_train_explore, y_train_explore), (_, _) = tf.keras.datasets.mnist.load_data()\n",
    "\n",
    "X_train_explore = X_train_explore.reshape(X_train.shape[0], 28, 28, 1).astype('float32')"
   ]
  },
  {
   "cell_type": "code",
   "execution_count": 21,
   "metadata": {},
   "outputs": [
    {
     "data": {
      "text/plain": [
       "(28, 28, 1)"
      ]
     },
     "execution_count": 21,
     "metadata": {},
     "output_type": "execute_result"
    }
   ],
   "source": [
    "X_train_explore[y_train_explore==0][0].shape"
   ]
  },
  {
   "cell_type": "code",
   "execution_count": 22,
   "metadata": {},
   "outputs": [],
   "source": [
    "mean_pixels_dict = {}\n",
    "\n",
    "for i in range(10):\n",
    "    mean_pxl = np.zeros((784,1))\n",
    "    for img in X_train_explore[y_train_explore==i]:\n",
    "        for pixel in enumerate(img.reshape(784,1)):\n",
    "            #print(pixel[1][0])\n",
    "            mean_pxl[pixel[0]] += pixel[1][0]\n",
    "    mean_pxl /= len(X_train_explore[y_train_explore==i])\n",
    "    mean_pixels_dict[i] = mean_pxl"
   ]
  },
  {
   "cell_type": "code",
   "execution_count": 23,
   "metadata": {},
   "outputs": [
    {
     "data": {
      "image/png": "[encoded data removed]",
      "text/plain": [
       "<Figure size 1152x720 with 10 Axes>"
      ]
     },
     "metadata": {
      "needs_background": "light"
     },
     "output_type": "display_data"
    }
   ],
   "source": [
    "plt.figure(figsize=(16,10))\n",
    "\n",
    "for i in range(10):\n",
    "    plt.subplot(2,5,i+1)\n",
    "    plt.imshow(mean_pixels_dict[i].reshape(28,28,1), cmap=\"viridis\")\n",
    "plt.show()"
   ]
  },
  {
   "cell_type": "code",
   "execution_count": 24,
   "metadata": {},
   "outputs": [],
   "source": [
    "# Euclidean Distance\n",
    "from scipy.spatial import distance\n",
    "\n",
    "euclidean_distances = np.zeros((10,10))\n",
    "\n",
    "for i in range(10):\n",
    "    for j in range(10):\n",
    "        euclidean_distances[i,j] = distance.euclidean(mean_pixels_dict[i], mean_pixels_dict[j])"
   ]
  },
  {
   "cell_type": "code",
   "execution_count": 25,
   "metadata": {},
   "outputs": [
    {
     "name": "stdout",
     "output_type": "stream",
     "text": [
      "MIN: 0 1156.0263190402593 5\n",
      "MAX: 0 1928.3782341495692 1\n",
      "\n",
      "MIN: 1 1214.412115446305 8\n",
      "MAX: 1 1928.3782341495692 0\n",
      "\n",
      "MIN: 2 980.570899404891 8\n",
      "MAX: 2 1434.3521498562832 0\n",
      "\n",
      "MIN: 3 794.5804617337911 5\n",
      "MAX: 3 1425.1059108147604 0\n",
      "\n",
      "MIN: 4 633.6190287227882 9\n",
      "MAX: 4 1592.144643092031 0\n",
      "\n",
      "MIN: 5 791.404879205049 8\n",
      "MAX: 5 1232.1156426912123 1\n",
      "\n",
      "MIN: 6 1007.4013461244358 2\n",
      "MAX: 6 1449.5604968921102 0\n",
      "\n",
      "MIN: 7 761.597314960273 9\n",
      "MAX: 7 1619.2318065717634 0\n",
      "\n",
      "MIN: 8 791.404879205049 5\n",
      "MAX: 8 1431.3619388004126 0\n",
      "\n",
      "MIN: 9 633.6190287227882 4\n",
      "MAX: 9 1575.248866165563 0\n",
      "\n"
     ]
    }
   ],
   "source": [
    "for i, l in enumerate(euclidean_distances):\n",
    "    mi = min(l[l>0])\n",
    "    ma = max(l)\n",
    "    print(f\"MIN: {i}\", mi, np.where(l == mi)[0][0])\n",
    "    print(f\"MAX: {i}\", ma, np.where(l == ma)[0][0])\n",
    "    print()\n"
   ]
  },
  {
   "cell_type": "code",
   "execution_count": 26,
   "metadata": {},
   "outputs": [
    {
     "data": {
      "text/plain": [
       "array([[ 0.        ,  0.        ,  0.        ,  0.        ,  0.        ,\n",
       "         0.        ,  0.        ,  0.        ,  0.        ,  0.        ],\n",
       "       [19.28378234,  0.        ,  0.        ,  0.        ,  0.        ,\n",
       "         0.        ,  0.        ,  0.        ,  0.        ,  0.        ],\n",
       "       [14.3435215 , 12.915677  ,  0.        ,  0.        ,  0.        ,\n",
       "         0.        ,  0.        ,  0.        ,  0.        ,  0.        ],\n",
       "       [14.25105911, 13.08738969, 11.20188054,  0.        ,  0.        ,\n",
       "         0.        ,  0.        ,  0.        ,  0.        ,  0.        ],\n",
       "       [15.92144643, 14.43459847, 12.07012994, 13.39820782,  0.        ,\n",
       "         0.        ,  0.        ,  0.        ,  0.        ,  0.        ],\n",
       "       [11.56026319, 12.32115643, 11.5411856 ,  7.94580462, 10.50447512,\n",
       "         0.        ,  0.        ,  0.        ,  0.        ,  0.        ],\n",
       "       [14.49560497, 14.48783446, 10.07401346, 13.69527866, 10.93183226,\n",
       "        11.13775724,  0.        ,  0.        ,  0.        ,  0.        ],\n",
       "       [16.19231807, 13.69250999, 13.68677115, 13.33905767, 10.26445261,\n",
       "        11.39613949, 14.4438878 ,  0.        ,  0.        ,  0.        ],\n",
       "       [14.31361939, 12.14412115,  9.80570899,  9.24803904, 11.07303981,\n",
       "         7.91404879, 11.93389823, 12.21886675,  0.        ,  0.        ],\n",
       "       [15.75248866, 13.54812371, 12.5891496 , 12.19335492,  6.33619029,\n",
       "         9.6068685 , 12.03229914,  7.61597315,  9.7594262 ,  0.        ]])"
      ]
     },
     "execution_count": 26,
     "metadata": {},
     "output_type": "execute_result"
    }
   ],
   "source": [
    "np.tril(euclidean_distances/100)"
   ]
  },
  {
   "cell_type": "code",
   "execution_count": 27,
   "metadata": {},
   "outputs": [
    {
     "data": {
      "text/plain": [
       "<AxesSubplot:>"
      ]
     },
     "execution_count": 27,
     "metadata": {},
     "output_type": "execute_result"
    },
    {
     "data": {
      "image/png": "[encoded data removed]",
      "text/plain": [
       "<Figure size 1152x720 with 2 Axes>"
      ]
     },
     "metadata": {
      "needs_background": "light"
     },
     "output_type": "display_data"
    }
   ],
   "source": [
    "import seaborn as sns\n",
    "\n",
    "plt.figure(figsize=(16,10))\n",
    "sns.heatmap(np.tril(euclidean_distances/100), cmap=\"YlGnBu\", annot=True)"
   ]
  },
  {
   "cell_type": "code",
   "execution_count": null,
   "metadata": {},
   "outputs": [],
   "source": []
  },
  {
   "cell_type": "code",
   "execution_count": 28,
   "metadata": {},
   "outputs": [
    {
     "data": {
      "image/png": "[encoded data removed]",
      "text/plain": [
       "<Figure size 1152x720 with 10 Axes>"
      ]
     },
     "metadata": {
      "needs_background": "light"
     },
     "output_type": "display_data"
    }
   ],
   "source": [
    "plt.figure(figsize=(16,10))\n",
    "\n",
    "for i in range(10):\n",
    "    plt.subplot(2,5,i+1)\n",
    "    plt.hist(mean_pixels_dict[i])\n",
    "    plt.title(i)\n",
    "plt.show()"
   ]
  },
  {
   "cell_type": "markdown",
   "metadata": {},
   "source": [
    "# PCA"
   ]
  },
  {
   "cell_type": "code",
   "execution_count": null,
   "metadata": {},
   "outputs": [],
   "source": [
    "from sklearn.decomposition import PCA\n",
    "\n",
    "pca = PCA(n_components=2)\n",
    "proj = pca.fit_transform(X_train_explore.reshape(-1,784))\n",
    "plt.figure(figsize=(16,10))\n",
    "plt.scatter(proj[:,0], proj[:,1], c=y_train_explore, cmap=\"Paired\")\n",
    "plt.colorbar(ticks=range(10))\n",
    "plt.show"
   ]
  },
  {
   "cell_type": "code",
   "execution_count": null,
   "metadata": {},
   "outputs": [],
   "source": [
    "from sklearn.manifold import TSNE\n",
    "\n",
    "embeddings = TSNE(n_jobs=2).fit_transform(X_train_explore.reshape(-1,784))\n",
    "figure = plt.figure(figsize=(16,10))\n",
    "plt.scatter(embeddings[:, 0], embeddings[:, 1], c=y_train_explore, cmap=plt.cm.get_cmap(\"jet\", 10), marker='.')\n",
    "plt.colorbar(ticks=range(10))\n",
    "plt.clim(-0.5,9.5)"
   ]
  },
  {
   "cell_type": "markdown",
   "metadata": {},
   "source": [
    "# Train GAN Models"
   ]
  },
  {
   "cell_type": "code",
   "execution_count": 97,
   "metadata": {},
   "outputs": [],
   "source": [
    "def plot_loss(title, d_loss, g_loss, d_loss_real=None, d_loss_fake=None):\n",
    "  plt.figure(figsize=(16,10))\n",
    "  plt.plot(g_loss_plot, c=\"green\")\n",
    "\n",
    "  if (d_loss_real and d_loss_fake):\n",
    "    # plt.plot(d_loss, \"--\", c=\"orange\")\n",
    "    plt.plot(d_loss_real, c=\"blue\")\n",
    "    plt.plot(d_loss_fake, c=\"orange\")\n",
    "    plt.fill_between(np.arange(len(d_loss)),d_loss_real, d_loss_fake, alpha=0.4)\n",
    "    plt.legend([\"Generator\",\"Discriminator (Real Images)\",\"Discriminator (Fake Images)\"], fontsize=14)\n",
    "  else:\n",
    "    plt.plot(d_loss*2)\n",
    "    plt.legend([\"Generator\",\"Discriminator (Total)\"], fontsize=14)\n",
    "\n",
    "  if len(title) > 1:\n",
    "    plt.title(f\"{title[1]}: Discriminator and Generator Loss (Pre-trained on {title[0]})\", fontsize=16)\n",
    "  else:\n",
    "    plt.title(f\"{title}: Discriminator and Generator Loss\", fontsize=16)\n",
    "    \n",
    "  plt.ylabel(\"Loss\", fontsize=14)\n",
    "  plt.xlabel(\"Epoch\", fontsize=14)\n",
    "  plt.tight_layout()\n",
    "  plt.savefig(path + f\"{title}/loss_plot_{title}.svg\", dpi=800, format=\"svg\")\n",
    "  plt.show()"
   ]
  },
  {
   "cell_type": "code",
   "execution_count": 98,
   "metadata": {},
   "outputs": [],
   "source": [
    "# Function to save accuracies per epoch to csv file\n",
    "\n",
    "def save_losses(loss_lists, dataclass):\n",
    "  # Create directory to save accuracies if not existent\n",
    "  if not os.path.exists(path):\n",
    "    os.makedirs(path)\n",
    "  df = pd.DataFrame({\"gen_loss\":loss_lists[0],\"d_loss_real\":loss_lists[1],\"d_loss_fake\":loss_lists[2]})\n",
    "  #print(df.head())\n",
    "  df.to_csv(path + f\"{dataclass}/loss_{dataclass}.csv\")"
   ]
  },
  {
   "cell_type": "markdown",
   "metadata": {},
   "source": [
    "# Dict to save dicts with generated images per epoche\n",
    "GAN_0 = {}\n",
    "\n",
    "generator_0 = create_generator_model()\n",
    "discriminator_0 = make_discriminator_model()\n",
    "\n",
    "gen_loss_dict = {}\n",
    "dis_loss_dict = {}\n",
    "d_loss_plot = []\n",
    "d_real_loss_plot = []\n",
    "d_fake_loss_plot = []\n",
    "g_loss_plot = []\n",
    "\n",
    "train(train_dataset_0, 0, 500, generator=generator_0, discriminator=discriminator_0, save_images_dict=GAN_0)\n",
    "save_losses(loss_lists=[[x.numpy() for x in g_loss_plot],[x.numpy() for x in d_real_loss_plot],[x.numpy() for x in d_fake_loss_plot]], dataclass=\"0\")\n",
    "plot_loss(\"0\", d_loss_plot, g_loss_plot, d_real_loss_plot, d_fake_loss_plot)"
   ]
  },
  {
   "cell_type": "markdown",
   "metadata": {},
   "source": [
    "generator_01 = tf.keras.models.clone_model(generator_0)\n",
    "generator_01.build((None, 100)) # replace 10 with number of variables in input layer\n",
    "generator_01.compile(optimizer=generator_optimizer, loss='categorical_crossentropy')\n",
    "generator_01.set_weights(generator_0.get_weights())\n",
    "\n",
    "discriminator_01 = tf.keras.models.clone_model(discriminator_0)\n",
    "discriminator_01.build((None, [28, 28, 1])) # replace 10 with number of variables in input layer\n",
    "discriminator_01.compile(optimizer=discriminator_optimizer, loss='categorical_crossentropy')\n",
    "discriminator_01.set_weights(discriminator_0.get_weights())\n",
    "\n",
    "\n",
    "gen_loss_dict = {}\n",
    "dis_loss_dict = {}\n",
    "d_loss_plot = []\n",
    "d_real_loss_plot = []\n",
    "d_fake_loss_plot = []\n",
    "g_loss_plot = []\n",
    "\n",
    "GAN_01 = {}\n",
    "train(train_dataset_1, 500, generator=generator_01, discriminator=discriminator_01, save_images_dict=GAN_01)\n",
    "save_losses(loss_lists=[[x.numpy() for x in g_loss_plot],[x.numpy() for x in d_real_loss_plot],[x.numpy() for x in d_fake_loss_plot]], dataclass=\"01\")\n",
    "\n",
    "# Loss plots\n",
    "plot_loss(\"01\", d_loss_plot, g_loss_plot, d_real_loss_plot, d_fake_loss_plot)"
   ]
  },
  {
   "cell_type": "markdown",
   "metadata": {},
   "source": []
  },
  {
   "cell_type": "markdown",
   "metadata": {},
   "source": [
    "# GANs: Training Loops"
   ]
  },
  {
   "cell_type": "markdown",
   "metadata": {},
   "source": [
    "## Train SVM Classifier"
   ]
  },
  {
   "cell_type": "code",
   "execution_count": 68,
   "metadata": {},
   "outputs": [],
   "source": []
  },
  {
   "cell_type": "code",
   "execution_count": 70,
   "metadata": {},
   "outputs": [
    {
     "name": "stdout",
     "output_type": "stream",
     "text": [
      "Fitting 5 folds for each of 35 candidates, totalling 175 fits\n",
      "[CV] END .........................C=0.1, gamma=1, kernel=rbf; total time=  50.7s\n",
      "[CV] END .........................C=0.1, gamma=1, kernel=rbf; total time=  50.4s\n",
      "[CV] END .........................C=0.1, gamma=1, kernel=rbf; total time=  50.0s\n",
      "[CV] END .........................C=0.1, gamma=1, kernel=rbf; total time=  50.0s\n",
      "[CV] END .........................C=0.1, gamma=1, kernel=rbf; total time=  50.0s\n",
      "[CV] END .......................C=0.1, gamma=0.1, kernel=rbf; total time=  50.0s\n",
      "[CV] END .......................C=0.1, gamma=0.1, kernel=rbf; total time=  50.0s\n",
      "[CV] END .......................C=0.1, gamma=0.1, kernel=rbf; total time=  50.0s\n",
      "[CV] END .......................C=0.1, gamma=0.1, kernel=rbf; total time=  50.0s\n",
      "[CV] END .......................C=0.1, gamma=0.1, kernel=rbf; total time=  50.0s\n",
      "[CV] END ......................C=0.1, gamma=0.01, kernel=rbf; total time=  29.6s\n",
      "[CV] END ......................C=0.1, gamma=0.01, kernel=rbf; total time=  29.7s\n",
      "[CV] END ......................C=0.1, gamma=0.01, kernel=rbf; total time=  30.2s\n",
      "[CV] END ......................C=0.1, gamma=0.01, kernel=rbf; total time=  29.8s\n",
      "[CV] END ......................C=0.1, gamma=0.01, kernel=rbf; total time=  29.5s\n",
      "[CV] END .....................C=0.1, gamma=0.001, kernel=rbf; total time=  23.7s\n",
      "[CV] END .....................C=0.1, gamma=0.001, kernel=rbf; total time=  23.9s\n",
      "[CV] END .....................C=0.1, gamma=0.001, kernel=rbf; total time=  23.9s\n",
      "[CV] END .....................C=0.1, gamma=0.001, kernel=rbf; total time=  23.9s\n",
      "[CV] END .....................C=0.1, gamma=0.001, kernel=rbf; total time=  23.8s\n",
      "[CV] END ....................C=0.1, gamma=0.0001, kernel=rbf; total time=  46.5s\n",
      "[CV] END ....................C=0.1, gamma=0.0001, kernel=rbf; total time=  46.3s\n",
      "[CV] END ....................C=0.1, gamma=0.0001, kernel=rbf; total time=  46.5s\n",
      "[CV] END ....................C=0.1, gamma=0.0001, kernel=rbf; total time=  46.4s\n",
      "[CV] END ....................C=0.1, gamma=0.0001, kernel=rbf; total time=  46.3s\n",
      "[CV] END ...........................C=1, gamma=1, kernel=rbf; total time=  50.1s\n",
      "[CV] END ...........................C=1, gamma=1, kernel=rbf; total time=  50.1s\n",
      "[CV] END ...........................C=1, gamma=1, kernel=rbf; total time=  50.4s\n",
      "[CV] END ...........................C=1, gamma=1, kernel=rbf; total time=  50.3s\n",
      "[CV] END ...........................C=1, gamma=1, kernel=rbf; total time=  50.2s\n",
      "[CV] END .........................C=1, gamma=0.1, kernel=rbf; total time=  50.9s\n",
      "[CV] END .........................C=1, gamma=0.1, kernel=rbf; total time=  51.0s\n",
      "[CV] END .........................C=1, gamma=0.1, kernel=rbf; total time=  51.1s\n",
      "[CV] END .........................C=1, gamma=0.1, kernel=rbf; total time=  50.7s\n",
      "[CV] END .........................C=1, gamma=0.1, kernel=rbf; total time=  50.7s\n",
      "[CV] END ........................C=1, gamma=0.01, kernel=rbf; total time=  21.8s\n",
      "[CV] END ........................C=1, gamma=0.01, kernel=rbf; total time=  21.4s\n",
      "[CV] END ........................C=1, gamma=0.01, kernel=rbf; total time=  21.5s\n",
      "[CV] END ........................C=1, gamma=0.01, kernel=rbf; total time=  21.2s\n",
      "[CV] END ........................C=1, gamma=0.01, kernel=rbf; total time=  21.3s\n",
      "[CV] END .......................C=1, gamma=0.001, kernel=rbf; total time=  10.5s\n",
      "[CV] END .......................C=1, gamma=0.001, kernel=rbf; total time=  10.6s\n",
      "[CV] END .......................C=1, gamma=0.001, kernel=rbf; total time=  10.7s\n",
      "[CV] END .......................C=1, gamma=0.001, kernel=rbf; total time=  10.5s\n",
      "[CV] END .......................C=1, gamma=0.001, kernel=rbf; total time=  10.3s\n",
      "[CV] END ......................C=1, gamma=0.0001, kernel=rbf; total time=  21.4s\n",
      "[CV] END ......................C=1, gamma=0.0001, kernel=rbf; total time=  21.5s\n",
      "[CV] END ......................C=1, gamma=0.0001, kernel=rbf; total time=  21.5s\n",
      "[CV] END ......................C=1, gamma=0.0001, kernel=rbf; total time=  21.3s\n",
      "[CV] END ......................C=1, gamma=0.0001, kernel=rbf; total time=  21.2s\n",
      "[CV] END ...........................C=4, gamma=1, kernel=rbf; total time=  50.0s\n",
      "[CV] END ...........................C=4, gamma=1, kernel=rbf; total time=  50.0s\n",
      "[CV] END ...........................C=4, gamma=1, kernel=rbf; total time=  50.1s\n",
      "[CV] END ...........................C=4, gamma=1, kernel=rbf; total time=  50.0s\n",
      "[CV] END ...........................C=4, gamma=1, kernel=rbf; total time=  50.0s\n",
      "[CV] END .........................C=4, gamma=0.1, kernel=rbf; total time=  50.2s\n",
      "[CV] END .........................C=4, gamma=0.1, kernel=rbf; total time=  50.2s\n",
      "[CV] END .........................C=4, gamma=0.1, kernel=rbf; total time=  50.5s\n",
      "[CV] END .........................C=4, gamma=0.1, kernel=rbf; total time=  50.7s\n",
      "[CV] END .........................C=4, gamma=0.1, kernel=rbf; total time=  50.5s\n",
      "[CV] END ........................C=4, gamma=0.01, kernel=rbf; total time=  22.3s\n",
      "[CV] END ........................C=4, gamma=0.01, kernel=rbf; total time=  22.4s\n",
      "[CV] END ........................C=4, gamma=0.01, kernel=rbf; total time=  22.4s\n",
      "[CV] END ........................C=4, gamma=0.01, kernel=rbf; total time=  22.1s\n",
      "[CV] END ........................C=4, gamma=0.01, kernel=rbf; total time=  21.9s\n",
      "[CV] END .......................C=4, gamma=0.001, kernel=rbf; total time=   7.6s\n",
      "[CV] END .......................C=4, gamma=0.001, kernel=rbf; total time=   7.8s\n",
      "[CV] END .......................C=4, gamma=0.001, kernel=rbf; total time=   7.8s\n",
      "[CV] END .......................C=4, gamma=0.001, kernel=rbf; total time=   7.6s\n",
      "[CV] END .......................C=4, gamma=0.001, kernel=rbf; total time=   7.6s\n",
      "[CV] END ......................C=4, gamma=0.0001, kernel=rbf; total time=  13.0s\n",
      "[CV] END ......................C=4, gamma=0.0001, kernel=rbf; total time=  13.1s\n",
      "[CV] END ......................C=4, gamma=0.0001, kernel=rbf; total time=  13.1s\n",
      "[CV] END ......................C=4, gamma=0.0001, kernel=rbf; total time=  13.0s\n",
      "[CV] END ......................C=4, gamma=0.0001, kernel=rbf; total time=  13.0s\n",
      "[CV] END ...........................C=8, gamma=1, kernel=rbf; total time=  50.7s\n",
      "[CV] END ...........................C=8, gamma=1, kernel=rbf; total time=  50.5s\n",
      "[CV] END ...........................C=8, gamma=1, kernel=rbf; total time=  49.8s\n",
      "[CV] END ...........................C=8, gamma=1, kernel=rbf; total time=  49.8s\n",
      "[CV] END ...........................C=8, gamma=1, kernel=rbf; total time=  49.8s\n",
      "[CV] END .........................C=8, gamma=0.1, kernel=rbf; total time=  50.1s\n",
      "[CV] END .........................C=8, gamma=0.1, kernel=rbf; total time=  50.4s\n",
      "[CV] END .........................C=8, gamma=0.1, kernel=rbf; total time=  50.8s\n",
      "[CV] END .........................C=8, gamma=0.1, kernel=rbf; total time=  50.4s\n",
      "[CV] END .........................C=8, gamma=0.1, kernel=rbf; total time=  50.6s\n",
      "[CV] END ........................C=8, gamma=0.01, kernel=rbf; total time=  22.6s\n",
      "[CV] END ........................C=8, gamma=0.01, kernel=rbf; total time=  22.5s\n",
      "[CV] END ........................C=8, gamma=0.01, kernel=rbf; total time=  22.2s\n",
      "[CV] END ........................C=8, gamma=0.01, kernel=rbf; total time=  22.2s\n",
      "[CV] END ........................C=8, gamma=0.01, kernel=rbf; total time=  22.0s\n",
      "[CV] END .......................C=8, gamma=0.001, kernel=rbf; total time=   7.4s\n",
      "[CV] END .......................C=8, gamma=0.001, kernel=rbf; total time=   7.3s\n",
      "[CV] END .......................C=8, gamma=0.001, kernel=rbf; total time=   7.2s\n",
      "[CV] END .......................C=8, gamma=0.001, kernel=rbf; total time=   7.2s\n",
      "[CV] END .......................C=8, gamma=0.001, kernel=rbf; total time=   7.0s\n",
      "[CV] END ......................C=8, gamma=0.0001, kernel=rbf; total time=  10.3s\n",
      "[CV] END ......................C=8, gamma=0.0001, kernel=rbf; total time=  10.4s\n",
      "[CV] END ......................C=8, gamma=0.0001, kernel=rbf; total time=  10.4s\n",
      "[CV] END ......................C=8, gamma=0.0001, kernel=rbf; total time=  10.3s\n",
      "[CV] END ......................C=8, gamma=0.0001, kernel=rbf; total time=  10.2s\n",
      "[CV] END ..........................C=32, gamma=1, kernel=rbf; total time=  49.7s\n",
      "[CV] END ..........................C=32, gamma=1, kernel=rbf; total time=  49.8s\n",
      "[CV] END ..........................C=32, gamma=1, kernel=rbf; total time=  49.7s\n",
      "[CV] END ..........................C=32, gamma=1, kernel=rbf; total time=  49.7s\n",
      "[CV] END ..........................C=32, gamma=1, kernel=rbf; total time=  49.7s\n",
      "[CV] END ........................C=32, gamma=0.1, kernel=rbf; total time=  50.0s\n",
      "[CV] END ........................C=32, gamma=0.1, kernel=rbf; total time=  50.0s\n",
      "[CV] END ........................C=32, gamma=0.1, kernel=rbf; total time=  50.0s\n",
      "[CV] END ........................C=32, gamma=0.1, kernel=rbf; total time=  50.1s\n",
      "[CV] END ........................C=32, gamma=0.1, kernel=rbf; total time=  50.0s\n",
      "[CV] END .......................C=32, gamma=0.01, kernel=rbf; total time=  22.0s\n",
      "[CV] END .......................C=32, gamma=0.01, kernel=rbf; total time=  22.2s\n",
      "[CV] END .......................C=32, gamma=0.01, kernel=rbf; total time=  22.0s\n",
      "[CV] END .......................C=32, gamma=0.01, kernel=rbf; total time=  21.9s\n",
      "[CV] END .......................C=32, gamma=0.01, kernel=rbf; total time=  21.6s\n",
      "[CV] END ......................C=32, gamma=0.001, kernel=rbf; total time=   7.0s\n",
      "[CV] END ......................C=32, gamma=0.001, kernel=rbf; total time=   7.1s\n",
      "[CV] END ......................C=32, gamma=0.001, kernel=rbf; total time=   7.1s\n",
      "[CV] END ......................C=32, gamma=0.001, kernel=rbf; total time=   7.1s\n",
      "[CV] END ......................C=32, gamma=0.001, kernel=rbf; total time=   7.0s\n",
      "[CV] END .....................C=32, gamma=0.0001, kernel=rbf; total time=   7.4s\n",
      "[CV] END .....................C=32, gamma=0.0001, kernel=rbf; total time=   7.5s\n",
      "[CV] END .....................C=32, gamma=0.0001, kernel=rbf; total time=   7.5s\n",
      "[CV] END .....................C=32, gamma=0.0001, kernel=rbf; total time=   7.3s\n",
      "[CV] END .....................C=32, gamma=0.0001, kernel=rbf; total time=   7.3s\n",
      "[CV] END ..........................C=64, gamma=1, kernel=rbf; total time=  49.7s\n",
      "[CV] END ..........................C=64, gamma=1, kernel=rbf; total time=  49.7s\n",
      "[CV] END ..........................C=64, gamma=1, kernel=rbf; total time=  49.7s\n",
      "[CV] END ..........................C=64, gamma=1, kernel=rbf; total time=  49.7s\n",
      "[CV] END ..........................C=64, gamma=1, kernel=rbf; total time=  49.7s\n",
      "[CV] END ........................C=64, gamma=0.1, kernel=rbf; total time=  50.0s\n",
      "[CV] END ........................C=64, gamma=0.1, kernel=rbf; total time=  50.0s\n",
      "[CV] END ........................C=64, gamma=0.1, kernel=rbf; total time=  50.0s\n",
      "[CV] END ........................C=64, gamma=0.1, kernel=rbf; total time=  50.0s\n",
      "[CV] END ........................C=64, gamma=0.1, kernel=rbf; total time=  50.0s\n",
      "[CV] END .......................C=64, gamma=0.01, kernel=rbf; total time=  22.0s\n",
      "[CV] END .......................C=64, gamma=0.01, kernel=rbf; total time=  22.1s\n",
      "[CV] END .......................C=64, gamma=0.01, kernel=rbf; total time=  22.0s\n",
      "[CV] END .......................C=64, gamma=0.01, kernel=rbf; total time=  21.9s\n",
      "[CV] END .......................C=64, gamma=0.01, kernel=rbf; total time=  21.6s\n",
      "[CV] END ......................C=64, gamma=0.001, kernel=rbf; total time=   7.0s\n",
      "[CV] END ......................C=64, gamma=0.001, kernel=rbf; total time=   7.1s\n",
      "[CV] END ......................C=64, gamma=0.001, kernel=rbf; total time=   7.1s\n",
      "[CV] END ......................C=64, gamma=0.001, kernel=rbf; total time=   7.1s\n",
      "[CV] END ......................C=64, gamma=0.001, kernel=rbf; total time=   7.0s\n",
      "[CV] END .....................C=64, gamma=0.0001, kernel=rbf; total time=   6.6s\n",
      "[CV] END .....................C=64, gamma=0.0001, kernel=rbf; total time=   6.8s\n",
      "[CV] END .....................C=64, gamma=0.0001, kernel=rbf; total time=   6.8s\n",
      "[CV] END .....................C=64, gamma=0.0001, kernel=rbf; total time=   6.6s\n",
      "[CV] END .....................C=64, gamma=0.0001, kernel=rbf; total time=   6.6s\n",
      "[CV] END .........................C=100, gamma=1, kernel=rbf; total time=  49.8s\n",
      "[CV] END .........................C=100, gamma=1, kernel=rbf; total time=  49.8s\n",
      "[CV] END .........................C=100, gamma=1, kernel=rbf; total time=  49.6s\n",
      "[CV] END .........................C=100, gamma=1, kernel=rbf; total time=  49.6s\n",
      "[CV] END .........................C=100, gamma=1, kernel=rbf; total time=  49.6s\n",
      "[CV] END .......................C=100, gamma=0.1, kernel=rbf; total time=  49.9s\n",
      "[CV] END .......................C=100, gamma=0.1, kernel=rbf; total time=  49.9s\n",
      "[CV] END .......................C=100, gamma=0.1, kernel=rbf; total time=  49.9s\n",
      "[CV] END .......................C=100, gamma=0.1, kernel=rbf; total time=  49.9s\n",
      "[CV] END .......................C=100, gamma=0.1, kernel=rbf; total time=  49.9s\n",
      "[CV] END ......................C=100, gamma=0.01, kernel=rbf; total time=  21.9s\n",
      "[CV] END ......................C=100, gamma=0.01, kernel=rbf; total time=  22.0s\n",
      "[CV] END ......................C=100, gamma=0.01, kernel=rbf; total time=  21.9s\n",
      "[CV] END ......................C=100, gamma=0.01, kernel=rbf; total time=  21.8s\n",
      "[CV] END ......................C=100, gamma=0.01, kernel=rbf; total time=  21.5s\n",
      "[CV] END .....................C=100, gamma=0.001, kernel=rbf; total time=   7.0s\n",
      "[CV] END .....................C=100, gamma=0.001, kernel=rbf; total time=   7.1s\n",
      "[CV] END .....................C=100, gamma=0.001, kernel=rbf; total time=   7.1s\n",
      "[CV] END .....................C=100, gamma=0.001, kernel=rbf; total time=   7.1s\n",
      "[CV] END .....................C=100, gamma=0.001, kernel=rbf; total time=   7.0s\n",
      "[CV] END ....................C=100, gamma=0.0001, kernel=rbf; total time=   6.3s\n",
      "[CV] END ....................C=100, gamma=0.0001, kernel=rbf; total time=   6.4s\n",
      "[CV] END ....................C=100, gamma=0.0001, kernel=rbf; total time=   6.5s\n",
      "[CV] END ....................C=100, gamma=0.0001, kernel=rbf; total time=   6.4s\n",
      "[CV] END ....................C=100, gamma=0.0001, kernel=rbf; total time=   6.3s\n",
      "{'C': 4, 'gamma': 0.01, 'kernel': 'rbf'}\n",
      "SVC(C=4, gamma=0.01)\n"
     ]
    }
   ],
   "source": [
    "### Hyperparameter Tuning ###\n",
    "\n",
    "from sklearn.model_selection import GridSearchCV\n",
    "\n",
    "# Prepare exact same data used for training to train the svm classifier\n",
    "train_data_svm_x = []\n",
    "train_data_svm_y = []\n",
    "\n",
    "for i in range(10):\n",
    "      for img in classes[f\"df_{i}\"][:1000]:\n",
    "            train_data_svm_x.append(img.reshape(784,1))\n",
    "            train_data_svm_y.append(i)\n",
    "\n",
    "nsamples, nx, ny = np.array(train_data_svm_x).shape\n",
    "train_data_svm_x = np.array(train_data_svm_x).reshape((nsamples,nx*ny))\n",
    "\n",
    "\n",
    "# defining parameter range\n",
    "param_grid = {'C': [0.1,1, 4, 8, 32, 64, 100], 'gamma': [1,0.1,0.01,0.001,0.0001],'kernel': ['rbf']}\n",
    "grid = GridSearchCV(svm.SVC(), param_grid, refit=True, verbose=2)\n",
    " \n",
    "# fitting the model for grid search\n",
    "grid.fit(train_data_svm_x, train_data_svm_y)\n",
    "\n",
    "\n",
    "# print best parameter after tuning\n",
    "print(grid.best_params_)\n",
    " \n",
    "# print how our model looks after hyper-parameter tuning\n",
    "print(grid.best_estimator_)"
   ]
  },
  {
   "cell_type": "code",
   "execution_count": 71,
   "metadata": {},
   "outputs": [
    {
     "name": "stdout",
     "output_type": "stream",
     "text": [
      "              precision    recall  f1-score   support\n",
      "\n",
      "           0       0.97      0.99      0.98        85\n",
      "           1       0.99      0.99      0.99       126\n",
      "           2       0.95      0.96      0.95       116\n",
      "           3       0.95      0.95      0.95       107\n",
      "           4       0.96      0.97      0.96       110\n",
      "           5       0.98      0.97      0.97        87\n",
      "           6       0.98      0.97      0.97        87\n",
      "           7       0.96      0.94      0.95        99\n",
      "           8       0.90      0.93      0.92        89\n",
      "           9       0.98      0.94      0.96        94\n",
      "\n",
      "    accuracy                           0.96      1000\n",
      "   macro avg       0.96      0.96      0.96      1000\n",
      "weighted avg       0.96      0.96      0.96      1000\n",
      "\n"
     ]
    }
   ],
   "source": [
    "# SVM classifier\n",
    "from sklearn import svm, metrics\n",
    "from sklearn.model_selection import train_test_split\n",
    "from sklearn.metrics import classification_report, confusion_matrix, accuracy_score\n",
    "\n",
    "\n",
    "svm_model = svm.SVC(kernel=\"rbf\", C=4, gamma=0.01)  # C and gamma based on hyperparameter tuning results (C:4, gamma:0.01)\n",
    "svm_model.fit(np.reshape(train_data_svm_x, (10000,784)), train_data_svm_y)"
   ]
  },
  {
   "cell_type": "code",
   "execution_count": null,
   "metadata": {},
   "outputs": [],
   "source": [
    "predictions = svm_model.predict(X_test[:1000].reshape(1000,784))\n",
    "classification_score = classification_report(y_test[:1000], predictions)\n",
    "\n",
    "print(classification_score)"
   ]
  },
  {
   "cell_type": "code",
   "execution_count": 102,
   "metadata": {},
   "outputs": [],
   "source": [
    "# Function to evaluate generated images\n",
    "def evaluate_images_w_svm(imgs_dict, digit, epochs):\n",
    "      G_arr = np.empty(shape=(epochs, 100, 28, 28, 1))\n",
    "      for i in range(epochs):\n",
    "            G_arr[i] = np.asarray(imgs_dict[i])\n",
    "\n",
    "      preds = []\n",
    "      plt.figure(figsize=(16,10))\n",
    "      for i in range(epochs):\n",
    "            predictions = svm_model.predict(G_arr[i].reshape(100,784))\n",
    "            # classification_report(np.full(shape=256, fill_value=2), predictions)\n",
    "            acc = accuracy_score(np.full(shape=100, fill_value=int(digit[-1])), predictions)\n",
    "            preds.append(acc)\n",
    "      # Save accuracies to dataframe and save it locally\n",
    "      save_accuracy(preds, digit)\n",
    "      plt.xlabel(\"Epoch\", fontsize=14)\n",
    "      plt.ylabel(\"Accuracy\", fontsize=14)\n",
    "      plt.title(\"Accuracy on Generated Images per Epoch\", fontsize=16)\n",
    "      plt.plot(preds)\n",
    "      plt.tight_layout()\n",
    "      plt.savefig(path + f\"{digit}/accuracy_{digit}.svg\", dpi=800, format=\"svg\")\n",
    "      plt.show()"
   ]
  },
  {
   "cell_type": "code",
   "execution_count": 100,
   "metadata": {},
   "outputs": [],
   "source": [
    "# Function to save accuracies per epoch to csv file\n",
    "\n",
    "def save_accuracy(accuracies_list, dataclass):\n",
    "  # Create directory to save accuracies if not existent\n",
    "  if not os.path.exists(path):\n",
    "    os.makedirs(path)\n",
    "  df = pd.DataFrame(accuracies_list)\n",
    "  df.to_csv(path + f\"{dataclass}/accuracy_{dataclass}.csv\")"
   ]
  },
  {
   "cell_type": "code",
   "execution_count": 115,
   "metadata": {},
   "outputs": [
    {
     "name": "stdout",
     "output_type": "stream",
     "text": [
      "3\n",
      "4\n",
      "8\n",
      "9\n"
     ]
    }
   ],
   "source": [
    "for i in [3,4,8,9]:\n",
    "  print(i)"
   ]
  },
  {
   "cell_type": "markdown",
   "metadata": {},
   "source": [
    "## Training GANs"
   ]
  },
  {
   "cell_type": "code",
   "execution_count": 118,
   "metadata": {},
   "outputs": [
    {
     "data": {
      "image/png": "[encoded data removed]",
      "text/plain": [
       "<Figure size 288x288 with 16 Axes>"
      ]
     },
     "metadata": {
      "needs_background": "light"
     },
     "output_type": "display_data"
    },
    {
     "data": {
      "image/png": "[encoded data removed]",
      "text/plain": [
       "<Figure size 1152x720 with 1 Axes>"
      ]
     },
     "metadata": {
      "needs_background": "light"
     },
     "output_type": "display_data"
    },
    {
     "ename": "KeyboardInterrupt",
     "evalue": "",
     "output_type": "error",
     "traceback": [
      "\u001b[0;31m---------------------------------------------------------------------------\u001b[0m",
      "\u001b[0;31mKeyboardInterrupt\u001b[0m                         Traceback (most recent call last)",
      "\u001b[0;32m/var/folders/6m/s2y4gy6n3fz_9p7mh5d1qhqw0000gn/T/ipykernel_16428/1949614685.py\u001b[0m in \u001b[0;36m<module>\u001b[0;34m\u001b[0m\n\u001b[1;32m     64\u001b[0m \u001b[0;34m\u001b[0m\u001b[0m\n\u001b[1;32m     65\u001b[0m         \u001b[0;31m# Evaluate generated images using SVM classifier\u001b[0m\u001b[0;34m\u001b[0m\u001b[0;34m\u001b[0m\u001b[0;34m\u001b[0m\u001b[0m\n\u001b[0;32m---> 66\u001b[0;31m         \u001b[0mevaluate_images_w_svm\u001b[0m\u001b[0;34m(\u001b[0m\u001b[0mimgs_dicts\u001b[0m\u001b[0;34m[\u001b[0m\u001b[0;34mf\"{i}{j}\"\u001b[0m\u001b[0;34m]\u001b[0m\u001b[0;34m,\u001b[0m \u001b[0;34mf\"{i}{j}\"\u001b[0m\u001b[0;34m,\u001b[0m \u001b[0mpost_epochs\u001b[0m\u001b[0;34m)\u001b[0m\u001b[0;34m\u001b[0m\u001b[0;34m\u001b[0m\u001b[0m\n\u001b[0m\u001b[1;32m     67\u001b[0m         \"\"\"\n\u001b[1;32m     68\u001b[0m         \u001b[0;31m# Sleep for 60 seconds every 2nd round (cool down GPU)\u001b[0m\u001b[0;34m\u001b[0m\u001b[0;34m\u001b[0m\u001b[0;34m\u001b[0m\u001b[0m\n",
      "\u001b[0;32m/var/folders/6m/s2y4gy6n3fz_9p7mh5d1qhqw0000gn/T/ipykernel_16428/2765315519.py\u001b[0m in \u001b[0;36mevaluate_images_w_svm\u001b[0;34m(imgs_dict, digit, epochs)\u001b[0m\n\u001b[1;32m      8\u001b[0m       \u001b[0mplt\u001b[0m\u001b[0;34m.\u001b[0m\u001b[0mfigure\u001b[0m\u001b[0;34m(\u001b[0m\u001b[0mfigsize\u001b[0m\u001b[0;34m=\u001b[0m\u001b[0;34m(\u001b[0m\u001b[0;36m16\u001b[0m\u001b[0;34m,\u001b[0m\u001b[0;36m10\u001b[0m\u001b[0;34m)\u001b[0m\u001b[0;34m)\u001b[0m\u001b[0;34m\u001b[0m\u001b[0;34m\u001b[0m\u001b[0m\n\u001b[1;32m      9\u001b[0m       \u001b[0;32mfor\u001b[0m \u001b[0mi\u001b[0m \u001b[0;32min\u001b[0m \u001b[0mrange\u001b[0m\u001b[0;34m(\u001b[0m\u001b[0mepochs\u001b[0m\u001b[0;34m)\u001b[0m\u001b[0;34m:\u001b[0m\u001b[0;34m\u001b[0m\u001b[0;34m\u001b[0m\u001b[0m\n\u001b[0;32m---> 10\u001b[0;31m             \u001b[0mpredictions\u001b[0m \u001b[0;34m=\u001b[0m \u001b[0msvm_model\u001b[0m\u001b[0;34m.\u001b[0m\u001b[0mpredict\u001b[0m\u001b[0;34m(\u001b[0m\u001b[0mG_arr\u001b[0m\u001b[0;34m[\u001b[0m\u001b[0mi\u001b[0m\u001b[0;34m]\u001b[0m\u001b[0;34m.\u001b[0m\u001b[0mreshape\u001b[0m\u001b[0;34m(\u001b[0m\u001b[0;36m100\u001b[0m\u001b[0;34m,\u001b[0m\u001b[0;36m784\u001b[0m\u001b[0;34m)\u001b[0m\u001b[0;34m)\u001b[0m\u001b[0;34m\u001b[0m\u001b[0;34m\u001b[0m\u001b[0m\n\u001b[0m\u001b[1;32m     11\u001b[0m             \u001b[0;31m# classification_report(np.full(shape=256, fill_value=2), predictions)\u001b[0m\u001b[0;34m\u001b[0m\u001b[0;34m\u001b[0m\u001b[0;34m\u001b[0m\u001b[0m\n\u001b[1;32m     12\u001b[0m             \u001b[0macc\u001b[0m \u001b[0;34m=\u001b[0m \u001b[0maccuracy_score\u001b[0m\u001b[0;34m(\u001b[0m\u001b[0mnp\u001b[0m\u001b[0;34m.\u001b[0m\u001b[0mfull\u001b[0m\u001b[0;34m(\u001b[0m\u001b[0mshape\u001b[0m\u001b[0;34m=\u001b[0m\u001b[0;36m100\u001b[0m\u001b[0;34m,\u001b[0m \u001b[0mfill_value\u001b[0m\u001b[0;34m=\u001b[0m\u001b[0mint\u001b[0m\u001b[0;34m(\u001b[0m\u001b[0mdigit\u001b[0m\u001b[0;34m[\u001b[0m\u001b[0;34m-\u001b[0m\u001b[0;36m1\u001b[0m\u001b[0;34m]\u001b[0m\u001b[0;34m)\u001b[0m\u001b[0;34m)\u001b[0m\u001b[0;34m,\u001b[0m \u001b[0mpredictions\u001b[0m\u001b[0;34m)\u001b[0m\u001b[0;34m\u001b[0m\u001b[0;34m\u001b[0m\u001b[0m\n",
      "\u001b[0;32m/opt/homebrew/Caskroom/miniforge/base/envs/DataScience/lib/python3.8/site-packages/sklearn/svm/_base.py\u001b[0m in \u001b[0;36mpredict\u001b[0;34m(self, X)\u001b[0m\n\u001b[1;32m    789\u001b[0m             \u001b[0my\u001b[0m \u001b[0;34m=\u001b[0m \u001b[0mnp\u001b[0m\u001b[0;34m.\u001b[0m\u001b[0margmax\u001b[0m\u001b[0;34m(\u001b[0m\u001b[0mself\u001b[0m\u001b[0;34m.\u001b[0m\u001b[0mdecision_function\u001b[0m\u001b[0;34m(\u001b[0m\u001b[0mX\u001b[0m\u001b[0;34m)\u001b[0m\u001b[0;34m,\u001b[0m \u001b[0maxis\u001b[0m\u001b[0;34m=\u001b[0m\u001b[0;36m1\u001b[0m\u001b[0;34m)\u001b[0m\u001b[0;34m\u001b[0m\u001b[0;34m\u001b[0m\u001b[0m\n\u001b[1;32m    790\u001b[0m         \u001b[0;32melse\u001b[0m\u001b[0;34m:\u001b[0m\u001b[0;34m\u001b[0m\u001b[0;34m\u001b[0m\u001b[0m\n\u001b[0;32m--> 791\u001b[0;31m             \u001b[0my\u001b[0m \u001b[0;34m=\u001b[0m \u001b[0msuper\u001b[0m\u001b[0;34m(\u001b[0m\u001b[0;34m)\u001b[0m\u001b[0;34m.\u001b[0m\u001b[0mpredict\u001b[0m\u001b[0;34m(\u001b[0m\u001b[0mX\u001b[0m\u001b[0;34m)\u001b[0m\u001b[0;34m\u001b[0m\u001b[0;34m\u001b[0m\u001b[0m\n\u001b[0m\u001b[1;32m    792\u001b[0m         \u001b[0;32mreturn\u001b[0m \u001b[0mself\u001b[0m\u001b[0;34m.\u001b[0m\u001b[0mclasses_\u001b[0m\u001b[0;34m.\u001b[0m\u001b[0mtake\u001b[0m\u001b[0;34m(\u001b[0m\u001b[0mnp\u001b[0m\u001b[0;34m.\u001b[0m\u001b[0masarray\u001b[0m\u001b[0;34m(\u001b[0m\u001b[0my\u001b[0m\u001b[0;34m,\u001b[0m \u001b[0mdtype\u001b[0m\u001b[0;34m=\u001b[0m\u001b[0mnp\u001b[0m\u001b[0;34m.\u001b[0m\u001b[0mintp\u001b[0m\u001b[0;34m)\u001b[0m\u001b[0;34m)\u001b[0m\u001b[0;34m\u001b[0m\u001b[0;34m\u001b[0m\u001b[0m\n\u001b[1;32m    793\u001b[0m \u001b[0;34m\u001b[0m\u001b[0m\n",
      "\u001b[0;32m/opt/homebrew/Caskroom/miniforge/base/envs/DataScience/lib/python3.8/site-packages/sklearn/svm/_base.py\u001b[0m in \u001b[0;36mpredict\u001b[0;34m(self, X)\u001b[0m\n\u001b[1;32m    414\u001b[0m         \u001b[0mX\u001b[0m \u001b[0;34m=\u001b[0m \u001b[0mself\u001b[0m\u001b[0;34m.\u001b[0m\u001b[0m_validate_for_predict\u001b[0m\u001b[0;34m(\u001b[0m\u001b[0mX\u001b[0m\u001b[0;34m)\u001b[0m\u001b[0;34m\u001b[0m\u001b[0;34m\u001b[0m\u001b[0m\n\u001b[1;32m    415\u001b[0m         \u001b[0mpredict\u001b[0m \u001b[0;34m=\u001b[0m \u001b[0mself\u001b[0m\u001b[0;34m.\u001b[0m\u001b[0m_sparse_predict\u001b[0m \u001b[0;32mif\u001b[0m \u001b[0mself\u001b[0m\u001b[0;34m.\u001b[0m\u001b[0m_sparse\u001b[0m \u001b[0;32melse\u001b[0m \u001b[0mself\u001b[0m\u001b[0;34m.\u001b[0m\u001b[0m_dense_predict\u001b[0m\u001b[0;34m\u001b[0m\u001b[0;34m\u001b[0m\u001b[0m\n\u001b[0;32m--> 416\u001b[0;31m         \u001b[0;32mreturn\u001b[0m \u001b[0mpredict\u001b[0m\u001b[0;34m(\u001b[0m\u001b[0mX\u001b[0m\u001b[0;34m)\u001b[0m\u001b[0;34m\u001b[0m\u001b[0;34m\u001b[0m\u001b[0m\n\u001b[0m\u001b[1;32m    417\u001b[0m \u001b[0;34m\u001b[0m\u001b[0m\n\u001b[1;32m    418\u001b[0m     \u001b[0;32mdef\u001b[0m \u001b[0m_dense_predict\u001b[0m\u001b[0;34m(\u001b[0m\u001b[0mself\u001b[0m\u001b[0;34m,\u001b[0m \u001b[0mX\u001b[0m\u001b[0;34m)\u001b[0m\u001b[0;34m:\u001b[0m\u001b[0;34m\u001b[0m\u001b[0;34m\u001b[0m\u001b[0m\n",
      "\u001b[0;32m/opt/homebrew/Caskroom/miniforge/base/envs/DataScience/lib/python3.8/site-packages/sklearn/svm/_base.py\u001b[0m in \u001b[0;36m_dense_predict\u001b[0;34m(self, X)\u001b[0m\n\u001b[1;32m    433\u001b[0m         \u001b[0msvm_type\u001b[0m \u001b[0;34m=\u001b[0m \u001b[0mLIBSVM_IMPL\u001b[0m\u001b[0;34m.\u001b[0m\u001b[0mindex\u001b[0m\u001b[0;34m(\u001b[0m\u001b[0mself\u001b[0m\u001b[0;34m.\u001b[0m\u001b[0m_impl\u001b[0m\u001b[0;34m)\u001b[0m\u001b[0;34m\u001b[0m\u001b[0;34m\u001b[0m\u001b[0m\n\u001b[1;32m    434\u001b[0m \u001b[0;34m\u001b[0m\u001b[0m\n\u001b[0;32m--> 435\u001b[0;31m         return libsvm.predict(\n\u001b[0m\u001b[1;32m    436\u001b[0m             \u001b[0mX\u001b[0m\u001b[0;34m,\u001b[0m\u001b[0;34m\u001b[0m\u001b[0;34m\u001b[0m\u001b[0m\n\u001b[1;32m    437\u001b[0m             \u001b[0mself\u001b[0m\u001b[0;34m.\u001b[0m\u001b[0msupport_\u001b[0m\u001b[0;34m,\u001b[0m\u001b[0;34m\u001b[0m\u001b[0;34m\u001b[0m\u001b[0m\n",
      "\u001b[0;31mKeyboardInterrupt\u001b[0m: "
     ]
    },
    {
     "data": {
      "text/plain": [
       "<Figure size 1152x720 with 0 Axes>"
      ]
     },
     "metadata": {},
     "output_type": "display_data"
    }
   ],
   "source": [
    "# GAN Training Loop\n",
    "pd.options.mode.chained_assignment = None  # default='warn'\n",
    "\n",
    "pre_epochs = 50\n",
    "post_epochs = 300\n",
    "path = f\"generated/images_{pre_epochs}pre_{post_epochs}post/\"\n",
    "\n",
    "imgs_dicts = {}\n",
    "\n",
    "\n",
    "for i in range(10):\n",
    "  print(f\"** TRAINING  {i} **\")\n",
    "  gen_loss_dict = {}\n",
    "  dis_loss_dict = {}\n",
    "  d_loss_plot = []\n",
    "  d_real_loss_plot = []\n",
    "  d_fake_loss_plot = []\n",
    "  g_loss_plot = []\n",
    "\n",
    "  for pre_epochs in range(50,350,50):\n",
    "    path = f\"generated/images_{pre_epochs}pre_{post_epochs}post/\"\n",
    "    \n",
    "    gen_loss_dict = {}\n",
    "    dis_loss_dict = {}\n",
    "    d_loss_plot = []\n",
    "    d_real_loss_plot = []\n",
    "    d_fake_loss_plot = []\n",
    "    g_loss_plot = []\n",
    "\n",
    "    # Dict to save dicts with generated images per epoche\n",
    "    imgs_dicts[str(i)] = {}\n",
    "    generator = create_generator_model()\n",
    "    discriminator = make_discriminator_model()\n",
    "    train(datasets_train[i], str(i), pre_epochs, generator=generator, discriminator=discriminator, save_images_dict=imgs_dicts[str(i)])\n",
    "    save_losses(loss_lists=[[x.numpy() for x in g_loss_plot],[x.numpy() for x in d_real_loss_plot],[x.numpy() for x in d_fake_loss_plot]], dataclass=i)\n",
    "    plot_loss(str(i), d_loss_plot, g_loss_plot, d_real_loss_plot, d_fake_loss_plot)\n",
    "\n",
    "    # Evaluate generated images using SVM classifier\n",
    "    evaluate_images_w_svm(imgs_dicts[str(i)], str(i), pre_epochs)\n",
    "\n",
    "    for j in [3,4,8,9]:\n",
    "      if i != j:\n",
    "        print(f\"** TRAINING  {i}{j} **\")\n",
    "        imgs_dicts[f\"{i}{j}\"] = {}\n",
    "        generator_cpy = tf.keras.models.clone_model(generator)\n",
    "        generator_cpy.build((None, 100))\n",
    "        generator_cpy.compile(optimizer=generator_optimizer, loss='categorical_crossentropy')\n",
    "        generator_cpy.set_weights(generator.get_weights())\n",
    "        discriminator_cpy = tf.keras.models.clone_model(discriminator)\n",
    "        discriminator_cpy.build((None, [28, 28, 1]))\n",
    "        discriminator_cpy.compile(optimizer=discriminator_optimizer, loss='categorical_crossentropy')\n",
    "        discriminator_cpy.set_weights(discriminator.get_weights())\n",
    "\n",
    "        gen_loss_dict = {}\n",
    "        dis_loss_dict = {}\n",
    "        d_loss_plot = []\n",
    "        d_real_loss_plot = []\n",
    "        d_fake_loss_plot = []\n",
    "        g_loss_plot = []\n",
    "\n",
    "        train(datasets_train[j], f\"{i}{j}\", post_epochs, generator=generator_cpy, discriminator=discriminator_cpy, save_images_dict=imgs_dicts[f\"{i}{j}\"])\n",
    "        save_losses(loss_lists=[[x.numpy() for x in g_loss_plot],[x.numpy() for x in d_real_loss_plot],[x.numpy() for x in d_fake_loss_plot]], dataclass=f\"{i}{j}\")\n",
    "        plot_loss(f\"{i}{j}\", d_loss_plot, g_loss_plot, d_real_loss_plot, d_fake_loss_plot)\n",
    "\n",
    "        # Evaluate generated images using SVM classifier\n",
    "        evaluate_images_w_svm(imgs_dicts[f\"{i}{j}\"], f\"{i}{j}\", post_epochs)\n",
    "        \"\"\"\n",
    "        # Sleep for 60 seconds every 2nd round (cool down GPU)\n",
    "        if j % 2 != 0:\n",
    "          print(\" ++ Waiting 20 Seconds. ++\")\n",
    "          time.sleep(20)\n",
    "        \"\"\"\n",
    "      else:\n",
    "        print(f\"-- NOT TRAINING  {i}{j} --\")\n"
   ]
  },
  {
   "cell_type": "code",
   "execution_count": null,
   "metadata": {},
   "outputs": [],
   "source": []
  },
  {
   "cell_type": "code",
   "execution_count": null,
   "metadata": {},
   "outputs": [],
   "source": []
  },
  {
   "cell_type": "code",
   "execution_count": null,
   "metadata": {},
   "outputs": [],
   "source": []
  },
  {
   "cell_type": "code",
   "execution_count": null,
   "metadata": {},
   "outputs": [],
   "source": []
  },
  {
   "cell_type": "code",
   "execution_count": null,
   "metadata": {},
   "outputs": [],
   "source": []
  },
  {
   "cell_type": "code",
   "execution_count": null,
   "metadata": {},
   "outputs": [],
   "source": []
  },
  {
   "cell_type": "code",
   "execution_count": null,
   "metadata": {},
   "outputs": [],
   "source": []
  },
  {
   "cell_type": "markdown",
   "metadata": {},
   "source": [
    "# cGAN (https://www.kaggle.com/jjjokkker/cgan-for-mnist)"
   ]
  },
  {
   "cell_type": "code",
   "execution_count": null,
   "metadata": {},
   "outputs": [],
   "source": [
    "from __future__ import division, print_function\n",
    "from keras.preprocessing.image import ImageDataGenerator\n",
    "from keras.utils import np_utils\n",
    "import itertools\n",
    "import time\n",
    "import matplotlib.pyplot as plt\n",
    "import numpy as np\n",
    "import random\n",
    "import os\n",
    "import cv2\n",
    "from PIL import Image\n",
    "from sklearn.metrics import confusion_matrix\n",
    "from keras.preprocessing import image\n",
    "from keras.models import Model, Sequential\n",
    "from keras.layers import Activation, Dense, Flatten, GlobalAveragePooling2D, BatchNormalization, Dropout, Conv2D, Conv2DTranspose, AveragePooling2D, MaxPooling2D, UpSampling2D, Input, Reshape, Lambda, merge, Concatenate, Subtract, Reshape, multiply\n",
    "from keras.layers import Embedding, ZeroPadding2D\n",
    "from keras.regularizers import l2\n",
    "from keras.layers.advanced_activations import LeakyReLU\n",
    "from keras import backend as K\n",
    "from tensorflow.keras.optimizers import Nadam, Adam, SGD\n",
    "from tensorflow.keras.metrics import categorical_accuracy, binary_accuracy\n",
    "from tensorflow.keras.callbacks import Callback, History\n",
    "import tensorflow as tf\n",
    "import pandas as pd\n",
    "import glob\n",
    "import PIL\n",
    "from sys import getsizeof\n",
    "from PIL import Image\n",
    "from sklearn.metrics.pairwise import cosine_similarity\n",
    "from matplotlib.ticker import MaxNLocator\n",
    "from sklearn.utils import class_weight\n",
    "from keras.datasets import mnist"
   ]
  },
  {
   "cell_type": "code",
   "execution_count": null,
   "metadata": {},
   "outputs": [],
   "source": [
    "(X_train, y_train), (X_test, y_test) = mnist.load_data()\n",
    "# Image shape information\n",
    "img_rows = X_train.shape[1]\n",
    "img_cols = X_train.shape[2]\n",
    "if len(X_train.shape) == 4:\n",
    "    channels = X_train.shape[3]\n",
    "else:\n",
    "    channels = 1\n",
    "img_shape = (img_rows, img_cols, channels)\n",
    "num_classes = 10\n",
    "latent_dim = 100\n",
    "optimizer = Adam(0.0002, 0.5)"
   ]
  },
  {
   "cell_type": "code",
   "execution_count": null,
   "metadata": {},
   "outputs": [],
   "source": [
    "def generator():\n",
    "    model = Sequential()\n",
    "    model.add(Dense(256, input_dim=latent_dim))\n",
    "    model.add(LeakyReLU(alpha=0.2))\n",
    "    model.add(BatchNormalization(momentum=0.8))\n",
    "    model.add(Dense(512))\n",
    "    model.add(LeakyReLU(alpha=0.2))\n",
    "    model.add(BatchNormalization(momentum=0.8))\n",
    "    model.add(Dense(1024))\n",
    "    model.add(LeakyReLU(alpha=0.2))\n",
    "    model.add(BatchNormalization(momentum=0.8))\n",
    "    model.add(Dense(np.prod(img_shape), activation='tanh'))\n",
    "    model.add(Reshape(img_shape))\n",
    "    model.summary()\n",
    "    noise = Input(shape=(latent_dim,))\n",
    "    label = Input(shape=(1,), dtype='int32')\n",
    "    label_embedding = Flatten()(Embedding(num_classes, latent_dim)(label))\n",
    "    model_input = multiply([noise, label_embedding])\n",
    "    img = model(model_input)\n",
    "    return Model([noise, label], img)"
   ]
  },
  {
   "cell_type": "code",
   "execution_count": null,
   "metadata": {},
   "outputs": [],
   "source": [
    "def discriminator():\n",
    "    model = Sequential()\n",
    "    model.add(Dense(512, input_dim=np.prod(img_shape)))\n",
    "    model.add(LeakyReLU(alpha=0.2))\n",
    "    model.add(Dense(512))\n",
    "    model.add(LeakyReLU(alpha=0.2))\n",
    "    model.add(Dropout(0.4))\n",
    "    model.add(Dense(512))\n",
    "    model.add(LeakyReLU(alpha=0.2))\n",
    "    model.add(Dropout(0.4))\n",
    "    model.add(Dense(1, activation='sigmoid'))\n",
    "    model.summary()\n",
    "    img = Input(shape=img_shape)\n",
    "    label = Input(shape=(1,), dtype='int32')\n",
    "    label_embedding = Flatten()(Embedding(num_classes, np.prod(img_shape))(label))\n",
    "    flat_img = Flatten()(img)\n",
    "    model_input = multiply([flat_img, label_embedding])\n",
    "    validity = model(model_input)\n",
    "    return Model([img, label], validity)"
   ]
  },
  {
   "cell_type": "code",
   "execution_count": null,
   "metadata": {},
   "outputs": [],
   "source": [
    "discriminator = discriminator()\n",
    "discriminator.compile(loss=['binary_crossentropy'], optimizer=optimizer, metrics=['accuracy'])\n",
    "# Build the generator\n",
    "generator = generator()\n",
    "# The generator takes noise and the target label as input\n",
    "# and generates the corresponding digit of that label\n",
    "noise = Input(shape=(latent_dim,))\n",
    "label = Input(shape=(1,))\n",
    "img = generator([noise, label])\n",
    "# For the combined model we will only train the generator\n",
    "discriminator.trainable = False\n",
    "# The discriminator takes generated image as input and determines validity\n",
    "# and the label of that image\n",
    "valid = discriminator([img, label])\n",
    "# The combined model  (stacked generator and discriminator)\n",
    "# Trains generator to fool discriminator\n",
    "combined = Model([noise, label], valid)\n",
    "combined.compile(loss=['binary_crossentropy'], optimizer=optimizer)"
   ]
  },
  {
   "cell_type": "code",
   "execution_count": null,
   "metadata": {},
   "outputs": [],
   "source": [
    "def sample_images(epoch, train_on=None):\n",
    "    r, c = 2, 5\n",
    "    noise = np.random.normal(0, 1, (r * c, 100))\n",
    "    if train_on:\n",
    "        sampled_labels = np.full(10, train_on).reshape(-1, 1)\n",
    "    else:\n",
    "        sampled_labels = np.arange(0, 10).reshape(-1, 1)\n",
    "\n",
    "    gen_imgs = generator.predict([noise, sampled_labels])\n",
    "\n",
    "    # Rescale images 0 - 1\n",
    "    gen_imgs = 0.5 * gen_imgs + 0.5\n",
    "\n",
    "    fig, axs = plt.subplots(r, c)\n",
    "    cnt = 0\n",
    "    for i in range(r):\n",
    "        for j in range(c):\n",
    "            axs[i,j].imshow(gen_imgs[cnt,:,:,0], cmap='gray')\n",
    "            axs[i,j].set_title(\"Digit: %d\" % sampled_labels[cnt])\n",
    "            axs[i,j].axis('off')\n",
    "            cnt += 1\n",
    "    fig.savefig(\"images/%d.png\" % epoch)\n",
    "    plt.close()"
   ]
  },
  {
   "cell_type": "code",
   "execution_count": null,
   "metadata": {},
   "outputs": [],
   "source": [
    "epochs=5000\n",
    "batch_size=32\n",
    "sample_interval=500"
   ]
  },
  {
   "cell_type": "code",
   "execution_count": null,
   "metadata": {},
   "outputs": [],
   "source": [
    "X_train = (X_train.astype(np.float32) - 127.5) / 127.5\n",
    "X_train = np.expand_dims(X_train, axis=3)\n",
    "y_train = y_train.reshape(-1, 1)\n",
    "\n",
    "# Adversarial ground truths\n",
    "valid = np.ones((batch_size, 1))\n",
    "fake = np.zeros((batch_size, 1))    \n",
    "\n",
    "# Declaring empty lists to save the losses for plotting\n",
    "d_loss_plot = []\n",
    "g_loss_plot = []\n",
    "acc_plot = []"
   ]
  },
  {
   "cell_type": "code",
   "execution_count": null,
   "metadata": {},
   "outputs": [],
   "source": [
    "X_3 = []\n",
    "X_8 = []\n",
    "for i in range(len(X_train)):\n",
    "    if y_train[i] == 3:\n",
    "        X_3.append(i)\n",
    "    if y_train[i] == 8:\n",
    "        X_8.append(i)"
   ]
  },
  {
   "cell_type": "code",
   "execution_count": null,
   "metadata": {},
   "outputs": [],
   "source": [
    "imgs, labels = X_train[X_3][idx], y_train[X_3][idx]\n",
    "labels.shape"
   ]
  },
  {
   "cell_type": "code",
   "execution_count": null,
   "metadata": {},
   "outputs": [],
   "source": [
    "for epoch in range(epochs):\n",
    "    #Training the Discriminator\n",
    "    # Select a random half batch of images\n",
    "    idx = np.random.randint(0, X_train.shape[0], batch_size)\n",
    "    imgs, labels = X_train[idx], y_train[idx]\n",
    "    # Sample noise as generator input\n",
    "    noise = np.random.normal(0, 1, (batch_size, 100))\n",
    "    # Generate a half batch of new images\n",
    "    gen_imgs = generator.predict([noise, labels])\n",
    "    # Train the discriminator\n",
    "    d_loss_real = discriminator.train_on_batch([imgs, labels], valid)\n",
    "    d_loss_fake = discriminator.train_on_batch([gen_imgs, labels], fake)\n",
    "    d_loss = 0.5 * np.add(d_loss_real, d_loss_fake)\n",
    "    #Training the Generator\n",
    "    # Condition on labels\n",
    "    sampled_labels = np.random.randint(0, 10, batch_size).reshape(-1, 1)\n",
    "    # Train the generator\n",
    "    g_loss = combined.train_on_batch([noise, sampled_labels], valid)\n",
    "    # Saving the Discriminator and Generator losses and accuracy for plotting\n",
    "    d_loss_plot.append(d_loss[0])\n",
    "    g_loss_plot.append(g_loss)\n",
    "    acc_plot.append(d_loss[1])\n",
    "    \n",
    "    # Plot the progress every 100 epochs\n",
    "    if epoch % 500 == 0:\n",
    "        print (\"%d/%d [D loss: %f, acc.: %.2f%%] [G loss: %f]\" % (epoch, epochs, d_loss[0], 100*d_loss[1], g_loss))\n",
    "        samples = 10\n",
    "        z = np.random.normal(loc=0, scale=1, size=(samples, latent_dim))\n",
    "        labels = np.arange(0, 10).reshape(-1, 1)\n",
    "        \n",
    "        x_fake = generator.predict([z, labels])\n",
    "        for k in range(samples):\n",
    "            plt.subplot(2, 5, k+1)\n",
    "            plt.imshow(x_fake[k].reshape(28, 28), cmap='gray')\n",
    "            plt.xticks([])\n",
    "            plt.yticks([])\n",
    "        plt.tight_layout()\n",
    "        plt.show()\n",
    "    # Saving generated image samples at every sample interval\n",
    "    if epoch % sample_interval == 0:\n",
    "        sample_images(epoch)"
   ]
  },
  {
   "cell_type": "markdown",
   "metadata": {},
   "source": [
    "def train(gen, disc, epochs, X_train, y_train, train_on=None):\n",
    "    if train_on:\n",
    "        print(f\"** TRAINING ON IMAGES WITH LABEL  {train_on} **\")\n",
    "\n",
    "    for epoch in range(epochs):\n",
    "        #Training the Discriminator\n",
    "\n",
    "        # Select a random half batch of images\n",
    "        idx = np.random.randint(0, X_train.shape[0], batch_size)\n",
    "        imgs, labels = X_train[idx], y_train[idx]\n",
    "\n",
    "        # Sample noise as generator input\n",
    "        noise = np.random.normal(0, 1, (batch_size, 100))\n",
    "\n",
    "        # Generate a half batch of new images\n",
    "        gen_imgs = gen.predict([noise, labels])\n",
    "\n",
    "        # Train the discriminator\n",
    "        d_loss_real = disc.train_on_batch([imgs, labels], valid)\n",
    "        d_loss_fake = disc.train_on_batch([gen_imgs, labels], fake)\n",
    "        d_loss = 0.5 * np.add(d_loss_real, d_loss_fake)\n",
    "\n",
    "\n",
    "        #Training the Generator\n",
    "\n",
    "        # Condition on label\n",
    "        sampled_labels = np.random.randint(0, 10, batch_size).reshape(-1, 1)\n",
    "        # Train the generator\n",
    "        g_loss = combined.train_on_batch([noise, sampled_labels], valid)\n",
    "\n",
    "\n",
    "        # Saving the Discriminator and Generator losses and accuracy for plotting\n",
    "        d_loss_plot.append(d_loss[0])\n",
    "        g_loss_plot.append(g_loss)\n",
    "        acc_plot.append(d_loss[1])\n",
    "\n",
    "        # Plot the progress every 500 epochs\n",
    "        if epoch % 500 == 0:\n",
    "            print (\"%d/%d [D loss: %f, acc.: %.2f%%] [G loss: %f]\" % (epoch, epochs, d_loss[0], 100*d_loss[1], g_loss))\n",
    "\n",
    "            samples = 10\n",
    "            z = np.random.normal(loc=0, scale=1, size=(samples, latent_dim))\n",
    "            labels = np.arange(0, 10).reshape(-1, 1)\n",
    "            \n",
    "            x_fake = gen.predict([z, labels])\n",
    "\n",
    "            for k in range(samples):\n",
    "                plt.subplot(2, 5, k+1)\n",
    "                plt.imshow(x_fake[k].reshape(28, 28), cmap='gray')\n",
    "                plt.xticks([])\n",
    "                plt.yticks([])\n",
    "\n",
    "            plt.tight_layout()\n",
    "            plt.show()\n",
    "\n",
    "        # Saving generated image samples at every sample interval\n",
    "        if epoch % sample_interval == 0:\n",
    "            if train_on:\n",
    "                sample_images(epoch, generator=gen, train_on=train_on)\n",
    "            else:\n",
    "                sample_images(epoch, generator=gen)"
   ]
  },
  {
   "cell_type": "markdown",
   "metadata": {},
   "source": [
    "train(generator, discriminator, epochs=5000, X_train=X_train, y_train=y_train)"
   ]
  },
  {
   "cell_type": "code",
   "execution_count": null,
   "metadata": {},
   "outputs": [],
   "source": [
    "plt.plot(acc_plot)\n",
    "\n",
    "plt.title('Discriminator accuracy')\n",
    "\n",
    "plt.ylabel('accuracy')\n",
    "\n",
    "plt.xlabel('epoch')\n",
    "\n",
    "plt.show()\n",
    "\n",
    "\n",
    "\n",
    "# Loss plots\n",
    "\n",
    "plt.plot(d_loss_plot)\n",
    "\n",
    "plt.plot(g_loss_plot)\n",
    "\n",
    "plt.title('Losses')\n",
    "\n",
    "plt.ylabel('loss')\n",
    "\n",
    "plt.xlabel('epoch')\n",
    "\n",
    "plt.legend(['Discriminator', 'Generator'])\n",
    "\n",
    "plt.show()\n"
   ]
  },
  {
   "cell_type": "markdown",
   "metadata": {},
   "source": [
    "# Inceptions Score (IS)"
   ]
  },
  {
   "cell_type": "code",
   "execution_count": null,
   "metadata": {},
   "outputs": [],
   "source": [
    "from numpy import expand_dims\n",
    "from numpy import log\n",
    "from numpy import mean\n",
    "from numpy import exp\n",
    " \n",
    "# calculate the inception score for p(y|x)\n",
    "def calculate_inception_score(p_yx, eps=1E-16):\n",
    "\t# calculate p(y)\n",
    "\tp_y = expand_dims(p_yx.mean(axis=0), 0)\n",
    "\t# kl divergence for each image\n",
    "\tkl_d = p_yx * (log(p_yx + eps) - log(p_y + eps))\n",
    "\t# sum over classes\n",
    "\tsum_kl_d = kl_d.sum(axis=1)\n",
    "\t# average over images\n",
    "\tavg_kl_d = mean(sum_kl_d)\n",
    "\t# undo the logs\n",
    "\tis_score = exp(avg_kl_d)\n",
    "\treturn is_score"
   ]
  },
  {
   "cell_type": "code",
   "execution_count": null,
   "metadata": {},
   "outputs": [],
   "source": []
  },
  {
   "cell_type": "code",
   "execution_count": null,
   "metadata": {},
   "outputs": [],
   "source": []
  },
  {
   "cell_type": "code",
   "execution_count": null,
   "metadata": {},
   "outputs": [],
   "source": []
  },
  {
   "cell_type": "code",
   "execution_count": null,
   "metadata": {},
   "outputs": [],
   "source": [
    "# example of training an unstable gan for generating a handwritten digit\n",
    "from os import makedirs\n",
    "from numpy import expand_dims\n",
    "from numpy import zeros\n",
    "from numpy import ones\n",
    "from numpy.random import randn\n",
    "from numpy.random import randint\n",
    "from keras.datasets.mnist import load_data\n",
    "from keras.models import Sequential\n",
    "from keras.layers import Dense\n",
    "from keras.layers import Reshape\n",
    "from keras.layers import Flatten\n",
    "from keras.layers import Conv2D\n",
    "from keras.layers import Conv2DTranspose\n",
    "from keras.layers import LeakyReLU\n",
    "from keras.initializers import RandomNormal\n",
    "from matplotlib import pyplot\n",
    "\n",
    "# define the standalone discriminator model\n",
    "def define_discriminator(in_shape=(28,28,1)):\n",
    "\t# weight initialization\n",
    "\tinit = RandomNormal(stddev=0.02)\n",
    "\t# define model\n",
    "\tmodel = Sequential()\n",
    "\t# downsample to 14x14\n",
    "\tmodel.add(Conv2D(64, (4,4), strides=(2,2), padding='same', kernel_initializer=init, input_shape=in_shape))\n",
    "\tmodel.add(LeakyReLU(alpha=0.2))\n",
    "\t# downsample to 7x7\n",
    "\tmodel.add(Conv2D(64, (4,4), strides=(2,2), padding='same', kernel_initializer=init))\n",
    "\tmodel.add(LeakyReLU(alpha=0.2))\n",
    "\t# classifier\n",
    "\tmodel.add(Flatten())\n",
    "\tmodel.add(Dense(1, activation='sigmoid'))\n",
    "\t# compile model\n",
    "\tmodel.compile(loss='binary_crossentropy', optimizer='adam', metrics=['accuracy'])\n",
    "\treturn model\n",
    "\n",
    "# define the standalone generator model\n",
    "def define_generator(latent_dim):\n",
    "\t# weight initialization\n",
    "\tinit = RandomNormal(stddev=0.02)\n",
    "\t# define model\n",
    "\tmodel = Sequential()\n",
    "\t# foundation for 7x7 image\n",
    "\tn_nodes = 128 * 7 * 7\n",
    "\tmodel.add(Dense(n_nodes, kernel_initializer=init, input_dim=latent_dim))\n",
    "\tmodel.add(LeakyReLU(alpha=0.2))\n",
    "\tmodel.add(Reshape((7, 7, 128)))\n",
    "\t# upsample to 14x14\n",
    "\tmodel.add(Conv2DTranspose(128, (4,4), strides=(2,2), padding='same', kernel_initializer=init))\n",
    "\tmodel.add(LeakyReLU(alpha=0.2))\n",
    "\t# upsample to 28x28\n",
    "\tmodel.add(Conv2DTranspose(128, (4,4), strides=(2,2), padding='same', kernel_initializer=init))\n",
    "\tmodel.add(LeakyReLU(alpha=0.2))\n",
    "\t# output 28x28x1\n",
    "\tmodel.add(Conv2D(1, (7,7), activation='tanh', padding='same', kernel_initializer=init))\n",
    "\treturn model\n",
    "\n",
    "# define the combined generator and discriminator model, for updating the generator\n",
    "def define_gan(generator, discriminator):\n",
    "\t# make weights in the discriminator not trainable\n",
    "\tdiscriminator.trainable = False\n",
    "\t# connect them\n",
    "\tmodel = Sequential()\n",
    "\t# add generator\n",
    "\tmodel.add(generator)\n",
    "\t# add the discriminator\n",
    "\tmodel.add(discriminator)\n",
    "\t# compile model\n",
    "\tmodel.compile(loss='binary_crossentropy', optimizer='adam')\n",
    "\treturn model\n",
    "\n",
    "# load mnist images\n",
    "def load_real_samples():\n",
    "\t# load dataset\n",
    "\t(trainX, trainy), (_, _) = load_data()\n",
    "\t# expand to 3d, e.g. add channels\n",
    "\tX = expand_dims(trainX, axis=-1)\n",
    "\t# select all of the examples for a given class\n",
    "\tselected_ix = trainy == 8\n",
    "\tX = X[selected_ix]\n",
    "\t# convert from ints to floats\n",
    "\tX = X.astype('float32')\n",
    "\t# scale from [0,255] to [-1,1]\n",
    "\tX = (X - 127.5) / 127.5\n",
    "\treturn X\n",
    "\n",
    "# select real samples\n",
    "def generate_real_samples(dataset, n_samples):\n",
    "\t# choose random instances\n",
    "\tix = randint(0, dataset.shape[0], n_samples)\n",
    "\t# select images\n",
    "\tX = dataset[ix]\n",
    "\t# generate class labels\n",
    "\ty = ones((n_samples, 1))\n",
    "\treturn X, y\n",
    "\n",
    "# generate points in latent space as input for the generator\n",
    "def generate_latent_points(latent_dim, n_samples):\n",
    "\t# generate points in the latent space\n",
    "\tx_input = randn(latent_dim * n_samples)\n",
    "\t# reshape into a batch of inputs for the network\n",
    "\tx_input = x_input.reshape(n_samples, latent_dim)\n",
    "\treturn x_input\n",
    "\n",
    "# use the generator to generate n fake examples, with class labels\n",
    "def generate_fake_samples(generator, latent_dim, n_samples):\n",
    "\t# generate points in latent space\n",
    "\tx_input = generate_latent_points(latent_dim, n_samples)\n",
    "\t# predict outputs\n",
    "\tX = generator.predict(x_input)\n",
    "\t# create class labels\n",
    "\ty = zeros((n_samples, 1))\n",
    "\treturn X, y\n",
    "\n",
    "# generate samples and save as a plot and save the model\n",
    "def summarize_performance(step, g_model, latent_dim, n_samples=100):\n",
    "\t# prepare fake examples\n",
    "\tX, _ = generate_fake_samples(g_model, latent_dim, n_samples)\n",
    "\t# scale from [-1,1] to [0,1]\n",
    "\tX = (X + 1) / 2.0\n",
    "\t# plot images\n",
    "\tfor i in range(10 * 10):\n",
    "\t\t# define subplot\n",
    "\t\tpyplot.subplot(10, 10, 1 + i)\n",
    "\t\t# turn off axis\n",
    "\t\tpyplot.axis('off')\n",
    "\t\t# plot raw pixel data\n",
    "\t\tpyplot.imshow(X[i, :, :, 0], cmap='gray_r')\n",
    "\t# save plot to file\n",
    "\tpyplot.savefig('results_opt/generated_plot_%03d.png' % (step+1))\n",
    "\tpyplot.close()\n",
    "\t# save the generator model\n",
    "\t# g_model.save('results_opt/model_%03d.h5' % (step+1))\n",
    "\n",
    "# create a line plot of loss for the gan and save to file\n",
    "def plot_history(d1_hist, d2_hist, g_hist, a1_hist, a2_hist):\n",
    "\t# plot loss\n",
    "\tpyplot.subplot(2, 1, 1)\n",
    "\tpyplot.plot(d1_hist, label='d-real')\n",
    "\tpyplot.plot(d2_hist, label='d-fake')\n",
    "\tpyplot.plot(g_hist, label='gen')\n",
    "\tpyplot.legend()\n",
    "    #pyplot.show()\n",
    "\t# plot discriminator accuracy\n",
    "\tpyplot.subplot(2, 1, 2)\n",
    "\tpyplot.plot(a1_hist, label='acc-real')\n",
    "\tpyplot.plot(a2_hist, label='acc-fake')\n",
    "\tpyplot.legend()\n",
    "\t# save plot to file\n",
    "\tpyplot.savefig('results_opt/plot_line_plot_loss.png')\n",
    "    #pyplot.show()\n",
    "\tpyplot.close()\n",
    "\n",
    "# train the generator and discriminator\n",
    "def train(g_model, d_model, gan_model, dataset, latent_dim, n_epochs=10, n_batch=128):\n",
    "\t# calculate the number of batches per epoch\n",
    "\tbat_per_epo = int(dataset.shape[0] / n_batch)\n",
    "\t# calculate the total iterations based on batch and epoch\n",
    "\tn_steps = bat_per_epo * n_epochs\n",
    "\t# calculate the number of samples in half a batch\n",
    "\thalf_batch = int(n_batch / 2)\n",
    "\t# prepare lists for storing stats each iteration\n",
    "\td1_hist, d2_hist, g_hist, a1_hist, a2_hist = list(), list(), list(), list(), list()\n",
    "\t# manually enumerate epochs\n",
    "\tfor i in range(n_steps):\n",
    "\t\t# get randomly selected 'real' samples\n",
    "\t\tX_real, y_real = generate_real_samples(dataset, half_batch)\n",
    "\t\t# update discriminator model weights\n",
    "\t\td_loss1, d_acc1 = d_model.train_on_batch(X_real, y_real)\n",
    "\t\t# generate 'fake' examples\n",
    "\t\tX_fake, y_fake = generate_fake_samples(g_model, latent_dim, half_batch)\n",
    "\t\t# update discriminator model weights\n",
    "\t\td_loss2, d_acc2 = d_model.train_on_batch(X_fake, y_fake)\n",
    "\t\t# prepare points in latent space as input for the generator\n",
    "\t\tX_gan = generate_latent_points(latent_dim, n_batch)\n",
    "\t\t# create inverted labels for the fake samples\n",
    "\t\ty_gan = ones((n_batch, 1))\n",
    "\t\t# update the generator via the discriminator's error\n",
    "\t\tg_loss = gan_model.train_on_batch(X_gan, y_gan)\n",
    "\t\t# summarize loss on this batch\n",
    "\t\tprint('>%d, d1=%.3f, d2=%.3f g=%.3f, a1=%d, a2=%d' %\n",
    "\t\t\t(i+1, d_loss1, d_loss2, g_loss, int(100*d_acc1), int(100*d_acc2)))\n",
    "\t\t# record history\n",
    "\t\td1_hist.append(d_loss1)\n",
    "\t\td2_hist.append(d_loss2)\n",
    "\t\tg_hist.append(g_loss)\n",
    "\t\ta1_hist.append(d_acc1)\n",
    "\t\ta2_hist.append(d_acc2)\n",
    "\t\t# evaluate the model performance every 'epoch'\n",
    "\t\tif (i+1) % bat_per_epo == 0:\n",
    "\t\t\tsummarize_performance(i, g_model, latent_dim)\n",
    "\tplot_history(d1_hist, d2_hist, g_hist, a1_hist, a2_hist)\n",
    "\n",
    "# make folder for results\n",
    "makedirs('results_opt', exist_ok=True)\n",
    "# size of the latent space\n",
    "latent_dim = 50\n",
    "# create the discriminator\n",
    "discriminator = define_discriminator()\n",
    "# create the generator\n",
    "generator = define_generator(latent_dim)\n",
    "# create the gan\n",
    "gan_model = define_gan(generator, discriminator)\n",
    "# load image data\n",
    "dataset = X_train[y_train==0]\n",
    "# load_real_samples()\n",
    "print(dataset.shape)\n",
    "# train model\n",
    "train(generator, discriminator, gan_model, dataset, latent_dim)"
   ]
  },
  {
   "cell_type": "code",
   "execution_count": null,
   "metadata": {},
   "outputs": [],
   "source": []
  }
 ],
 "metadata": {
  "interpreter": {
   "hash": "9842a4bdf51560a3b283fac5cc4929f97292a62b2d6c868e7d0e623934b2f6d3"
  },
  "kernelspec": {
   "display_name": "Python 3.8.12 64-bit ('DataScience': conda)",
   "language": "python",
   "name": "python3"
  },
  "language_info": {
   "codemirror_mode": {
    "name": "ipython",
    "version": 3
   },
   "file_extension": ".py",
   "mimetype": "text/x-python",
   "name": "python",
   "nbconvert_exporter": "python",
   "pygments_lexer": "ipython3",
   "version": "3.8.12"
  },
  "orig_nbformat": 4
 },
 "nbformat": 4,
 "nbformat_minor": 2
}
