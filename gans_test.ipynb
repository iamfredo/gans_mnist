{
 "cells": [
  {
   "cell_type": "code",
   "execution_count": 2,
   "metadata": {},
   "outputs": [],
   "source": [
    "import tensorflow as tf\n",
    "import glob\n",
    "import imageio\n",
    "import matplotlib.pyplot as plt\n",
    "import numpy as np\n",
    "import os\n",
    "import pandas as pd\n",
    "import PIL\n",
    "from tensorflow.keras import layers\n",
    "import time\n",
    "\n",
    "from IPython import display"
   ]
  },
  {
   "cell_type": "markdown",
   "metadata": {},
   "source": [
    "# Load & Normalize Data (-1 to 1)"
   ]
  },
  {
   "cell_type": "code",
   "execution_count": 3,
   "metadata": {},
   "outputs": [],
   "source": [
    "(X_train, y_train), (X_test, y_test) = tf.keras.datasets.mnist.load_data()\n",
    "\n",
    "X_train = X_train.reshape(X_train.shape[0], 28, 28, 1).astype('float32')\n",
    "X_test = X_test.reshape(X_test.shape[0], 28, 28, 1).astype('float32')\n",
    "\n",
    "X_train = (X_train - 127.5) / 127.5\n",
    "X_test = (X_test - 127.5) / 127.5\n",
    "\n",
    "# BUFFER_SIZE = 60000\n",
    "BATCH_SIZE = 128\n",
    "\n",
    "# train_dataset = tf.data.Dataset.from_tensor_slices(X_train[:8000]).shuffle(BUFFER_SIZE).batch(BATCH_SIZE)"
   ]
  },
  {
   "cell_type": "markdown",
   "metadata": {},
   "source": [
    "# Prepare Datasets"
   ]
  },
  {
   "cell_type": "code",
   "execution_count": 4,
   "metadata": {},
   "outputs": [],
   "source": [
    "classes = {}\n",
    "\n",
    "for i in range(10):\n",
    "    classes[f\"df_{i}\"] = X_train[:8000][y_train[:8000] == i]"
   ]
  },
  {
   "cell_type": "code",
   "execution_count": 5,
   "metadata": {},
   "outputs": [
    {
     "name": "stdout",
     "output_type": "stream",
     "text": [
      "0 795 9.94\n",
      "1 906 11.32\n",
      "2 788 9.85\n",
      "3 811 10.14\n",
      "4 799 9.99\n",
      "5 702 8.77\n",
      "6 798 9.98\n",
      "7 853 10.66\n",
      "8 753 9.41\n",
      "9 795 9.94\n"
     ]
    }
   ],
   "source": [
    "for i in range(10):\n",
    "    num = len(classes[f\"df_{i}\"])\n",
    "    print(i, num, np.round(num/8000*100, 2))\n"
   ]
  },
  {
   "cell_type": "code",
   "execution_count": 6,
   "metadata": {},
   "outputs": [
    {
     "name": "stdout",
     "output_type": "stream",
     "text": [
      "Metal device set to: Apple M1 Pro\n",
      "\n",
      "systemMemory: 16.00 GB\n",
      "maxCacheSize: 5.33 GB\n",
      "\n"
     ]
    },
    {
     "name": "stderr",
     "output_type": "stream",
     "text": [
      "2022-05-05 11:44:06.276693: I tensorflow/core/common_runtime/pluggable_device/pluggable_device_factory.cc:305] Could not identify NUMA node of platform GPU ID 0, defaulting to 0. Your kernel may not have been built with NUMA support.\n",
      "2022-05-05 11:44:06.277200: I tensorflow/core/common_runtime/pluggable_device/pluggable_device_factory.cc:271] Created TensorFlow device (/job:localhost/replica:0/task:0/device:GPU:0 with 0 MB memory) -> physical PluggableDevice (device: 0, name: METAL, pci bus id: <undefined>)\n"
     ]
    }
   ],
   "source": [
    "datasets_train = {}\n",
    "# train_dataset_0 = tf.data.Dataset.from_tensor_slices(classes[\"df_0\"][:800]).shuffle(len(classes[\"df_0\"][:800])).batch(BATCH_SIZE)\n",
    "train_dataset_0 = tf.data.Dataset.from_tensor_slices(classes[\"df_0\"]).shuffle(len(classes[\"df_0\"])).batch(BATCH_SIZE)\n",
    "train_dataset_1 = tf.data.Dataset.from_tensor_slices(classes[\"df_1\"]).shuffle(len(classes[\"df_1\"])).batch(BATCH_SIZE)\n",
    "train_dataset_2 = tf.data.Dataset.from_tensor_slices(classes[\"df_2\"]).shuffle(len(classes[\"df_2\"])).batch(BATCH_SIZE)\n",
    "train_dataset_3 = tf.data.Dataset.from_tensor_slices(classes[\"df_3\"]).shuffle(len(classes[\"df_3\"])).batch(BATCH_SIZE)\n",
    "train_dataset_4 = tf.data.Dataset.from_tensor_slices(classes[\"df_4\"]).shuffle(len(classes[\"df_4\"])).batch(BATCH_SIZE)\n",
    "train_dataset_5 = tf.data.Dataset.from_tensor_slices(classes[\"df_5\"]).shuffle(len(classes[\"df_5\"])).batch(BATCH_SIZE)\n",
    "train_dataset_6 = tf.data.Dataset.from_tensor_slices(classes[\"df_6\"]).shuffle(len(classes[\"df_6\"])).batch(BATCH_SIZE)\n",
    "train_dataset_7 = tf.data.Dataset.from_tensor_slices(classes[\"df_7\"]).shuffle(len(classes[\"df_7\"])).batch(BATCH_SIZE)\n",
    "train_dataset_8 = tf.data.Dataset.from_tensor_slices(classes[\"df_8\"]).shuffle(len(classes[\"df_8\"])).batch(BATCH_SIZE)\n",
    "train_dataset_9 = tf.data.Dataset.from_tensor_slices(classes[\"df_9\"]).shuffle(len(classes[\"df_9\"])).batch(BATCH_SIZE)\n",
    "datasets_train[0] = train_dataset_0\n",
    "datasets_train[1] = train_dataset_1\n",
    "datasets_train[2] = train_dataset_2\n",
    "datasets_train[3] = train_dataset_3\n",
    "datasets_train[4] = train_dataset_4\n",
    "datasets_train[5] = train_dataset_5\n",
    "datasets_train[6] = train_dataset_6\n",
    "datasets_train[7] = train_dataset_7\n",
    "datasets_train[8] = train_dataset_8\n",
    "datasets_train[9] = train_dataset_9\n",
    "\n"
   ]
  },
  {
   "cell_type": "markdown",
   "metadata": {},
   "source": [
    "datasets_train = {}\n",
    "train_dataset_0 = tf.data.Dataset.from_tensor_slices(classes[\"df_0\"][:1000]).shuffle(len(classes[\"df_0\"][:1000])).batch(BATCH_SIZE)\n",
    "train_dataset_1 = tf.data.Dataset.from_tensor_slices(classes[\"df_1\"][:1000]).shuffle(len(classes[\"df_1\"][:1000])).batch(BATCH_SIZE)\n",
    "train_dataset_2 = tf.data.Dataset.from_tensor_slices(classes[\"df_2\"][:1000]).shuffle(len(classes[\"df_2\"][:1000])).batch(BATCH_SIZE)\n",
    "train_dataset_3 = tf.data.Dataset.from_tensor_slices(classes[\"df_3\"][:1000]).shuffle(len(classes[\"df_3\"][:1000])).batch(BATCH_SIZE)\n",
    "train_dataset_4 = tf.data.Dataset.from_tensor_slices(classes[\"df_4\"][:1000]).shuffle(len(classes[\"df_4\"][:1000])).batch(BATCH_SIZE)\n",
    "train_dataset_5 = tf.data.Dataset.from_tensor_slices(classes[\"df_5\"][:1000]).shuffle(len(classes[\"df_5\"][:1000])).batch(BATCH_SIZE)\n",
    "train_dataset_6 = tf.data.Dataset.from_tensor_slices(classes[\"df_6\"][:1000]).shuffle(len(classes[\"df_6\"][:1000])).batch(BATCH_SIZE)\n",
    "train_dataset_7 = tf.data.Dataset.from_tensor_slices(classes[\"df_7\"][:1000]).shuffle(len(classes[\"df_7\"][:1000])).batch(BATCH_SIZE)\n",
    "train_dataset_8 = tf.data.Dataset.from_tensor_slices(classes[\"df_8\"][:1000]).shuffle(len(classes[\"df_8\"][:1000])).batch(BATCH_SIZE)\n",
    "train_dataset_9 = tf.data.Dataset.from_tensor_slices(classes[\"df_9\"][:1000]).shuffle(len(classes[\"df_9\"][:1000])).batch(BATCH_SIZE)\n",
    "datasets_train[0] = train_dataset_0\n",
    "datasets_train[1] = train_dataset_1\n",
    "datasets_train[2] = train_dataset_2\n",
    "datasets_train[3] = train_dataset_3\n",
    "datasets_train[4] = train_dataset_4\n",
    "datasets_train[5] = train_dataset_5\n",
    "datasets_train[6] = train_dataset_6\n",
    "datasets_train[7] = train_dataset_7\n",
    "datasets_train[8] = train_dataset_8\n",
    "datasets_train[9] = train_dataset_9\n",
    "\n"
   ]
  },
  {
   "cell_type": "markdown",
   "metadata": {},
   "source": [
    "# Create GENERATOR"
   ]
  },
  {
   "cell_type": "code",
   "execution_count": 7,
   "metadata": {},
   "outputs": [],
   "source": [
    "from tensorflow.keras import layers\n",
    "\n",
    "\n",
    "def create_generator_model():\n",
    "    model = tf.keras.Sequential()\n",
    "    model.add(layers.Dense(7*7*256, use_bias=False, input_shape=(100,)))\n",
    "    model.add(layers.BatchNormalization())\n",
    "    model.add(layers.LeakyReLU())\n",
    "\n",
    "    model.add(layers.Reshape((7,7,256)))\n",
    "    assert model.output_shape == (None, 7, 7, 256)  # None is the batch size\n",
    "\n",
    "    model.add(layers.Conv2DTranspose(128, (5, 5), strides=(1, 1), padding='same', use_bias=False))\n",
    "    assert model.output_shape == (None, 7, 7, 128)\n",
    "    model.add(layers.BatchNormalization())\n",
    "    model.add(layers.LeakyReLU())\n",
    "\n",
    "    model.add(layers.Conv2DTranspose(64, (5, 5), strides=(2, 2), padding='same', use_bias=False))\n",
    "    assert model.output_shape == (None, 14, 14, 64)\n",
    "    model.add(layers.BatchNormalization())\n",
    "    model.add(layers.LeakyReLU())\n",
    "\n",
    "    model.add(layers.Conv2DTranspose(1, (5, 5), strides=(2, 2), padding='same', use_bias=False, activation='tanh'))\n",
    "    assert model.output_shape == (None, 28, 28, 1)\n",
    "\n",
    "    return model"
   ]
  },
  {
   "cell_type": "code",
   "execution_count": 8,
   "metadata": {},
   "outputs": [
    {
     "data": {
      "text/plain": [
       "<matplotlib.image.AxesImage at 0x16a047f10>"
      ]
     },
     "execution_count": 8,
     "metadata": {},
     "output_type": "execute_result"
    },
    {
     "data": {
      "image/png": "[encoded data removed]",
      "text/plain": [
       "<Figure size 432x288 with 1 Axes>"
      ]
     },
     "metadata": {
      "needs_background": "light"
     },
     "output_type": "display_data"
    }
   ],
   "source": [
    "generator = create_generator_model()\n",
    "\n",
    "\n",
    "noise = tf.random.normal([1,100])\n",
    "img1 = generator(noise, training=False)\n",
    "\n",
    "plt.imshow(img1[0, :, :, 0], cmap=\"gray\")"
   ]
  },
  {
   "cell_type": "markdown",
   "metadata": {},
   "source": [
    "# Create DISCRIMINATOR"
   ]
  },
  {
   "cell_type": "code",
   "execution_count": 9,
   "metadata": {},
   "outputs": [],
   "source": [
    "def make_discriminator_model():\n",
    "    model = tf.keras.Sequential()\n",
    "    model.add(layers.Conv2D(64, (5, 5), strides=(2, 2), padding='same',\n",
    "                                     input_shape=[28, 28, 1]))\n",
    "    model.add(layers.LeakyReLU())\n",
    "    model.add(layers.Dropout(0.3))  \n",
    "\n",
    "    model.add(layers.Conv2D(128, (5, 5), strides=(2, 2), padding='same'))\n",
    "    model.add(layers.LeakyReLU())\n",
    "    model.add(layers.Dropout(0.3))\n",
    "\n",
    "    model.add(layers.Flatten())\n",
    "    model.add(layers.Dense(1))\n",
    "\n",
    "    return model"
   ]
  },
  {
   "cell_type": "code",
   "execution_count": 10,
   "metadata": {},
   "outputs": [],
   "source": [
    "discriminator = make_discriminator_model()"
   ]
  },
  {
   "cell_type": "code",
   "execution_count": 11,
   "metadata": {},
   "outputs": [
    {
     "name": "stdout",
     "output_type": "stream",
     "text": [
      "Model: \"sequential_2\"\n",
      "_________________________________________________________________\n",
      " Layer (type)                Output Shape              Param #   \n",
      "=================================================================\n",
      " conv2d_2 (Conv2D)           (None, 14, 14, 64)        1664      \n",
      "                                                                 \n",
      " leaky_re_lu_5 (LeakyReLU)   (None, 14, 14, 64)        0         \n",
      "                                                                 \n",
      " dropout_2 (Dropout)         (None, 14, 14, 64)        0         \n",
      "                                                                 \n",
      " conv2d_3 (Conv2D)           (None, 7, 7, 128)         204928    \n",
      "                                                                 \n",
      " leaky_re_lu_6 (LeakyReLU)   (None, 7, 7, 128)         0         \n",
      "                                                                 \n",
      " dropout_3 (Dropout)         (None, 7, 7, 128)         0         \n",
      "                                                                 \n",
      " flatten_1 (Flatten)         (None, 6272)              0         \n",
      "                                                                 \n",
      " dense_2 (Dense)             (None, 1)                 6273      \n",
      "                                                                 \n",
      "=================================================================\n",
      "Total params: 212,865\n",
      "Trainable params: 212,865\n",
      "Non-trainable params: 0\n",
      "_________________________________________________________________\n",
      "None\n"
     ]
    }
   ],
   "source": [
    "discriminator = make_discriminator_model()\n",
    "generator = create_generator_model()\n",
    "# print(generator.summary())\n",
    "print(discriminator.summary())"
   ]
  },
  {
   "cell_type": "markdown",
   "metadata": {},
   "source": [
    "# Loss Functions"
   ]
  },
  {
   "cell_type": "code",
   "execution_count": 12,
   "metadata": {},
   "outputs": [],
   "source": [
    "cross_entropy = tf.keras.losses.BinaryCrossentropy(from_logits=True)\n",
    "\n",
    "def discriminator_loss(real_output, fake_output):\n",
    "    real_loss = cross_entropy(tf.ones_like(real_output), real_output)\n",
    "    fake_loss = cross_entropy(tf.zeros_like(fake_output), fake_output)\n",
    "    total_loss = real_loss + fake_loss\n",
    "    return total_loss, real_loss, fake_loss\n",
    "\n",
    "def generator_loss(fake_output):\n",
    "    return cross_entropy(tf.ones_like(fake_output), fake_output)\n"
   ]
  },
  {
   "cell_type": "code",
   "execution_count": 13,
   "metadata": {},
   "outputs": [],
   "source": [
    "generator_optimizer = tf.keras.optimizers.Adam(learning_rate=0.0001)\n",
    "discriminator_optimizer = tf.keras.optimizers.Adam(learning_rate=0.0001)\n",
    "#0.0001"
   ]
  },
  {
   "cell_type": "markdown",
   "metadata": {},
   "source": [
    "# Checkpoints"
   ]
  },
  {
   "cell_type": "code",
   "execution_count": 14,
   "metadata": {},
   "outputs": [],
   "source": [
    "checkpoint_dir = './training_checkpoints'\n",
    "checkpoint_prefix = os.path.join(checkpoint_dir, \"ckpt\")\n",
    "checkpoint = tf.train.Checkpoint(generator_optimizer=generator_optimizer,\n",
    "                                 discriminator_optimizer=discriminator_optimizer,\n",
    "                                 generator=generator,\n",
    "                                 discriminator=discriminator)"
   ]
  },
  {
   "cell_type": "markdown",
   "metadata": {},
   "source": [
    "# Training"
   ]
  },
  {
   "cell_type": "code",
   "execution_count": 15,
   "metadata": {},
   "outputs": [],
   "source": [
    "noise_dim = 100\n",
    "\n",
    "\n",
    "# You will reuse this seed overtime (so it's easier)\n",
    "# to visualize progress in the animated GIF)\n",
    "seed = tf.random.normal([BATCH_SIZE, noise_dim])\n",
    "\n",
    "\n",
    "# Notice the use of `tf.function`\n",
    "# This annotation causes the function to be \"compiled\".\n",
    "#@tf.function\n",
    "def train_step(images, generator, discriminator, epoch):\n",
    "    noise = tf.random.normal([BATCH_SIZE, noise_dim])\n",
    "    \n",
    "    with tf.GradientTape() as gen_tape, tf.GradientTape() as disc_tape:\n",
    "      generated_images = generator(noise, training=True)\n",
    "\n",
    "      real_output = discriminator(images, training=True)\n",
    "      fake_output = discriminator(generated_images, training=True)\n",
    "\n",
    "      gen_loss = generator_loss(fake_output)\n",
    "      disc_loss, d_real_loss, d_fake_loss = discriminator_loss(real_output, fake_output)\n",
    "\n",
    "    gradients_of_generator = gen_tape.gradient(gen_loss, generator.trainable_variables)\n",
    "    gradients_of_discriminator = disc_tape.gradient(disc_loss, discriminator.trainable_variables)\n",
    "\n",
    "    generator_optimizer.apply_gradients(zip(gradients_of_generator, generator.trainable_variables))\n",
    "    discriminator_optimizer.apply_gradients(zip(gradients_of_discriminator, discriminator.trainable_variables))\n",
    "    return disc_loss, d_real_loss, d_fake_loss, gen_loss, generated_images\n"
   ]
  },
  {
   "cell_type": "code",
   "execution_count": 16,
   "metadata": {},
   "outputs": [],
   "source": [
    "def train(dataset, dataclass, epochs, generator, discriminator, save_images_dict):\n",
    "\n",
    "  for epoch in range(epochs):\n",
    "    start = time.time()\n",
    "\n",
    "    # acc = 0\n",
    "    for image_batch in dataset:\n",
    "      disc_loss, d_real_loss, d_fake_loss, gen_loss, gen_images = train_step(image_batch, generator, discriminator, epoch)\n",
    "      save_images_dict[epoch] = gen_images\n",
    "\n",
    "    # Produce images for the GIF as you go\n",
    "    display.clear_output(wait=True)\n",
    "    generate_and_save_images(generator,\n",
    "                             epoch + 1,\n",
    "                             seed,\n",
    "                             dataclass)\n",
    "\n",
    "    # Save the model every 15 epochs\n",
    "    # if (epoch + 1) % 15 == 0:\n",
    "    #  checkpoint.save(file_prefix = checkpoint_prefix)\n",
    "\n",
    "    print ('Time for epoch {} is {} sec'.format(epoch + 1, time.time()-start))\n",
    "    # print(\"Acc D:   \", acc/(len(dataset)))\n",
    "    d_loss_plot.append(disc_loss)\n",
    "    d_real_loss_plot.append(d_real_loss)\n",
    "    d_fake_loss_plot.append(d_fake_loss)\n",
    "    g_loss_plot.append(gen_loss)\n",
    "    # acc_plot.append(disc_loss*0.5)\n",
    "\n",
    "  # Generate after the final epoch\n",
    "  display.clear_output(wait=True)\n",
    "  generate_and_save_images(generator,\n",
    "                           epochs,\n",
    "                           seed,\n",
    "                           dataclass)\n",
    "  # return gen_loss_dict, dis_loss_dict"
   ]
  },
  {
   "cell_type": "markdown",
   "metadata": {},
   "source": [
    "# Create Images and save them"
   ]
  },
  {
   "cell_type": "code",
   "execution_count": 17,
   "metadata": {},
   "outputs": [],
   "source": [
    "import os\n",
    "\n",
    "def generate_and_save_images(model, epoch, test_input, dataclass):\n",
    "  # Notice `training` is set to False.\n",
    "  # This is so all layers run in inference mode (batchnorm).\n",
    "  predictions = model(test_input, training=False)\n",
    "  \n",
    "\n",
    "  fig = plt.figure(figsize=(4, 4))\n",
    "  for i in range(16):\n",
    "    # pred = np.asarray(predictions[i, :, :, 0] * 127.5 + 127.5)\n",
    "    #curr_IS = calculate_inception_score(pred)\n",
    "    # gen.append(pred)\n",
    "    \n",
    "    plt.subplot(4, 4, i+1)\n",
    "    plt.imshow(predictions[i, :, :, 0] * 127.5 + 127.5, cmap='gray')\n",
    "    plt.axis('off')\n",
    "  # Create directory to save generated images if not existent\n",
    "  p = path+'{}'.format(dataclass)\n",
    "  if not os.path.exists(p):\n",
    "    os.makedirs(p)\n",
    "  plt.savefig(p + '/image_epoch_{:04d}.png'.format(epoch))\n",
    "  plt.show()\n"
   ]
  },
  {
   "cell_type": "markdown",
   "metadata": {},
   "source": [
    "# Train GAN Models"
   ]
  },
  {
   "cell_type": "code",
   "execution_count": 18,
   "metadata": {},
   "outputs": [],
   "source": [
    "from sklearn.metrics import accuracy_score\n",
    "\n",
    "# Function to evaluate generated images\n",
    "def evaluate_images_w_svm(imgs_dict, digit, epochs):\n",
    "      G_arr = np.empty(shape=(epochs, 128, 28, 28, 1))\n",
    "      for i in range(epochs):\n",
    "            G_arr[i] = np.asarray(imgs_dict[i])\n",
    "\n",
    "      preds = []\n",
    "      plt.figure(figsize=(16,10))\n",
    "      for i in range(epochs):\n",
    "            predictions = svm_model.predict(G_arr[i].reshape(128,784))\n",
    "            # classification_report(np.full(shape=256, fill_value=2), predictions)\n",
    "            acc = accuracy_score(np.full(shape=128, fill_value=int(digit[-1])), predictions)\n",
    "            preds.append(acc)\n",
    "      # Save accuracies to dataframe and save it locally\n",
    "      save_accuracy(preds, digit)\n",
    "      plt.xlabel(\"Epoch\", fontsize=14)\n",
    "      plt.ylabel(\"Accuracy\", fontsize=14)\n",
    "      plt.title(\"Accuracy on Generated Images per Epoch\", fontsize=16)\n",
    "      plt.plot(preds)\n",
    "      plt.tight_layout()\n",
    "      plt.savefig(path + f\"{digit}/accuracy_{digit}.svg\", dpi=800, format=\"svg\")\n",
    "      plt.show()"
   ]
  },
  {
   "cell_type": "code",
   "execution_count": 19,
   "metadata": {},
   "outputs": [],
   "source": [
    "# Function to save accuracies per epoch to csv file\n",
    "\n",
    "def save_accuracy(accuracies_list, dataclass):\n",
    "  # Create directory to save accuracies if not existent\n",
    "  if not os.path.exists(path):\n",
    "    os.makedirs(path)\n",
    "  df = pd.DataFrame(accuracies_list)\n",
    "  df.to_csv(path + f\"{dataclass}/accuracy_{dataclass}.csv\")"
   ]
  },
  {
   "cell_type": "code",
   "execution_count": 20,
   "metadata": {},
   "outputs": [],
   "source": [
    "def plot_loss(title, d_loss, g_loss, d_loss_real=None, d_loss_fake=None):\n",
    "  plt.figure(figsize=(16,10))\n",
    "  plt.plot(g_loss_plot, c=\"green\")\n",
    "\n",
    "  if (d_loss_real and d_loss_fake):\n",
    "    # plt.plot(d_loss, \"--\", c=\"orange\")\n",
    "    plt.plot(d_loss_real, c=\"blue\")\n",
    "    plt.plot(d_loss_fake, c=\"orange\")\n",
    "    plt.fill_between(np.arange(len(d_loss)),d_loss_real, d_loss_fake, alpha=0.4)\n",
    "    plt.legend([\"Generator\",\"Discriminator (Real Images)\",\"Discriminator (Fake Images)\"], fontsize=14)\n",
    "  else:\n",
    "    plt.plot(d_loss)\n",
    "    plt.legend([\"Generator\",\"Discriminator (Total)\"], fontsize=14)\n",
    "\n",
    "  if len(title) > 1:\n",
    "    plt.title(f\"{title[1]}: Discriminator and Generator Loss (Pre-trained on {title[0]})\", fontsize=16)\n",
    "  else:\n",
    "    plt.title(f\"{title}: Discriminator and Generator Loss\", fontsize=16)\n",
    "    \n",
    "  plt.ylabel(\"Loss\", fontsize=14)\n",
    "  plt.xlabel(\"Epoch\", fontsize=14)\n",
    "  plt.tight_layout()\n",
    "  plt.savefig(path + f\"{title}/loss_plot_{title}.svg\", dpi=800, format=\"svg\")\n",
    "  plt.show()"
   ]
  },
  {
   "cell_type": "code",
   "execution_count": 21,
   "metadata": {},
   "outputs": [],
   "source": [
    "# Function to save accuracies per epoch to csv file\n",
    "\n",
    "def save_losses(loss_lists, dataclass):\n",
    "  # Create directory to save accuracies if not existent\n",
    "  if not os.path.exists(path):\n",
    "    os.makedirs(path)\n",
    "  df = pd.DataFrame({\"gen_loss\":loss_lists[0],\"d_loss_real\":loss_lists[1],\"d_loss_fake\":loss_lists[2]})\n",
    "  #print(df.head())\n",
    "  df.to_csv(path + f\"{dataclass}/loss_{dataclass}.csv\")"
   ]
  },
  {
   "cell_type": "markdown",
   "metadata": {},
   "source": [
    "# Dict to save dicts with generated images per epoch\n",
    "GAN_0 = {}\n",
    "\n",
    "generator_0 = create_generator_model()\n",
    "discriminator_0 = make_discriminator_model()\n",
    "\n",
    "gen_loss_dict = {}\n",
    "dis_loss_dict = {}\n",
    "d_loss_plot = []\n",
    "d_real_loss_plot = []\n",
    "d_fake_loss_plot = []\n",
    "g_loss_plot = []\n",
    "\n",
    "train(train_dataset_0, 0, 500, generator=generator_0, discriminator=discriminator_0, save_images_dict=GAN_0)\n",
    "save_losses(loss_lists=[[x.numpy() for x in g_loss_plot],[x.numpy() for x in d_real_loss_plot],[x.numpy() for x in d_fake_loss_plot]], dataclass=\"0\")\n",
    "plot_loss(\"0\", d_loss_plot, g_loss_plot, d_real_loss_plot, d_fake_loss_plot)"
   ]
  },
  {
   "cell_type": "markdown",
   "metadata": {},
   "source": [
    "generator_01 = tf.keras.models.clone_model(generator_0)\n",
    "generator_01.build((None, 100)) # replace 10 with number of variables in input layer\n",
    "generator_01.compile(optimizer=generator_optimizer, loss='categorical_crossentropy')\n",
    "generator_01.set_weights(generator_0.get_weights())\n",
    "\n",
    "discriminator_01 = tf.keras.models.clone_model(discriminator_0)\n",
    "discriminator_01.build((None, [28, 28, 1])) # replace 10 with number of variables in input layer\n",
    "discriminator_01.compile(optimizer=discriminator_optimizer, loss='categorical_crossentropy')\n",
    "discriminator_01.set_weights(discriminator_0.get_weights())\n",
    "\n",
    "\n",
    "gen_loss_dict = {}\n",
    "dis_loss_dict = {}\n",
    "d_loss_plot = []\n",
    "d_real_loss_plot = []\n",
    "d_fake_loss_plot = []\n",
    "g_loss_plot = []\n",
    "\n",
    "GAN_01 = {}\n",
    "train(train_dataset_1, 500, generator=generator_01, discriminator=discriminator_01, save_images_dict=GAN_01)\n",
    "save_losses(loss_lists=[[x.numpy() for x in g_loss_plot],[x.numpy() for x in d_real_loss_plot],[x.numpy() for x in d_fake_loss_plot]], dataclass=\"01\")\n",
    "\n",
    "# Loss plots\n",
    "plot_loss(\"01\", d_loss_plot, g_loss_plot, d_real_loss_plot, d_fake_loss_plot)"
   ]
  },
  {
   "cell_type": "markdown",
   "metadata": {},
   "source": []
  },
  {
   "cell_type": "markdown",
   "metadata": {},
   "source": [
    "# GANs: Training Loops"
   ]
  },
  {
   "cell_type": "markdown",
   "metadata": {},
   "source": [
    "## Train SVM Classifier"
   ]
  },
  {
   "cell_type": "code",
   "execution_count": 21,
   "metadata": {},
   "outputs": [
    {
     "name": "stdout",
     "output_type": "stream",
     "text": [
      "Fitting 5 folds for each of 50 candidates, totalling 250 fits\n",
      "[CV] END ...........................C=0, gamma=1, kernel=rbf; total time=   0.2s\n",
      "[CV] END ...........................C=0, gamma=1, kernel=rbf; total time=   0.1s\n",
      "[CV] END ...........................C=0, gamma=1, kernel=rbf; total time=   0.1s\n",
      "[CV] END ...........................C=0, gamma=1, kernel=rbf; total time=   0.1s\n",
      "[CV] END ...........................C=0, gamma=1, kernel=rbf; total time=   0.1s\n",
      "[CV] END ..........................C=0, gamma=1, kernel=poly; total time=   0.1s\n",
      "[CV] END ..........................C=0, gamma=1, kernel=poly; total time=   0.1s\n",
      "[CV] END ..........................C=0, gamma=1, kernel=poly; total time=   0.1s\n",
      "[CV] END ..........................C=0, gamma=1, kernel=poly; total time=   0.1s\n",
      "[CV] END ..........................C=0, gamma=1, kernel=poly; total time=   0.1s\n",
      "[CV] END .........................C=0, gamma=0.1, kernel=rbf; total time=   0.1s\n",
      "[CV] END .........................C=0, gamma=0.1, kernel=rbf; total time=   0.1s\n",
      "[CV] END .........................C=0, gamma=0.1, kernel=rbf; total time=   0.1s\n",
      "[CV] END .........................C=0, gamma=0.1, kernel=rbf; total time=   0.1s\n",
      "[CV] END .........................C=0, gamma=0.1, kernel=rbf; total time=   0.1s\n",
      "[CV] END ........................C=0, gamma=0.1, kernel=poly; total time=   0.1s\n",
      "[CV] END ........................C=0, gamma=0.1, kernel=poly; total time=   0.1s\n",
      "[CV] END ........................C=0, gamma=0.1, kernel=poly; total time=   0.1s\n",
      "[CV] END ........................C=0, gamma=0.1, kernel=poly; total time=   0.1s\n",
      "[CV] END ........................C=0, gamma=0.1, kernel=poly; total time=   0.1s\n",
      "[CV] END ........................C=0, gamma=0.01, kernel=rbf; total time=   0.1s\n",
      "[CV] END ........................C=0, gamma=0.01, kernel=rbf; total time=   0.1s\n",
      "[CV] END ........................C=0, gamma=0.01, kernel=rbf; total time=   0.1s\n",
      "[CV] END ........................C=0, gamma=0.01, kernel=rbf; total time=   0.1s\n",
      "[CV] END ........................C=0, gamma=0.01, kernel=rbf; total time=   0.1s\n",
      "[CV] END .......................C=0, gamma=0.01, kernel=poly; total time=   0.1s\n",
      "[CV] END .......................C=0, gamma=0.01, kernel=poly; total time=   0.1s\n",
      "[CV] END .......................C=0, gamma=0.01, kernel=poly; total time=   0.1s\n",
      "[CV] END .......................C=0, gamma=0.01, kernel=poly; total time=   0.1s\n",
      "[CV] END .......................C=0, gamma=0.01, kernel=poly; total time=   0.1s\n",
      "[CV] END .......................C=0, gamma=0.001, kernel=rbf; total time=   0.1s\n",
      "[CV] END .......................C=0, gamma=0.001, kernel=rbf; total time=   0.1s\n",
      "[CV] END .......................C=0, gamma=0.001, kernel=rbf; total time=   0.1s\n",
      "[CV] END .......................C=0, gamma=0.001, kernel=rbf; total time=   0.1s\n",
      "[CV] END .......................C=0, gamma=0.001, kernel=rbf; total time=   0.1s\n",
      "[CV] END ......................C=0, gamma=0.001, kernel=poly; total time=   0.1s\n",
      "[CV] END ......................C=0, gamma=0.001, kernel=poly; total time=   0.1s\n",
      "[CV] END ......................C=0, gamma=0.001, kernel=poly; total time=   0.1s\n",
      "[CV] END ......................C=0, gamma=0.001, kernel=poly; total time=   0.1s\n",
      "[CV] END ......................C=0, gamma=0.001, kernel=poly; total time=   0.1s\n",
      "[CV] END ......................C=0, gamma=0.0001, kernel=rbf; total time=   0.1s\n",
      "[CV] END ......................C=0, gamma=0.0001, kernel=rbf; total time=   0.1s\n",
      "[CV] END ......................C=0, gamma=0.0001, kernel=rbf; total time=   0.1s\n",
      "[CV] END ......................C=0, gamma=0.0001, kernel=rbf; total time=   0.1s\n",
      "[CV] END ......................C=0, gamma=0.0001, kernel=rbf; total time=   0.1s\n",
      "[CV] END .....................C=0, gamma=0.0001, kernel=poly; total time=   0.1s\n",
      "[CV] END .....................C=0, gamma=0.0001, kernel=poly; total time=   0.1s\n",
      "[CV] END .....................C=0, gamma=0.0001, kernel=poly; total time=   0.1s\n",
      "[CV] END .....................C=0, gamma=0.0001, kernel=poly; total time=   0.1s\n",
      "[CV] END .....................C=0, gamma=0.0001, kernel=poly; total time=   0.1s\n"
     ]
    }
   ],
   "source": [
    "### Hyperparameter Tuning ###\n",
    "\n",
    "from sklearn.model_selection import GridSearchCV\n",
    "from sklearn import svm, metrics\n",
    "\n",
    "#nsamples, nx, ny = np.array(X_train[:8000]).shape\n",
    "#train_data_svm_x = np.array(X_train[:8000]).reshape((nsamples,nx*ny))\n",
    "\n",
    "\n",
    "# defining parameter range\n",
    "param_grid = {'C': [0,1, 4, 8, 32], 'gamma': [1,0.1,0.01,0.001,0.0001],'kernel': ['rbf','poly']}\n",
    "grid = GridSearchCV(svm.SVC(), param_grid, refit=True, verbose=2)\n",
    " \n",
    "# fitting the model for grid search\n",
    "#grid.fit(np.reshape(X_train[:8000], (8000,784)), y_train[:8000])\n",
    "grid.fit(np.reshape(X_train, (60000,784)), y_train)\n",
    "\n",
    "# print best parameter after tuning\n",
    "print(grid.best_params_)\n",
    " \n",
    "# print how our model looks after hyper-parameter tuning\n",
    "print(grid.best_estimator_)\n"
   ]
  },
  {
   "cell_type": "code",
   "execution_count": 104,
   "metadata": {},
   "outputs": [
    {
     "name": "stdout",
     "output_type": "stream",
     "text": [
      "0 795 9.94\n",
      "1 906 11.32\n",
      "2 788 9.85\n",
      "3 811 10.14\n",
      "4 799 9.99\n",
      "5 702 8.77\n",
      "6 798 9.98\n",
      "7 853 10.66\n",
      "8 753 9.41\n",
      "9 795 9.94\n"
     ]
    }
   ],
   "source": [
    "import collections\n",
    "\n",
    "counter = collections.Counter(y_train[:8000])\n",
    "for i in range(10):\n",
    "  num = counter[i]\n",
    "  perc = np.round(num/8000*100, 2)\n",
    "  print(i, num, perc)"
   ]
  },
  {
   "cell_type": "code",
   "execution_count": 107,
   "metadata": {},
   "outputs": [
    {
     "name": "stdout",
     "output_type": "stream",
     "text": [
      "0 209 8.71\n",
      "1 279 11.62\n",
      "2 260 10.83\n",
      "3 246 10.25\n",
      "4 264 11.0\n",
      "5 214 8.92\n",
      "6 214 8.92\n",
      "7 249 10.38\n",
      "8 235 9.79\n",
      "9 230 9.58\n"
     ]
    }
   ],
   "source": [
    "counter = collections.Counter(y_test[:2400])\n",
    "sum_perc = 0\n",
    "sum_num = 0\n",
    "for i in range(10):\n",
    "  num = counter[i]\n",
    "  perc = np.round(num/2400*100, 2)\n",
    "  print(i, num, perc)\n"
   ]
  },
  {
   "cell_type": "code",
   "execution_count": 46,
   "metadata": {},
   "outputs": [
    {
     "data": {
      "text/plain": [
       "SVC(C=4, gamma=0.01)"
      ]
     },
     "execution_count": 46,
     "metadata": {},
     "output_type": "execute_result"
    }
   ],
   "source": [
    "# SVM classifier\n",
    "from sklearn import svm, metrics\n",
    "from sklearn.model_selection import train_test_split\n",
    "from sklearn.metrics import classification_report, confusion_matrix, accuracy_score\n",
    "\n",
    "\n",
    "svm_model = svm.SVC(kernel=\"rbf\", C=4, gamma=0.01)  # C and gamma based on hyperparameter tuning results (C:4, gamma:0.01, kernel:\"rbf\")\n",
    "svm_model.fit(np.reshape(X_train[:8000], (8000,784)), y_train[:8000])\n",
    "#svm_model.fit(np.reshape(X_train, (60000,784)), y_train)"
   ]
  },
  {
   "cell_type": "code",
   "execution_count": 47,
   "metadata": {},
   "outputs": [
    {
     "name": "stdout",
     "output_type": "stream",
     "text": [
      "              precision    recall  f1-score   support\n",
      "\n",
      "           0       0.95      0.98      0.96       209\n",
      "           1       0.98      0.99      0.98       279\n",
      "           2       0.93      0.95      0.94       260\n",
      "           3       0.94      0.96      0.95       246\n",
      "           4       0.96      0.97      0.96       264\n",
      "           5       0.96      0.93      0.95       214\n",
      "           6       0.95      0.94      0.94       214\n",
      "           7       0.95      0.92      0.93       249\n",
      "           8       0.94      0.94      0.94       235\n",
      "           9       0.95      0.92      0.93       230\n",
      "\n",
      "    accuracy                           0.95      2400\n",
      "   macro avg       0.95      0.95      0.95      2400\n",
      "weighted avg       0.95      0.95      0.95      2400\n",
      "\n"
     ]
    }
   ],
   "source": [
    "predictions = svm_model.predict(X_test[:2400].reshape(2400,784))\n",
    "classification_score = classification_report(y_test[:2400], predictions)\n",
    "\n",
    "print(classification_score)"
   ]
  },
  {
   "cell_type": "code",
   "execution_count": 48,
   "metadata": {},
   "outputs": [
    {
     "data": {
      "text/plain": [
       "0.9491666666666667"
      ]
     },
     "execution_count": 48,
     "metadata": {},
     "output_type": "execute_result"
    }
   ],
   "source": [
    "accuracy_score(y_test[:2400], predictions)"
   ]
  },
  {
   "cell_type": "code",
   "execution_count": 78,
   "metadata": {},
   "outputs": [
    {
     "data": {
      "image/png": "[encoded data removed]",
      "text/plain": [
       "<Figure size 864x864 with 1 Axes>"
      ]
     },
     "metadata": {
      "needs_background": "light"
     },
     "output_type": "display_data"
    }
   ],
   "source": [
    "import seaborn as sns\n",
    "\n",
    "plt.figure(figsize=(12,12))\n",
    "sns.heatmap(confusion_matrix(y_test[:2400], predictions), annot=True, cbar=False, cmap=\"Blues\", fmt='.0f')#, linewidths=0.5, linecolor=\"gray\")\n",
    "plt.xlabel('Ermittelte Klasse', fontsize=13)\n",
    "plt.ylabel('Tatsächliche Klasse', fontsize=13)\n",
    "plt.title(\"Konfusionsmatrix: SVM-Klassifikator auf Testdatensatz\", fontsize=16)\n",
    "plt.tight_layout()\n",
    "plt.savefig(\"generated/plots/confusion_matrix_test_set.svg\")\n",
    "plt.show()"
   ]
  },
  {
   "cell_type": "code",
   "execution_count": null,
   "metadata": {},
   "outputs": [],
   "source": []
  },
  {
   "cell_type": "markdown",
   "metadata": {},
   "source": [
    "## Training GAN Loops"
   ]
  },
  {
   "cell_type": "code",
   "execution_count": 78,
   "metadata": {},
   "outputs": [],
   "source": []
  },
  {
   "cell_type": "markdown",
   "metadata": {},
   "source": []
  },
  {
   "cell_type": "markdown",
   "metadata": {},
   "source": [
    "### Generating Digits 0-9"
   ]
  },
  {
   "cell_type": "code",
   "execution_count": 555,
   "metadata": {},
   "outputs": [
    {
     "data": {
      "image/png": "[encoded data removed]",
      "text/plain": [
       "<Figure size 288x288 with 16 Axes>"
      ]
     },
     "metadata": {
      "needs_background": "light"
     },
     "output_type": "display_data"
    },
    {
     "name": "stdout",
     "output_type": "stream",
     "text": [
      "Time for epoch 43 is 1.3335578441619873 sec\n"
     ]
    },
    {
     "ename": "KeyboardInterrupt",
     "evalue": "",
     "output_type": "error",
     "traceback": [
      "\u001b[0;31m---------------------------------------------------------------------------\u001b[0m",
      "\u001b[0;31mKeyboardInterrupt\u001b[0m                         Traceback (most recent call last)",
      "\u001b[0;32m/var/folders/6m/s2y4gy6n3fz_9p7mh5d1qhqw0000gn/T/ipykernel_6068/641862028.py\u001b[0m in \u001b[0;36m<module>\u001b[0;34m\u001b[0m\n\u001b[1;32m     57\u001b[0m         \u001b[0mg_loss_plot\u001b[0m \u001b[0;34m=\u001b[0m \u001b[0;34m[\u001b[0m\u001b[0;34m]\u001b[0m\u001b[0;34m\u001b[0m\u001b[0;34m\u001b[0m\u001b[0m\n\u001b[1;32m     58\u001b[0m \u001b[0;34m\u001b[0m\u001b[0m\n\u001b[0;32m---> 59\u001b[0;31m         \u001b[0mtrain\u001b[0m\u001b[0;34m(\u001b[0m\u001b[0mdatasets_train\u001b[0m\u001b[0;34m[\u001b[0m\u001b[0mj\u001b[0m\u001b[0;34m]\u001b[0m\u001b[0;34m,\u001b[0m \u001b[0;34mf\"{i}{j}\"\u001b[0m\u001b[0;34m,\u001b[0m \u001b[0mpost_epochs\u001b[0m\u001b[0;34m,\u001b[0m \u001b[0mgenerator\u001b[0m\u001b[0;34m=\u001b[0m\u001b[0mgenerator_cpy\u001b[0m\u001b[0;34m,\u001b[0m \u001b[0mdiscriminator\u001b[0m\u001b[0;34m=\u001b[0m\u001b[0mdiscriminator_cpy\u001b[0m\u001b[0;34m,\u001b[0m \u001b[0msave_images_dict\u001b[0m\u001b[0;34m=\u001b[0m\u001b[0mimgs_dicts\u001b[0m\u001b[0;34m[\u001b[0m\u001b[0;34mf\"{i}{j}\"\u001b[0m\u001b[0;34m]\u001b[0m\u001b[0;34m)\u001b[0m\u001b[0;34m\u001b[0m\u001b[0;34m\u001b[0m\u001b[0m\n\u001b[0m\u001b[1;32m     60\u001b[0m         \u001b[0msave_losses\u001b[0m\u001b[0;34m(\u001b[0m\u001b[0mloss_lists\u001b[0m\u001b[0;34m=\u001b[0m\u001b[0;34m[\u001b[0m\u001b[0;34m[\u001b[0m\u001b[0mx\u001b[0m\u001b[0;34m.\u001b[0m\u001b[0mnumpy\u001b[0m\u001b[0;34m(\u001b[0m\u001b[0;34m)\u001b[0m \u001b[0;32mfor\u001b[0m \u001b[0mx\u001b[0m \u001b[0;32min\u001b[0m \u001b[0mg_loss_plot\u001b[0m\u001b[0;34m]\u001b[0m\u001b[0;34m,\u001b[0m\u001b[0;34m[\u001b[0m\u001b[0mx\u001b[0m\u001b[0;34m.\u001b[0m\u001b[0mnumpy\u001b[0m\u001b[0;34m(\u001b[0m\u001b[0;34m)\u001b[0m \u001b[0;32mfor\u001b[0m \u001b[0mx\u001b[0m \u001b[0;32min\u001b[0m \u001b[0md_real_loss_plot\u001b[0m\u001b[0;34m]\u001b[0m\u001b[0;34m,\u001b[0m\u001b[0;34m[\u001b[0m\u001b[0mx\u001b[0m\u001b[0;34m.\u001b[0m\u001b[0mnumpy\u001b[0m\u001b[0;34m(\u001b[0m\u001b[0;34m)\u001b[0m \u001b[0;32mfor\u001b[0m \u001b[0mx\u001b[0m \u001b[0;32min\u001b[0m \u001b[0md_fake_loss_plot\u001b[0m\u001b[0;34m]\u001b[0m\u001b[0;34m]\u001b[0m\u001b[0;34m,\u001b[0m \u001b[0mdataclass\u001b[0m\u001b[0;34m=\u001b[0m\u001b[0;34mf\"{i}{j}\"\u001b[0m\u001b[0;34m)\u001b[0m\u001b[0;34m\u001b[0m\u001b[0;34m\u001b[0m\u001b[0m\n\u001b[1;32m     61\u001b[0m         \u001b[0mplot_loss\u001b[0m\u001b[0;34m(\u001b[0m\u001b[0;34mf\"{i}{j}\"\u001b[0m\u001b[0;34m,\u001b[0m \u001b[0md_loss_plot\u001b[0m\u001b[0;34m,\u001b[0m \u001b[0mg_loss_plot\u001b[0m\u001b[0;34m)\u001b[0m\u001b[0;31m#, d_real_loss_plot, d_fake_loss_plot)\u001b[0m\u001b[0;34m\u001b[0m\u001b[0;34m\u001b[0m\u001b[0m\n",
      "\u001b[0;32m/var/folders/6m/s2y4gy6n3fz_9p7mh5d1qhqw0000gn/T/ipykernel_6068/1555655726.py\u001b[0m in \u001b[0;36mtrain\u001b[0;34m(dataset, dataclass, epochs, generator, discriminator, save_images_dict)\u001b[0m\n\u001b[1;32m      6\u001b[0m     \u001b[0;31m# acc = 0\u001b[0m\u001b[0;34m\u001b[0m\u001b[0;34m\u001b[0m\u001b[0;34m\u001b[0m\u001b[0m\n\u001b[1;32m      7\u001b[0m     \u001b[0;32mfor\u001b[0m \u001b[0mimage_batch\u001b[0m \u001b[0;32min\u001b[0m \u001b[0mdataset\u001b[0m\u001b[0;34m:\u001b[0m\u001b[0;34m\u001b[0m\u001b[0;34m\u001b[0m\u001b[0m\n\u001b[0;32m----> 8\u001b[0;31m       \u001b[0mdisc_loss\u001b[0m\u001b[0;34m,\u001b[0m \u001b[0md_real_loss\u001b[0m\u001b[0;34m,\u001b[0m \u001b[0md_fake_loss\u001b[0m\u001b[0;34m,\u001b[0m \u001b[0mgen_loss\u001b[0m\u001b[0;34m,\u001b[0m \u001b[0mgen_images\u001b[0m \u001b[0;34m=\u001b[0m \u001b[0mtrain_step\u001b[0m\u001b[0;34m(\u001b[0m\u001b[0mimage_batch\u001b[0m\u001b[0;34m,\u001b[0m \u001b[0mgenerator\u001b[0m\u001b[0;34m,\u001b[0m \u001b[0mdiscriminator\u001b[0m\u001b[0;34m,\u001b[0m \u001b[0mepoch\u001b[0m\u001b[0;34m)\u001b[0m\u001b[0;34m\u001b[0m\u001b[0;34m\u001b[0m\u001b[0m\n\u001b[0m\u001b[1;32m      9\u001b[0m       \u001b[0msave_images_dict\u001b[0m\u001b[0;34m[\u001b[0m\u001b[0mepoch\u001b[0m\u001b[0;34m]\u001b[0m \u001b[0;34m=\u001b[0m \u001b[0mgen_images\u001b[0m\u001b[0;34m\u001b[0m\u001b[0;34m\u001b[0m\u001b[0m\n\u001b[1;32m     10\u001b[0m \u001b[0;34m\u001b[0m\u001b[0m\n",
      "\u001b[0;32m/var/folders/6m/s2y4gy6n3fz_9p7mh5d1qhqw0000gn/T/ipykernel_6068/2550953071.py\u001b[0m in \u001b[0;36mtrain_step\u001b[0;34m(images, generator, discriminator, epoch)\u001b[0m\n\u001b[1;32m     23\u001b[0m \u001b[0;34m\u001b[0m\u001b[0m\n\u001b[1;32m     24\u001b[0m     \u001b[0mgradients_of_generator\u001b[0m \u001b[0;34m=\u001b[0m \u001b[0mgen_tape\u001b[0m\u001b[0;34m.\u001b[0m\u001b[0mgradient\u001b[0m\u001b[0;34m(\u001b[0m\u001b[0mgen_loss\u001b[0m\u001b[0;34m,\u001b[0m \u001b[0mgenerator\u001b[0m\u001b[0;34m.\u001b[0m\u001b[0mtrainable_variables\u001b[0m\u001b[0;34m)\u001b[0m\u001b[0;34m\u001b[0m\u001b[0;34m\u001b[0m\u001b[0m\n\u001b[0;32m---> 25\u001b[0;31m     \u001b[0mgradients_of_discriminator\u001b[0m \u001b[0;34m=\u001b[0m \u001b[0mdisc_tape\u001b[0m\u001b[0;34m.\u001b[0m\u001b[0mgradient\u001b[0m\u001b[0;34m(\u001b[0m\u001b[0mdisc_loss\u001b[0m\u001b[0;34m,\u001b[0m \u001b[0mdiscriminator\u001b[0m\u001b[0;34m.\u001b[0m\u001b[0mtrainable_variables\u001b[0m\u001b[0;34m)\u001b[0m\u001b[0;34m\u001b[0m\u001b[0;34m\u001b[0m\u001b[0m\n\u001b[0m\u001b[1;32m     26\u001b[0m \u001b[0;34m\u001b[0m\u001b[0m\n\u001b[1;32m     27\u001b[0m     \u001b[0mgenerator_optimizer\u001b[0m\u001b[0;34m.\u001b[0m\u001b[0mapply_gradients\u001b[0m\u001b[0;34m(\u001b[0m\u001b[0mzip\u001b[0m\u001b[0;34m(\u001b[0m\u001b[0mgradients_of_generator\u001b[0m\u001b[0;34m,\u001b[0m \u001b[0mgenerator\u001b[0m\u001b[0;34m.\u001b[0m\u001b[0mtrainable_variables\u001b[0m\u001b[0;34m)\u001b[0m\u001b[0;34m)\u001b[0m\u001b[0;34m\u001b[0m\u001b[0;34m\u001b[0m\u001b[0m\n",
      "\u001b[0;32m/opt/homebrew/Caskroom/miniforge/base/envs/DataScience/lib/python3.8/site-packages/tensorflow/python/eager/backprop.py\u001b[0m in \u001b[0;36mgradient\u001b[0;34m(self, target, sources, output_gradients, unconnected_gradients)\u001b[0m\n\u001b[1;32m   1082\u001b[0m                           for x in nest.flatten(output_gradients)]\n\u001b[1;32m   1083\u001b[0m \u001b[0;34m\u001b[0m\u001b[0m\n\u001b[0;32m-> 1084\u001b[0;31m     flat_grad = imperative_grad.imperative_grad(\n\u001b[0m\u001b[1;32m   1085\u001b[0m         \u001b[0mself\u001b[0m\u001b[0;34m.\u001b[0m\u001b[0m_tape\u001b[0m\u001b[0;34m,\u001b[0m\u001b[0;34m\u001b[0m\u001b[0;34m\u001b[0m\u001b[0m\n\u001b[1;32m   1086\u001b[0m         \u001b[0mflat_targets\u001b[0m\u001b[0;34m,\u001b[0m\u001b[0;34m\u001b[0m\u001b[0;34m\u001b[0m\u001b[0m\n",
      "\u001b[0;32m/opt/homebrew/Caskroom/miniforge/base/envs/DataScience/lib/python3.8/site-packages/tensorflow/python/eager/imperative_grad.py\u001b[0m in \u001b[0;36mimperative_grad\u001b[0;34m(tape, target, sources, output_gradients, sources_raw, unconnected_gradients)\u001b[0m\n\u001b[1;32m     69\u001b[0m         \"Unknown value for unconnected_gradients: %r\" % unconnected_gradients)\n\u001b[1;32m     70\u001b[0m \u001b[0;34m\u001b[0m\u001b[0m\n\u001b[0;32m---> 71\u001b[0;31m   return pywrap_tfe.TFE_Py_TapeGradient(\n\u001b[0m\u001b[1;32m     72\u001b[0m       \u001b[0mtape\u001b[0m\u001b[0;34m.\u001b[0m\u001b[0m_tape\u001b[0m\u001b[0;34m,\u001b[0m  \u001b[0;31m# pylint: disable=protected-access\u001b[0m\u001b[0;34m\u001b[0m\u001b[0;34m\u001b[0m\u001b[0m\n\u001b[1;32m     73\u001b[0m       \u001b[0mtarget\u001b[0m\u001b[0;34m,\u001b[0m\u001b[0;34m\u001b[0m\u001b[0;34m\u001b[0m\u001b[0m\n",
      "\u001b[0;32m/opt/homebrew/Caskroom/miniforge/base/envs/DataScience/lib/python3.8/site-packages/tensorflow/python/eager/backprop.py\u001b[0m in \u001b[0;36m_gradient_function\u001b[0;34m(op_name, attr_tuple, num_inputs, inputs, outputs, out_grads, skip_input_indices, forward_pass_name_scope)\u001b[0m\n\u001b[1;32m    157\u001b[0m       \u001b[0mgradient_name_scope\u001b[0m \u001b[0;34m+=\u001b[0m \u001b[0mforward_pass_name_scope\u001b[0m \u001b[0;34m+\u001b[0m \u001b[0;34m\"/\"\u001b[0m\u001b[0;34m\u001b[0m\u001b[0;34m\u001b[0m\u001b[0m\n\u001b[1;32m    158\u001b[0m     \u001b[0;32mwith\u001b[0m \u001b[0mops\u001b[0m\u001b[0;34m.\u001b[0m\u001b[0mname_scope\u001b[0m\u001b[0;34m(\u001b[0m\u001b[0mgradient_name_scope\u001b[0m\u001b[0;34m)\u001b[0m\u001b[0;34m:\u001b[0m\u001b[0;34m\u001b[0m\u001b[0;34m\u001b[0m\u001b[0m\n\u001b[0;32m--> 159\u001b[0;31m       \u001b[0;32mreturn\u001b[0m \u001b[0mgrad_fn\u001b[0m\u001b[0;34m(\u001b[0m\u001b[0mmock_op\u001b[0m\u001b[0;34m,\u001b[0m \u001b[0;34m*\u001b[0m\u001b[0mout_grads\u001b[0m\u001b[0;34m)\u001b[0m\u001b[0;34m\u001b[0m\u001b[0;34m\u001b[0m\u001b[0m\n\u001b[0m\u001b[1;32m    160\u001b[0m   \u001b[0;32melse\u001b[0m\u001b[0;34m:\u001b[0m\u001b[0;34m\u001b[0m\u001b[0;34m\u001b[0m\u001b[0m\n\u001b[1;32m    161\u001b[0m     \u001b[0;32mreturn\u001b[0m \u001b[0mgrad_fn\u001b[0m\u001b[0;34m(\u001b[0m\u001b[0mmock_op\u001b[0m\u001b[0;34m,\u001b[0m \u001b[0;34m*\u001b[0m\u001b[0mout_grads\u001b[0m\u001b[0;34m)\u001b[0m\u001b[0;34m\u001b[0m\u001b[0;34m\u001b[0m\u001b[0m\n",
      "\u001b[0;32m/opt/homebrew/Caskroom/miniforge/base/envs/DataScience/lib/python3.8/site-packages/tensorflow/python/ops/nn_grad.py\u001b[0m in \u001b[0;36m_BiasAddGrad\u001b[0;34m(op, received_grad)\u001b[0m\n\u001b[1;32m    345\u001b[0m     \u001b[0mdata_format\u001b[0m \u001b[0;34m=\u001b[0m \u001b[0;32mNone\u001b[0m\u001b[0;34m\u001b[0m\u001b[0;34m\u001b[0m\u001b[0m\n\u001b[1;32m    346\u001b[0m   return (received_grad,\n\u001b[0;32m--> 347\u001b[0;31m           gen_nn_ops.bias_add_grad(\n\u001b[0m\u001b[1;32m    348\u001b[0m               out_backprop=received_grad, data_format=data_format))\n\u001b[1;32m    349\u001b[0m \u001b[0;34m\u001b[0m\u001b[0m\n",
      "\u001b[0;32m/opt/homebrew/Caskroom/miniforge/base/envs/DataScience/lib/python3.8/site-packages/tensorflow/python/ops/gen_nn_ops.py\u001b[0m in \u001b[0;36mbias_add_grad\u001b[0;34m(out_backprop, data_format, name)\u001b[0m\n\u001b[1;32m    747\u001b[0m   \u001b[0;32mif\u001b[0m \u001b[0mtld\u001b[0m\u001b[0;34m.\u001b[0m\u001b[0mis_eager\u001b[0m\u001b[0;34m:\u001b[0m\u001b[0;34m\u001b[0m\u001b[0;34m\u001b[0m\u001b[0m\n\u001b[1;32m    748\u001b[0m     \u001b[0;32mtry\u001b[0m\u001b[0;34m:\u001b[0m\u001b[0;34m\u001b[0m\u001b[0;34m\u001b[0m\u001b[0m\n\u001b[0;32m--> 749\u001b[0;31m       _result = pywrap_tfe.TFE_Py_FastPathExecute(\n\u001b[0m\u001b[1;32m    750\u001b[0m         _ctx, \"BiasAddGrad\", name, out_backprop, \"data_format\", data_format)\n\u001b[1;32m    751\u001b[0m       \u001b[0;32mreturn\u001b[0m \u001b[0m_result\u001b[0m\u001b[0;34m\u001b[0m\u001b[0;34m\u001b[0m\u001b[0m\n",
      "\u001b[0;31mKeyboardInterrupt\u001b[0m: "
     ]
    }
   ],
   "source": [
    "# GAN Training Loop\n",
    "pd.options.mode.chained_assignment = None  # default='warn'\n",
    "\n",
    "post_epochs = 300\n",
    "\n",
    "imgs_dicts = {}\n",
    "\n",
    "\n",
    "for i in range(10):\n",
    "  print(f\"** TRAINING  {i} **\")\n",
    "  gen_loss_dict = {}\n",
    "  dis_loss_dict = {}\n",
    "  d_loss_plot = []\n",
    "  d_real_loss_plot = []\n",
    "  d_fake_loss_plot = []\n",
    "  g_loss_plot = []\n",
    "\n",
    "  for pre_epochs in [100,200,300]:\n",
    "    path = f\"generated/images_{pre_epochs}pre_{post_epochs}post_test/\"\n",
    "    \n",
    "    gen_loss_dict = {}\n",
    "    dis_loss_dict = {}\n",
    "    d_loss_plot = []\n",
    "    d_real_loss_plot = []\n",
    "    d_fake_loss_plot = []\n",
    "    g_loss_plot = []\n",
    "\n",
    "    # Dict to save dicts with generated images per epoche\n",
    "    imgs_dicts[str(i)] = {}\n",
    "    generator = create_generator_model()\n",
    "    discriminator = make_discriminator_model()\n",
    "    train(datasets_train[i], str(i), pre_epochs, generator=generator, discriminator=discriminator, save_images_dict=imgs_dicts[str(i)])\n",
    "    save_losses(loss_lists=[[x.numpy() for x in g_loss_plot],[x.numpy() for x in d_real_loss_plot],[x.numpy() for x in d_fake_loss_plot]], dataclass=i)\n",
    "    plot_loss(str(i), d_loss_plot, g_loss_plot)#, d_real_loss_plot, d_fake_loss_plot)\n",
    "\n",
    "    # Evaluate generated images using SVM classifier\n",
    "    evaluate_images_w_svm(imgs_dicts[str(i)], str(i), pre_epochs)\n",
    "\n",
    "    for j in range(10):\n",
    "      if i != j:\n",
    "        print(f\"** TRAINING  {i}{j} **\")\n",
    "        imgs_dicts[f\"{i}{j}\"] = {}\n",
    "        generator_cpy = tf.keras.models.clone_model(generator)\n",
    "        generator_cpy.build((None, 100))\n",
    "        generator_cpy.compile(optimizer=generator_optimizer, loss='categorical_crossentropy')\n",
    "        generator_cpy.set_weights(generator.get_weights())\n",
    "        discriminator_cpy = tf.keras.models.clone_model(discriminator)\n",
    "        discriminator_cpy.build((None, [28, 28, 1]))\n",
    "        discriminator_cpy.compile(optimizer=discriminator_optimizer, loss='categorical_crossentropy')\n",
    "        discriminator_cpy.set_weights(discriminator.get_weights())\n",
    "\n",
    "        gen_loss_dict = {}\n",
    "        dis_loss_dict = {}\n",
    "        d_loss_plot = []\n",
    "        d_real_loss_plot = []\n",
    "        d_fake_loss_plot = []\n",
    "        g_loss_plot = []\n",
    "\n",
    "        train(datasets_train[j], f\"{i}{j}\", post_epochs, generator=generator_cpy, discriminator=discriminator_cpy, save_images_dict=imgs_dicts[f\"{i}{j}\"])\n",
    "        save_losses(loss_lists=[[x.numpy() for x in g_loss_plot],[x.numpy() for x in d_real_loss_plot],[x.numpy() for x in d_fake_loss_plot]], dataclass=f\"{i}{j}\")\n",
    "        plot_loss(f\"{i}{j}\", d_loss_plot, g_loss_plot)#, d_real_loss_plot, d_fake_loss_plot)\n",
    "\n",
    "        # Evaluate generated images using SVM classifier\n",
    "        evaluate_images_w_svm(imgs_dicts[f\"{i}{j}\"], f\"{i}{j}\", post_epochs)\n",
    "      else:\n",
    "        print(f\"-- NOT TRAINING  {i}{j} --\")\n"
   ]
  },
  {
   "cell_type": "code",
   "execution_count": null,
   "metadata": {},
   "outputs": [],
   "source": []
  },
  {
   "cell_type": "code",
   "execution_count": 80,
   "metadata": {},
   "outputs": [
    {
     "ename": "KeyboardInterrupt",
     "evalue": "",
     "output_type": "error",
     "traceback": [
      "\u001b[0;31m---------------------------------------------------------------------------\u001b[0m",
      "\u001b[0;31mKeyboardInterrupt\u001b[0m                         Traceback (most recent call last)",
      "\u001b[0;32m/var/folders/6m/s2y4gy6n3fz_9p7mh5d1qhqw0000gn/T/ipykernel_11703/3991341994.py\u001b[0m in \u001b[0;36m<module>\u001b[0;34m\u001b[0m\n\u001b[1;32m     57\u001b[0m         \u001b[0mg_loss_plot\u001b[0m \u001b[0;34m=\u001b[0m \u001b[0;34m[\u001b[0m\u001b[0;34m]\u001b[0m\u001b[0;34m\u001b[0m\u001b[0;34m\u001b[0m\u001b[0m\n\u001b[1;32m     58\u001b[0m \u001b[0;34m\u001b[0m\u001b[0m\n\u001b[0;32m---> 59\u001b[0;31m         \u001b[0mtrain\u001b[0m\u001b[0;34m(\u001b[0m\u001b[0mdatasets_train\u001b[0m\u001b[0;34m[\u001b[0m\u001b[0mj\u001b[0m\u001b[0;34m]\u001b[0m\u001b[0;34m,\u001b[0m \u001b[0;34mf\"{i}{j}\"\u001b[0m\u001b[0;34m,\u001b[0m \u001b[0mpost_epochs\u001b[0m\u001b[0;34m,\u001b[0m \u001b[0mgenerator\u001b[0m\u001b[0;34m=\u001b[0m\u001b[0mgenerator_cpy\u001b[0m\u001b[0;34m,\u001b[0m \u001b[0mdiscriminator\u001b[0m\u001b[0;34m=\u001b[0m\u001b[0mdiscriminator_cpy\u001b[0m\u001b[0;34m,\u001b[0m \u001b[0msave_images_dict\u001b[0m\u001b[0;34m=\u001b[0m\u001b[0mimgs_dicts\u001b[0m\u001b[0;34m[\u001b[0m\u001b[0;34mf\"{i}{j}\"\u001b[0m\u001b[0;34m]\u001b[0m\u001b[0;34m)\u001b[0m\u001b[0;34m\u001b[0m\u001b[0;34m\u001b[0m\u001b[0m\n\u001b[0m\u001b[1;32m     60\u001b[0m         \u001b[0msave_losses\u001b[0m\u001b[0;34m(\u001b[0m\u001b[0mloss_lists\u001b[0m\u001b[0;34m=\u001b[0m\u001b[0;34m[\u001b[0m\u001b[0;34m[\u001b[0m\u001b[0mx\u001b[0m\u001b[0;34m.\u001b[0m\u001b[0mnumpy\u001b[0m\u001b[0;34m(\u001b[0m\u001b[0;34m)\u001b[0m \u001b[0;32mfor\u001b[0m \u001b[0mx\u001b[0m \u001b[0;32min\u001b[0m \u001b[0mg_loss_plot\u001b[0m\u001b[0;34m]\u001b[0m\u001b[0;34m,\u001b[0m\u001b[0;34m[\u001b[0m\u001b[0mx\u001b[0m\u001b[0;34m.\u001b[0m\u001b[0mnumpy\u001b[0m\u001b[0;34m(\u001b[0m\u001b[0;34m)\u001b[0m \u001b[0;32mfor\u001b[0m \u001b[0mx\u001b[0m \u001b[0;32min\u001b[0m \u001b[0md_real_loss_plot\u001b[0m\u001b[0;34m]\u001b[0m\u001b[0;34m,\u001b[0m\u001b[0;34m[\u001b[0m\u001b[0mx\u001b[0m\u001b[0;34m.\u001b[0m\u001b[0mnumpy\u001b[0m\u001b[0;34m(\u001b[0m\u001b[0;34m)\u001b[0m \u001b[0;32mfor\u001b[0m \u001b[0mx\u001b[0m \u001b[0;32min\u001b[0m \u001b[0md_fake_loss_plot\u001b[0m\u001b[0;34m]\u001b[0m\u001b[0;34m]\u001b[0m\u001b[0;34m,\u001b[0m \u001b[0mdataclass\u001b[0m\u001b[0;34m=\u001b[0m\u001b[0;34mf\"{i}{j}\"\u001b[0m\u001b[0;34m)\u001b[0m\u001b[0;34m\u001b[0m\u001b[0;34m\u001b[0m\u001b[0m\n\u001b[1;32m     61\u001b[0m         \u001b[0mplot_loss\u001b[0m\u001b[0;34m(\u001b[0m\u001b[0;34mf\"{i}{j}\"\u001b[0m\u001b[0;34m,\u001b[0m \u001b[0md_loss_plot\u001b[0m\u001b[0;34m,\u001b[0m \u001b[0mg_loss_plot\u001b[0m\u001b[0;34m)\u001b[0m\u001b[0;31m#, d_real_loss_plot, d_fake_loss_plot)\u001b[0m\u001b[0;34m\u001b[0m\u001b[0;34m\u001b[0m\u001b[0m\n",
      "\u001b[0;32m/var/folders/6m/s2y4gy6n3fz_9p7mh5d1qhqw0000gn/T/ipykernel_11703/1555655726.py\u001b[0m in \u001b[0;36mtrain\u001b[0;34m(dataset, dataclass, epochs, generator, discriminator, save_images_dict)\u001b[0m\n\u001b[1;32m     11\u001b[0m     \u001b[0;31m# Produce images for the GIF as you go\u001b[0m\u001b[0;34m\u001b[0m\u001b[0;34m\u001b[0m\u001b[0;34m\u001b[0m\u001b[0m\n\u001b[1;32m     12\u001b[0m     \u001b[0mdisplay\u001b[0m\u001b[0;34m.\u001b[0m\u001b[0mclear_output\u001b[0m\u001b[0;34m(\u001b[0m\u001b[0mwait\u001b[0m\u001b[0;34m=\u001b[0m\u001b[0;32mTrue\u001b[0m\u001b[0;34m)\u001b[0m\u001b[0;34m\u001b[0m\u001b[0;34m\u001b[0m\u001b[0m\n\u001b[0;32m---> 13\u001b[0;31m     generate_and_save_images(generator,\n\u001b[0m\u001b[1;32m     14\u001b[0m                              \u001b[0mepoch\u001b[0m \u001b[0;34m+\u001b[0m \u001b[0;36m1\u001b[0m\u001b[0;34m,\u001b[0m\u001b[0;34m\u001b[0m\u001b[0;34m\u001b[0m\u001b[0m\n\u001b[1;32m     15\u001b[0m                              \u001b[0mseed\u001b[0m\u001b[0;34m,\u001b[0m\u001b[0;34m\u001b[0m\u001b[0;34m\u001b[0m\u001b[0m\n",
      "\u001b[0;32m/var/folders/6m/s2y4gy6n3fz_9p7mh5d1qhqw0000gn/T/ipykernel_11703/894331101.py\u001b[0m in \u001b[0;36mgenerate_and_save_images\u001b[0;34m(model, epoch, test_input, dataclass)\u001b[0m\n\u001b[1;32m     21\u001b[0m     \u001b[0mos\u001b[0m\u001b[0;34m.\u001b[0m\u001b[0mmakedirs\u001b[0m\u001b[0;34m(\u001b[0m\u001b[0mp\u001b[0m\u001b[0;34m)\u001b[0m\u001b[0;34m\u001b[0m\u001b[0;34m\u001b[0m\u001b[0m\n\u001b[1;32m     22\u001b[0m   \u001b[0mplt\u001b[0m\u001b[0;34m.\u001b[0m\u001b[0msavefig\u001b[0m\u001b[0;34m(\u001b[0m\u001b[0mp\u001b[0m \u001b[0;34m+\u001b[0m \u001b[0;34m'/image_epoch_{:04d}.png'\u001b[0m\u001b[0;34m.\u001b[0m\u001b[0mformat\u001b[0m\u001b[0;34m(\u001b[0m\u001b[0mepoch\u001b[0m\u001b[0;34m)\u001b[0m\u001b[0;34m)\u001b[0m\u001b[0;34m\u001b[0m\u001b[0;34m\u001b[0m\u001b[0m\n\u001b[0;32m---> 23\u001b[0;31m   \u001b[0mplt\u001b[0m\u001b[0;34m.\u001b[0m\u001b[0mshow\u001b[0m\u001b[0;34m(\u001b[0m\u001b[0;34m)\u001b[0m\u001b[0;34m\u001b[0m\u001b[0;34m\u001b[0m\u001b[0m\n\u001b[0m",
      "\u001b[0;32m/opt/homebrew/Caskroom/miniforge/base/envs/DataScience/lib/python3.8/site-packages/matplotlib/pyplot.py\u001b[0m in \u001b[0;36mshow\u001b[0;34m(*args, **kwargs)\u001b[0m\n\u001b[1;32m    376\u001b[0m     \"\"\"\n\u001b[1;32m    377\u001b[0m     \u001b[0m_warn_if_gui_out_of_main_thread\u001b[0m\u001b[0;34m(\u001b[0m\u001b[0;34m)\u001b[0m\u001b[0;34m\u001b[0m\u001b[0;34m\u001b[0m\u001b[0m\n\u001b[0;32m--> 378\u001b[0;31m     \u001b[0;32mreturn\u001b[0m \u001b[0m_backend_mod\u001b[0m\u001b[0;34m.\u001b[0m\u001b[0mshow\u001b[0m\u001b[0;34m(\u001b[0m\u001b[0;34m*\u001b[0m\u001b[0margs\u001b[0m\u001b[0;34m,\u001b[0m \u001b[0;34m**\u001b[0m\u001b[0mkwargs\u001b[0m\u001b[0;34m)\u001b[0m\u001b[0;34m\u001b[0m\u001b[0;34m\u001b[0m\u001b[0m\n\u001b[0m\u001b[1;32m    379\u001b[0m \u001b[0;34m\u001b[0m\u001b[0m\n\u001b[1;32m    380\u001b[0m \u001b[0;34m\u001b[0m\u001b[0m\n",
      "\u001b[0;32m/opt/homebrew/Caskroom/miniforge/base/envs/DataScience/lib/python3.8/site-packages/matplotlib_inline/backend_inline.py\u001b[0m in \u001b[0;36mshow\u001b[0;34m(close, block)\u001b[0m\n\u001b[1;32m     39\u001b[0m     \u001b[0;32mtry\u001b[0m\u001b[0;34m:\u001b[0m\u001b[0;34m\u001b[0m\u001b[0;34m\u001b[0m\u001b[0m\n\u001b[1;32m     40\u001b[0m         \u001b[0;32mfor\u001b[0m \u001b[0mfigure_manager\u001b[0m \u001b[0;32min\u001b[0m \u001b[0mGcf\u001b[0m\u001b[0;34m.\u001b[0m\u001b[0mget_all_fig_managers\u001b[0m\u001b[0;34m(\u001b[0m\u001b[0;34m)\u001b[0m\u001b[0;34m:\u001b[0m\u001b[0;34m\u001b[0m\u001b[0;34m\u001b[0m\u001b[0m\n\u001b[0;32m---> 41\u001b[0;31m             display(\n\u001b[0m\u001b[1;32m     42\u001b[0m                 \u001b[0mfigure_manager\u001b[0m\u001b[0;34m.\u001b[0m\u001b[0mcanvas\u001b[0m\u001b[0;34m.\u001b[0m\u001b[0mfigure\u001b[0m\u001b[0;34m,\u001b[0m\u001b[0;34m\u001b[0m\u001b[0;34m\u001b[0m\u001b[0m\n\u001b[1;32m     43\u001b[0m                 \u001b[0mmetadata\u001b[0m\u001b[0;34m=\u001b[0m\u001b[0m_fetch_figure_metadata\u001b[0m\u001b[0;34m(\u001b[0m\u001b[0mfigure_manager\u001b[0m\u001b[0;34m.\u001b[0m\u001b[0mcanvas\u001b[0m\u001b[0;34m.\u001b[0m\u001b[0mfigure\u001b[0m\u001b[0;34m)\u001b[0m\u001b[0;34m\u001b[0m\u001b[0;34m\u001b[0m\u001b[0m\n",
      "\u001b[0;32m/opt/homebrew/Caskroom/miniforge/base/envs/DataScience/lib/python3.8/site-packages/IPython/core/display.py\u001b[0m in \u001b[0;36mdisplay\u001b[0;34m(include, exclude, metadata, transient, display_id, *objs, **kwargs)\u001b[0m\n\u001b[1;32m    318\u001b[0m         \u001b[0;31m# subclasses ensure url and filename are set\u001b[0m\u001b[0;34m\u001b[0m\u001b[0;34m\u001b[0m\u001b[0;34m\u001b[0m\u001b[0m\n\u001b[1;32m    319\u001b[0m         \u001b[0;31m# before assigning to self.data\u001b[0m\u001b[0;34m\u001b[0m\u001b[0;34m\u001b[0m\u001b[0;34m\u001b[0m\u001b[0m\n\u001b[0;32m--> 320\u001b[0;31m         \u001b[0mself\u001b[0m\u001b[0;34m.\u001b[0m\u001b[0mdata\u001b[0m \u001b[0;34m=\u001b[0m \u001b[0mdata\u001b[0m\u001b[0;34m\u001b[0m\u001b[0;34m\u001b[0m\u001b[0m\n\u001b[0m\u001b[1;32m    321\u001b[0m \u001b[0;34m\u001b[0m\u001b[0m\n\u001b[1;32m    322\u001b[0m         \u001b[0;32mif\u001b[0m \u001b[0mmetadata\u001b[0m \u001b[0;32mis\u001b[0m \u001b[0;32mnot\u001b[0m \u001b[0;32mNone\u001b[0m\u001b[0;34m:\u001b[0m\u001b[0;34m\u001b[0m\u001b[0;34m\u001b[0m\u001b[0m\n",
      "\u001b[0;32m/opt/homebrew/Caskroom/miniforge/base/envs/DataScience/lib/python3.8/site-packages/IPython/core/formatters.py\u001b[0m in \u001b[0;36mformat\u001b[0;34m(self, obj, include, exclude)\u001b[0m\n\u001b[1;32m    178\u001b[0m                 \u001b[0mdata\u001b[0m \u001b[0;34m=\u001b[0m \u001b[0mformatter\u001b[0m\u001b[0;34m(\u001b[0m\u001b[0mobj\u001b[0m\u001b[0;34m)\u001b[0m\u001b[0;34m\u001b[0m\u001b[0;34m\u001b[0m\u001b[0m\n\u001b[1;32m    179\u001b[0m             \u001b[0;32mexcept\u001b[0m\u001b[0;34m:\u001b[0m\u001b[0;34m\u001b[0m\u001b[0;34m\u001b[0m\u001b[0m\n\u001b[0;32m--> 180\u001b[0;31m                 \u001b[0;31m# FIXME: log the exception\u001b[0m\u001b[0;34m\u001b[0m\u001b[0;34m\u001b[0m\u001b[0;34m\u001b[0m\u001b[0m\n\u001b[0m\u001b[1;32m    181\u001b[0m                 \u001b[0;32mraise\u001b[0m\u001b[0;34m\u001b[0m\u001b[0;34m\u001b[0m\u001b[0m\n\u001b[1;32m    182\u001b[0m \u001b[0;34m\u001b[0m\u001b[0m\n",
      "\u001b[0;32m/opt/homebrew/Caskroom/miniforge/base/envs/DataScience/lib/python3.8/site-packages/decorator.py\u001b[0m in \u001b[0;36mfun\u001b[0;34m(*args, **kw)\u001b[0m\n\u001b[1;32m    230\u001b[0m             \u001b[0;32mif\u001b[0m \u001b[0;32mnot\u001b[0m \u001b[0mkwsyntax\u001b[0m\u001b[0;34m:\u001b[0m\u001b[0;34m\u001b[0m\u001b[0;34m\u001b[0m\u001b[0m\n\u001b[1;32m    231\u001b[0m                 \u001b[0margs\u001b[0m\u001b[0;34m,\u001b[0m \u001b[0mkw\u001b[0m \u001b[0;34m=\u001b[0m \u001b[0mfix\u001b[0m\u001b[0;34m(\u001b[0m\u001b[0margs\u001b[0m\u001b[0;34m,\u001b[0m \u001b[0mkw\u001b[0m\u001b[0;34m,\u001b[0m \u001b[0msig\u001b[0m\u001b[0;34m)\u001b[0m\u001b[0;34m\u001b[0m\u001b[0;34m\u001b[0m\u001b[0m\n\u001b[0;32m--> 232\u001b[0;31m             \u001b[0;32mreturn\u001b[0m \u001b[0mcaller\u001b[0m\u001b[0;34m(\u001b[0m\u001b[0mfunc\u001b[0m\u001b[0;34m,\u001b[0m \u001b[0;34m*\u001b[0m\u001b[0;34m(\u001b[0m\u001b[0mextras\u001b[0m \u001b[0;34m+\u001b[0m \u001b[0margs\u001b[0m\u001b[0;34m)\u001b[0m\u001b[0;34m,\u001b[0m \u001b[0;34m**\u001b[0m\u001b[0mkw\u001b[0m\u001b[0;34m)\u001b[0m\u001b[0;34m\u001b[0m\u001b[0;34m\u001b[0m\u001b[0m\n\u001b[0m\u001b[1;32m    233\u001b[0m     \u001b[0mfun\u001b[0m\u001b[0;34m.\u001b[0m\u001b[0m__name__\u001b[0m \u001b[0;34m=\u001b[0m \u001b[0mfunc\u001b[0m\u001b[0;34m.\u001b[0m\u001b[0m__name__\u001b[0m\u001b[0;34m\u001b[0m\u001b[0;34m\u001b[0m\u001b[0m\n\u001b[1;32m    234\u001b[0m     \u001b[0mfun\u001b[0m\u001b[0;34m.\u001b[0m\u001b[0m__doc__\u001b[0m \u001b[0;34m=\u001b[0m \u001b[0mfunc\u001b[0m\u001b[0;34m.\u001b[0m\u001b[0m__doc__\u001b[0m\u001b[0;34m\u001b[0m\u001b[0;34m\u001b[0m\u001b[0m\n",
      "\u001b[0;32m/opt/homebrew/Caskroom/miniforge/base/envs/DataScience/lib/python3.8/site-packages/IPython/core/formatters.py\u001b[0m in \u001b[0;36mcatch_format_error\u001b[0;34m(method, self, *args, **kwargs)\u001b[0m\n\u001b[1;32m    222\u001b[0m         \u001b[0mr\u001b[0m \u001b[0;34m=\u001b[0m \u001b[0mmethod\u001b[0m\u001b[0;34m(\u001b[0m\u001b[0mself\u001b[0m\u001b[0;34m,\u001b[0m \u001b[0;34m*\u001b[0m\u001b[0margs\u001b[0m\u001b[0;34m,\u001b[0m \u001b[0;34m**\u001b[0m\u001b[0mkwargs\u001b[0m\u001b[0;34m)\u001b[0m\u001b[0;34m\u001b[0m\u001b[0;34m\u001b[0m\u001b[0m\n\u001b[1;32m    223\u001b[0m     \u001b[0;32mexcept\u001b[0m \u001b[0mNotImplementedError\u001b[0m\u001b[0;34m:\u001b[0m\u001b[0;34m\u001b[0m\u001b[0;34m\u001b[0m\u001b[0m\n\u001b[0;32m--> 224\u001b[0;31m         \u001b[0;31m# don't warn on NotImplementedErrors\u001b[0m\u001b[0;34m\u001b[0m\u001b[0;34m\u001b[0m\u001b[0;34m\u001b[0m\u001b[0m\n\u001b[0m\u001b[1;32m    225\u001b[0m         \u001b[0;32mreturn\u001b[0m \u001b[0mself\u001b[0m\u001b[0;34m.\u001b[0m\u001b[0m_check_return\u001b[0m\u001b[0;34m(\u001b[0m\u001b[0;32mNone\u001b[0m\u001b[0;34m,\u001b[0m \u001b[0margs\u001b[0m\u001b[0;34m[\u001b[0m\u001b[0;36m0\u001b[0m\u001b[0;34m]\u001b[0m\u001b[0;34m)\u001b[0m\u001b[0;34m\u001b[0m\u001b[0;34m\u001b[0m\u001b[0m\n\u001b[1;32m    226\u001b[0m     \u001b[0;32mexcept\u001b[0m \u001b[0mException\u001b[0m\u001b[0;34m:\u001b[0m\u001b[0;34m\u001b[0m\u001b[0;34m\u001b[0m\u001b[0m\n",
      "\u001b[0;32m/opt/homebrew/Caskroom/miniforge/base/envs/DataScience/lib/python3.8/site-packages/IPython/core/formatters.py\u001b[0m in \u001b[0;36m__call__\u001b[0;34m(self, obj)\u001b[0m\n\u001b[1;32m    339\u001b[0m                 \u001b[0;32mreturn\u001b[0m \u001b[0mprinter\u001b[0m\u001b[0;34m(\u001b[0m\u001b[0mobj\u001b[0m\u001b[0;34m)\u001b[0m\u001b[0;34m\u001b[0m\u001b[0;34m\u001b[0m\u001b[0m\n\u001b[1;32m    340\u001b[0m             \u001b[0;31m# Finally look for special method names\u001b[0m\u001b[0;34m\u001b[0m\u001b[0;34m\u001b[0m\u001b[0;34m\u001b[0m\u001b[0m\n\u001b[0;32m--> 341\u001b[0;31m             \u001b[0mmethod\u001b[0m \u001b[0;34m=\u001b[0m \u001b[0mget_real_method\u001b[0m\u001b[0;34m(\u001b[0m\u001b[0mobj\u001b[0m\u001b[0;34m,\u001b[0m \u001b[0mself\u001b[0m\u001b[0;34m.\u001b[0m\u001b[0mprint_method\u001b[0m\u001b[0;34m)\u001b[0m\u001b[0;34m\u001b[0m\u001b[0;34m\u001b[0m\u001b[0m\n\u001b[0m\u001b[1;32m    342\u001b[0m             \u001b[0;32mif\u001b[0m \u001b[0mmethod\u001b[0m \u001b[0;32mis\u001b[0m \u001b[0;32mnot\u001b[0m \u001b[0;32mNone\u001b[0m\u001b[0;34m:\u001b[0m\u001b[0;34m\u001b[0m\u001b[0;34m\u001b[0m\u001b[0m\n\u001b[1;32m    343\u001b[0m                 \u001b[0;32mreturn\u001b[0m \u001b[0mmethod\u001b[0m\u001b[0;34m(\u001b[0m\u001b[0;34m)\u001b[0m\u001b[0;34m\u001b[0m\u001b[0;34m\u001b[0m\u001b[0m\n",
      "\u001b[0;32m/opt/homebrew/Caskroom/miniforge/base/envs/DataScience/lib/python3.8/site-packages/IPython/core/pylabtools.py\u001b[0m in \u001b[0;36m<lambda>\u001b[0;34m(fig)\u001b[0m\n\u001b[1;32m    251\u001b[0m     \"\"\"\n\u001b[1;32m    252\u001b[0m     \u001b[0;32mimport\u001b[0m \u001b[0mmatplotlib\u001b[0m\u001b[0;34m\u001b[0m\u001b[0;34m\u001b[0m\u001b[0m\n\u001b[0;32m--> 253\u001b[0;31m     \u001b[0;32mfrom\u001b[0m \u001b[0mmatplotlib\u001b[0m\u001b[0;34m.\u001b[0m\u001b[0mfigure\u001b[0m \u001b[0;32mimport\u001b[0m \u001b[0mFigure\u001b[0m\u001b[0;34m\u001b[0m\u001b[0;34m\u001b[0m\u001b[0m\n\u001b[0m\u001b[1;32m    254\u001b[0m \u001b[0;34m\u001b[0m\u001b[0m\n\u001b[1;32m    255\u001b[0m     \u001b[0msvg_formatter\u001b[0m \u001b[0;34m=\u001b[0m \u001b[0mshell\u001b[0m\u001b[0;34m.\u001b[0m\u001b[0mdisplay_formatter\u001b[0m\u001b[0;34m.\u001b[0m\u001b[0mformatters\u001b[0m\u001b[0;34m[\u001b[0m\u001b[0;34m'image/svg+xml'\u001b[0m\u001b[0;34m]\u001b[0m\u001b[0;34m\u001b[0m\u001b[0;34m\u001b[0m\u001b[0m\n",
      "\u001b[0;32m/opt/homebrew/Caskroom/miniforge/base/envs/DataScience/lib/python3.8/site-packages/IPython/core/pylabtools.py\u001b[0m in \u001b[0;36mprint_figure\u001b[0;34m(fig, fmt, bbox_inches, **kwargs)\u001b[0m\n\u001b[1;32m    135\u001b[0m     \u001b[0;31m# build keyword args\u001b[0m\u001b[0;34m\u001b[0m\u001b[0;34m\u001b[0m\u001b[0;34m\u001b[0m\u001b[0m\n\u001b[1;32m    136\u001b[0m     kw = {\n\u001b[0;32m--> 137\u001b[0;31m         \u001b[0;34m\"format\"\u001b[0m\u001b[0;34m:\u001b[0m\u001b[0mfmt\u001b[0m\u001b[0;34m,\u001b[0m\u001b[0;34m\u001b[0m\u001b[0;34m\u001b[0m\u001b[0m\n\u001b[0m\u001b[1;32m    138\u001b[0m         \u001b[0;34m\"facecolor\"\u001b[0m\u001b[0;34m:\u001b[0m\u001b[0mfig\u001b[0m\u001b[0;34m.\u001b[0m\u001b[0mget_facecolor\u001b[0m\u001b[0;34m(\u001b[0m\u001b[0;34m)\u001b[0m\u001b[0;34m,\u001b[0m\u001b[0;34m\u001b[0m\u001b[0;34m\u001b[0m\u001b[0m\n\u001b[1;32m    139\u001b[0m         \u001b[0;34m\"edgecolor\"\u001b[0m\u001b[0;34m:\u001b[0m\u001b[0mfig\u001b[0m\u001b[0;34m.\u001b[0m\u001b[0mget_edgecolor\u001b[0m\u001b[0;34m(\u001b[0m\u001b[0;34m)\u001b[0m\u001b[0;34m,\u001b[0m\u001b[0;34m\u001b[0m\u001b[0;34m\u001b[0m\u001b[0m\n",
      "\u001b[0;32m/opt/homebrew/Caskroom/miniforge/base/envs/DataScience/lib/python3.8/site-packages/matplotlib/backend_bases.py\u001b[0m in \u001b[0;36mprint_figure\u001b[0;34m(self, filename, dpi, facecolor, edgecolor, orientation, format, bbox_inches, pad_inches, bbox_extra_artists, backend, **kwargs)\u001b[0m\n\u001b[1;32m   2232\u001b[0m             \u001b[0;32mif\u001b[0m \u001b[0mbbox_inches\u001b[0m\u001b[0;34m:\u001b[0m\u001b[0;34m\u001b[0m\u001b[0;34m\u001b[0m\u001b[0m\n\u001b[1;32m   2233\u001b[0m                 \u001b[0;32mif\u001b[0m \u001b[0mbbox_inches\u001b[0m \u001b[0;34m==\u001b[0m \u001b[0;34m\"tight\"\u001b[0m\u001b[0;34m:\u001b[0m\u001b[0;34m\u001b[0m\u001b[0;34m\u001b[0m\u001b[0m\n\u001b[0;32m-> 2234\u001b[0;31m                     bbox_inches = self.figure.get_tightbbox(\n\u001b[0m\u001b[1;32m   2235\u001b[0m                         renderer, bbox_extra_artists=bbox_extra_artists)\n\u001b[1;32m   2236\u001b[0m                     \u001b[0;32mif\u001b[0m \u001b[0mpad_inches\u001b[0m \u001b[0;32mis\u001b[0m \u001b[0;32mNone\u001b[0m\u001b[0;34m:\u001b[0m\u001b[0;34m\u001b[0m\u001b[0;34m\u001b[0m\u001b[0m\n",
      "\u001b[0;32m/opt/homebrew/Caskroom/miniforge/base/envs/DataScience/lib/python3.8/site-packages/matplotlib/figure.py\u001b[0m in \u001b[0;36mget_tightbbox\u001b[0;34m(self, renderer, bbox_extra_artists)\u001b[0m\n\u001b[1;32m   1646\u001b[0m                 \u001b[0;31m# need this conditional....\u001b[0m\u001b[0;34m\u001b[0m\u001b[0;34m\u001b[0m\u001b[0;34m\u001b[0m\u001b[0m\n\u001b[1;32m   1647\u001b[0m                 \u001b[0;32mtry\u001b[0m\u001b[0;34m:\u001b[0m\u001b[0;34m\u001b[0m\u001b[0;34m\u001b[0m\u001b[0m\n\u001b[0;32m-> 1648\u001b[0;31m                     bbox = ax.get_tightbbox(\n\u001b[0m\u001b[1;32m   1649\u001b[0m                         renderer, bbox_extra_artists=bbox_extra_artists)\n\u001b[1;32m   1650\u001b[0m                 \u001b[0;32mexcept\u001b[0m \u001b[0mTypeError\u001b[0m\u001b[0;34m:\u001b[0m\u001b[0;34m\u001b[0m\u001b[0;34m\u001b[0m\u001b[0m\n",
      "\u001b[0;32m/opt/homebrew/Caskroom/miniforge/base/envs/DataScience/lib/python3.8/site-packages/matplotlib/axes/_base.py\u001b[0m in \u001b[0;36mget_tightbbox\u001b[0;34m(self, renderer, call_axes_locator, bbox_extra_artists, for_layout_only)\u001b[0m\n\u001b[1;32m   4480\u001b[0m                     and 0 < bbox.height < np.inf):\n\u001b[1;32m   4481\u001b[0m                 \u001b[0mbb\u001b[0m\u001b[0;34m.\u001b[0m\u001b[0mappend\u001b[0m\u001b[0;34m(\u001b[0m\u001b[0mbbox\u001b[0m\u001b[0;34m)\u001b[0m\u001b[0;34m\u001b[0m\u001b[0;34m\u001b[0m\u001b[0m\n\u001b[0;32m-> 4482\u001b[0;31m         return mtransforms.Bbox.union(\n\u001b[0m\u001b[1;32m   4483\u001b[0m             [b for b in bb if b.width != 0 or b.height != 0])\n\u001b[1;32m   4484\u001b[0m \u001b[0;34m\u001b[0m\u001b[0m\n",
      "\u001b[0;32m/opt/homebrew/Caskroom/miniforge/base/envs/DataScience/lib/python3.8/site-packages/matplotlib/transforms.py\u001b[0m in \u001b[0;36munion\u001b[0;34m(bboxes)\u001b[0m\n\u001b[1;32m    679\u001b[0m             \u001b[0;32mraise\u001b[0m \u001b[0mValueError\u001b[0m\u001b[0;34m(\u001b[0m\u001b[0;34m\"'bboxes' cannot be empty\"\u001b[0m\u001b[0;34m)\u001b[0m\u001b[0;34m\u001b[0m\u001b[0;34m\u001b[0m\u001b[0m\n\u001b[1;32m    680\u001b[0m         \u001b[0mx0\u001b[0m \u001b[0;34m=\u001b[0m \u001b[0mnp\u001b[0m\u001b[0;34m.\u001b[0m\u001b[0mmin\u001b[0m\u001b[0;34m(\u001b[0m\u001b[0;34m[\u001b[0m\u001b[0mbbox\u001b[0m\u001b[0;34m.\u001b[0m\u001b[0mxmin\u001b[0m \u001b[0;32mfor\u001b[0m \u001b[0mbbox\u001b[0m \u001b[0;32min\u001b[0m \u001b[0mbboxes\u001b[0m\u001b[0;34m]\u001b[0m\u001b[0;34m)\u001b[0m\u001b[0;34m\u001b[0m\u001b[0;34m\u001b[0m\u001b[0m\n\u001b[0;32m--> 681\u001b[0;31m         \u001b[0mx1\u001b[0m \u001b[0;34m=\u001b[0m \u001b[0mnp\u001b[0m\u001b[0;34m.\u001b[0m\u001b[0mmax\u001b[0m\u001b[0;34m(\u001b[0m\u001b[0;34m[\u001b[0m\u001b[0mbbox\u001b[0m\u001b[0;34m.\u001b[0m\u001b[0mxmax\u001b[0m \u001b[0;32mfor\u001b[0m \u001b[0mbbox\u001b[0m \u001b[0;32min\u001b[0m \u001b[0mbboxes\u001b[0m\u001b[0;34m]\u001b[0m\u001b[0;34m)\u001b[0m\u001b[0;34m\u001b[0m\u001b[0;34m\u001b[0m\u001b[0m\n\u001b[0m\u001b[1;32m    682\u001b[0m         \u001b[0my0\u001b[0m \u001b[0;34m=\u001b[0m \u001b[0mnp\u001b[0m\u001b[0;34m.\u001b[0m\u001b[0mmin\u001b[0m\u001b[0;34m(\u001b[0m\u001b[0;34m[\u001b[0m\u001b[0mbbox\u001b[0m\u001b[0;34m.\u001b[0m\u001b[0mymin\u001b[0m \u001b[0;32mfor\u001b[0m \u001b[0mbbox\u001b[0m \u001b[0;32min\u001b[0m \u001b[0mbboxes\u001b[0m\u001b[0;34m]\u001b[0m\u001b[0;34m)\u001b[0m\u001b[0;34m\u001b[0m\u001b[0;34m\u001b[0m\u001b[0m\n\u001b[1;32m    683\u001b[0m         \u001b[0my1\u001b[0m \u001b[0;34m=\u001b[0m \u001b[0mnp\u001b[0m\u001b[0;34m.\u001b[0m\u001b[0mmax\u001b[0m\u001b[0;34m(\u001b[0m\u001b[0;34m[\u001b[0m\u001b[0mbbox\u001b[0m\u001b[0;34m.\u001b[0m\u001b[0mymax\u001b[0m \u001b[0;32mfor\u001b[0m \u001b[0mbbox\u001b[0m \u001b[0;32min\u001b[0m \u001b[0mbboxes\u001b[0m\u001b[0;34m]\u001b[0m\u001b[0;34m)\u001b[0m\u001b[0;34m\u001b[0m\u001b[0;34m\u001b[0m\u001b[0m\n",
      "\u001b[0;32m/opt/homebrew/Caskroom/miniforge/base/envs/DataScience/lib/python3.8/site-packages/matplotlib/transforms.py\u001b[0m in \u001b[0;36m<listcomp>\u001b[0;34m(.0)\u001b[0m\n\u001b[1;32m    679\u001b[0m             \u001b[0;32mraise\u001b[0m \u001b[0mValueError\u001b[0m\u001b[0;34m(\u001b[0m\u001b[0;34m\"'bboxes' cannot be empty\"\u001b[0m\u001b[0;34m)\u001b[0m\u001b[0;34m\u001b[0m\u001b[0;34m\u001b[0m\u001b[0m\n\u001b[1;32m    680\u001b[0m         \u001b[0mx0\u001b[0m \u001b[0;34m=\u001b[0m \u001b[0mnp\u001b[0m\u001b[0;34m.\u001b[0m\u001b[0mmin\u001b[0m\u001b[0;34m(\u001b[0m\u001b[0;34m[\u001b[0m\u001b[0mbbox\u001b[0m\u001b[0;34m.\u001b[0m\u001b[0mxmin\u001b[0m \u001b[0;32mfor\u001b[0m \u001b[0mbbox\u001b[0m \u001b[0;32min\u001b[0m \u001b[0mbboxes\u001b[0m\u001b[0;34m]\u001b[0m\u001b[0;34m)\u001b[0m\u001b[0;34m\u001b[0m\u001b[0;34m\u001b[0m\u001b[0m\n\u001b[0;32m--> 681\u001b[0;31m         \u001b[0mx1\u001b[0m \u001b[0;34m=\u001b[0m \u001b[0mnp\u001b[0m\u001b[0;34m.\u001b[0m\u001b[0mmax\u001b[0m\u001b[0;34m(\u001b[0m\u001b[0;34m[\u001b[0m\u001b[0mbbox\u001b[0m\u001b[0;34m.\u001b[0m\u001b[0mxmax\u001b[0m \u001b[0;32mfor\u001b[0m \u001b[0mbbox\u001b[0m \u001b[0;32min\u001b[0m \u001b[0mbboxes\u001b[0m\u001b[0;34m]\u001b[0m\u001b[0;34m)\u001b[0m\u001b[0;34m\u001b[0m\u001b[0;34m\u001b[0m\u001b[0m\n\u001b[0m\u001b[1;32m    682\u001b[0m         \u001b[0my0\u001b[0m \u001b[0;34m=\u001b[0m \u001b[0mnp\u001b[0m\u001b[0;34m.\u001b[0m\u001b[0mmin\u001b[0m\u001b[0;34m(\u001b[0m\u001b[0;34m[\u001b[0m\u001b[0mbbox\u001b[0m\u001b[0;34m.\u001b[0m\u001b[0mymin\u001b[0m \u001b[0;32mfor\u001b[0m \u001b[0mbbox\u001b[0m \u001b[0;32min\u001b[0m \u001b[0mbboxes\u001b[0m\u001b[0;34m]\u001b[0m\u001b[0;34m)\u001b[0m\u001b[0;34m\u001b[0m\u001b[0;34m\u001b[0m\u001b[0m\n\u001b[1;32m    683\u001b[0m         \u001b[0my1\u001b[0m \u001b[0;34m=\u001b[0m \u001b[0mnp\u001b[0m\u001b[0;34m.\u001b[0m\u001b[0mmax\u001b[0m\u001b[0;34m(\u001b[0m\u001b[0;34m[\u001b[0m\u001b[0mbbox\u001b[0m\u001b[0;34m.\u001b[0m\u001b[0mymax\u001b[0m \u001b[0;32mfor\u001b[0m \u001b[0mbbox\u001b[0m \u001b[0;32min\u001b[0m \u001b[0mbboxes\u001b[0m\u001b[0;34m]\u001b[0m\u001b[0;34m)\u001b[0m\u001b[0;34m\u001b[0m\u001b[0;34m\u001b[0m\u001b[0m\n",
      "\u001b[0;32m/opt/homebrew/Caskroom/miniforge/base/envs/DataScience/lib/python3.8/site-packages/matplotlib/transforms.py\u001b[0m in \u001b[0;36mxmax\u001b[0;34m(self)\u001b[0m\n\u001b[1;32m    337\u001b[0m     \u001b[0;32mdef\u001b[0m \u001b[0mxmax\u001b[0m\u001b[0;34m(\u001b[0m\u001b[0mself\u001b[0m\u001b[0;34m)\u001b[0m\u001b[0;34m:\u001b[0m\u001b[0;34m\u001b[0m\u001b[0;34m\u001b[0m\u001b[0m\n\u001b[1;32m    338\u001b[0m         \u001b[0;34m\"\"\"The right edge of the bounding box.\"\"\"\u001b[0m\u001b[0;34m\u001b[0m\u001b[0;34m\u001b[0m\u001b[0m\n\u001b[0;32m--> 339\u001b[0;31m         \u001b[0;32mreturn\u001b[0m \u001b[0mnp\u001b[0m\u001b[0;34m.\u001b[0m\u001b[0mmax\u001b[0m\u001b[0;34m(\u001b[0m\u001b[0mself\u001b[0m\u001b[0;34m.\u001b[0m\u001b[0mget_points\u001b[0m\u001b[0;34m(\u001b[0m\u001b[0;34m)\u001b[0m\u001b[0;34m[\u001b[0m\u001b[0;34m:\u001b[0m\u001b[0;34m,\u001b[0m \u001b[0;36m0\u001b[0m\u001b[0;34m]\u001b[0m\u001b[0;34m)\u001b[0m\u001b[0;34m\u001b[0m\u001b[0;34m\u001b[0m\u001b[0m\n\u001b[0m\u001b[1;32m    340\u001b[0m \u001b[0;34m\u001b[0m\u001b[0m\n\u001b[1;32m    341\u001b[0m     \u001b[0;34m@\u001b[0m\u001b[0mproperty\u001b[0m\u001b[0;34m\u001b[0m\u001b[0;34m\u001b[0m\u001b[0m\n",
      "\u001b[0;32m<__array_function__ internals>\u001b[0m in \u001b[0;36mamax\u001b[0;34m(*args, **kwargs)\u001b[0m\n",
      "\u001b[0;32m/opt/homebrew/Caskroom/miniforge/base/envs/DataScience/lib/python3.8/site-packages/numpy/core/fromnumeric.py\u001b[0m in \u001b[0;36mamax\u001b[0;34m(a, axis, out, keepdims, initial, where)\u001b[0m\n\u001b[1;32m   2703\u001b[0m     \u001b[0;36m5\u001b[0m\u001b[0;34m\u001b[0m\u001b[0;34m\u001b[0m\u001b[0m\n\u001b[1;32m   2704\u001b[0m     \"\"\"\n\u001b[0;32m-> 2705\u001b[0;31m     return _wrapreduction(a, np.maximum, 'max', axis, None, out,\n\u001b[0m\u001b[1;32m   2706\u001b[0m                           keepdims=keepdims, initial=initial, where=where)\n\u001b[1;32m   2707\u001b[0m \u001b[0;34m\u001b[0m\u001b[0m\n",
      "\u001b[0;32m/opt/homebrew/Caskroom/miniforge/base/envs/DataScience/lib/python3.8/site-packages/numpy/core/fromnumeric.py\u001b[0m in \u001b[0;36m_wrapreduction\u001b[0;34m(obj, ufunc, method, axis, dtype, out, **kwargs)\u001b[0m\n\u001b[1;32m     68\u001b[0m \u001b[0;34m\u001b[0m\u001b[0m\n\u001b[1;32m     69\u001b[0m \u001b[0;34m\u001b[0m\u001b[0m\n\u001b[0;32m---> 70\u001b[0;31m \u001b[0;32mdef\u001b[0m \u001b[0m_wrapreduction\u001b[0m\u001b[0;34m(\u001b[0m\u001b[0mobj\u001b[0m\u001b[0;34m,\u001b[0m \u001b[0mufunc\u001b[0m\u001b[0;34m,\u001b[0m \u001b[0mmethod\u001b[0m\u001b[0;34m,\u001b[0m \u001b[0maxis\u001b[0m\u001b[0;34m,\u001b[0m \u001b[0mdtype\u001b[0m\u001b[0;34m,\u001b[0m \u001b[0mout\u001b[0m\u001b[0;34m,\u001b[0m \u001b[0;34m**\u001b[0m\u001b[0mkwargs\u001b[0m\u001b[0;34m)\u001b[0m\u001b[0;34m:\u001b[0m\u001b[0;34m\u001b[0m\u001b[0;34m\u001b[0m\u001b[0m\n\u001b[0m\u001b[1;32m     71\u001b[0m     passkwargs = {k: v for k, v in kwargs.items()\n\u001b[1;32m     72\u001b[0m                   if v is not np._NoValue}\n",
      "\u001b[0;31mKeyboardInterrupt\u001b[0m: "
     ]
    }
   ],
   "source": [
    "# GAN Training Loop\n",
    "pd.options.mode.chained_assignment = None  # default='warn'\n",
    "\n",
    "post_epochs = 300\n",
    "\n",
    "imgs_dicts = {}\n",
    "\n",
    "\n",
    "for i in range(10):\n",
    "  print(f\"** TRAINING  {i} **\")\n",
    "  gen_loss_dict = {}\n",
    "  dis_loss_dict = {}\n",
    "  d_loss_plot = []\n",
    "  d_real_loss_plot = []\n",
    "  d_fake_loss_plot = []\n",
    "  g_loss_plot = []\n",
    "\n",
    "  for pre_epochs in [100,150,200,300]:\n",
    "    path = f\"generated/images_{pre_epochs}pre_{post_epochs}post_test/\"\n",
    "    \n",
    "    gen_loss_dict = {}\n",
    "    dis_loss_dict = {}\n",
    "    d_loss_plot = []\n",
    "    d_real_loss_plot = []\n",
    "    d_fake_loss_plot = []\n",
    "    g_loss_plot = []\n",
    "\n",
    "    # Dict to save dicts with generated images per epoche\n",
    "    imgs_dicts[str(i)] = {}\n",
    "    generator = create_generator_model()\n",
    "    discriminator = make_discriminator_model()\n",
    "    train(datasets_train[i], str(i), pre_epochs, generator=generator, discriminator=discriminator, save_images_dict=imgs_dicts[str(i)])\n",
    "    save_losses(loss_lists=[[x.numpy() for x in g_loss_plot],[x.numpy() for x in d_real_loss_plot],[x.numpy() for x in d_fake_loss_plot]], dataclass=i)\n",
    "    plot_loss(str(i), d_loss_plot, g_loss_plot)#, d_real_loss_plot, d_fake_loss_plot)\n",
    "\n",
    "    # Evaluate generated images using SVM classifier\n",
    "    evaluate_images_w_svm(imgs_dicts[str(i)], str(i), pre_epochs)\n",
    "\n",
    "    for j in range(10):\n",
    "      if i != j:\n",
    "        print(f\"** TRAINING  {i}{j} **\")\n",
    "        imgs_dicts[f\"{i}{j}\"] = {}\n",
    "        generator_cpy = tf.keras.models.clone_model(generator)\n",
    "        generator_cpy.build((None, 100))\n",
    "        generator_cpy.compile(optimizer=generator_optimizer, loss='categorical_crossentropy')\n",
    "        generator_cpy.set_weights(generator.get_weights())\n",
    "        discriminator_cpy = tf.keras.models.clone_model(discriminator)\n",
    "        discriminator_cpy.build((None, [28, 28, 1]))\n",
    "        discriminator_cpy.compile(optimizer=discriminator_optimizer, loss='categorical_crossentropy')\n",
    "        discriminator_cpy.set_weights(discriminator.get_weights())\n",
    "\n",
    "        gen_loss_dict = {}\n",
    "        dis_loss_dict = {}\n",
    "        d_loss_plot = []\n",
    "        d_real_loss_plot = []\n",
    "        d_fake_loss_plot = []\n",
    "        g_loss_plot = []\n",
    "\n",
    "        train(datasets_train[j], f\"{i}{j}\", post_epochs, generator=generator_cpy, discriminator=discriminator_cpy, save_images_dict=imgs_dicts[f\"{i}{j}\"])\n",
    "        save_losses(loss_lists=[[x.numpy() for x in g_loss_plot],[x.numpy() for x in d_real_loss_plot],[x.numpy() for x in d_fake_loss_plot]], dataclass=f\"{i}{j}\")\n",
    "        plot_loss(f\"{i}{j}\", d_loss_plot, g_loss_plot)#, d_real_loss_plot, d_fake_loss_plot)\n",
    "\n",
    "        # Evaluate generated images using SVM classifier\n",
    "        evaluate_images_w_svm(imgs_dicts[f\"{i}{j}\"], f\"{i}{j}\", post_epochs)\n",
    "        \"\"\"\n",
    "        # Sleep for 60 seconds every 2nd round (cool down GPU)\n",
    "        if j % 2 != 0:\n",
    "          print(\" ++ Waiting 20 Seconds. ++\")\n",
    "          time.sleep(20)\n",
    "        \"\"\"\n",
    "      else:\n",
    "        print(f\"-- NOT TRAINING  {i}{j} --\")\n"
   ]
  },
  {
   "cell_type": "code",
   "execution_count": null,
   "metadata": {},
   "outputs": [],
   "source": []
  },
  {
   "cell_type": "code",
   "execution_count": null,
   "metadata": {},
   "outputs": [],
   "source": []
  }
 ],
 "metadata": {
  "interpreter": {
   "hash": "9842a4bdf51560a3b283fac5cc4929f97292a62b2d6c868e7d0e623934b2f6d3"
  },
  "kernelspec": {
   "display_name": "Python 3.8.12 64-bit ('DataScience': conda)",
   "language": "python",
   "name": "python3"
  },
  "language_info": {
   "codemirror_mode": {
    "name": "ipython",
    "version": 3
   },
   "file_extension": ".py",
   "mimetype": "text/x-python",
   "name": "python",
   "nbconvert_exporter": "python",
   "pygments_lexer": "ipython3",
   "version": "3.8.12"
  },
  "orig_nbformat": 4
 },
 "nbformat": 4,
 "nbformat_minor": 2
}
